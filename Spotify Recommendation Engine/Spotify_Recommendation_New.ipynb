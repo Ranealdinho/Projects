{
 "cells": [
  {
   "cell_type": "markdown",
   "metadata": {},
   "source": [
    "# Spotify Recommendation Engine"
   ]
  },
  {
   "cell_type": "markdown",
   "metadata": {},
   "source": [
    "For this  project, I will be attempting to use classification models to try to predict and recommend songs that I would enjoy, based on my own Spotify data. All the data used in this capstone was collected by me using the Spotify API, Spotipy."
   ]
  },
  {
   "cell_type": "code",
   "execution_count": 49,
   "metadata": {},
   "outputs": [],
   "source": [
    "import pandas as pd\n",
    "\n",
    "import seaborn as sns\n",
    "import matplotlib.pyplot as plt\n",
    "# import matplotlib.ticker as ticker\n",
    "\n",
    "\n",
    "from sklearn.preprocessing import MinMaxScaler\n",
    "from sklearn.metrics import accuracy_score\n",
    "from sklearn.ensemble import RandomForestClassifier\n",
    "from sklearn.neighbors import KNeighborsClassifier\n",
    "from sklearn.linear_model import LogisticRegression\n",
    "from sklearn.feature_selection import RFECV\n",
    "from sklearn.model_selection import train_test_split, StratifiedKFold, GridSearchCV, RandomizedSearchCV\n",
    "from sklearn.metrics import classification_report\n",
    "\n",
    "\n",
    "\n",
    "import warnings\n",
    "warnings.filterwarnings(\"ignore\")\n",
    "\n",
    "# pd.set_option(\"display.max_rows\", None)\n",
    "# pd.set_option('display.max_columns', None)"
   ]
  },
  {
   "cell_type": "code",
   "execution_count": 4,
   "metadata": {},
   "outputs": [],
   "source": [
    "#loading datasets\n",
    "\n",
    "#Datasets used to rate the training dataset\n",
    "top_artist_df = pd.read_pickle(\"top_artists.pkl\")\n",
    "top_tracks_df = pd.read_pickle(\"top_tracks.pkl\")\n",
    "\n",
    "#Training Dataset\n",
    "saved_tracks_df = pd.read_pickle(\"saved_tracks.pkl\")\n",
    "\n",
    "#Validation dataset\n",
    "recommendation_tracks_df = pd.read_pickle(\"recommendation_tracks.pkl\")"
   ]
  },
  {
   "cell_type": "code",
   "execution_count": 5,
   "metadata": {},
   "outputs": [],
   "source": [
    "#removing duplicates of songs from the validation playlist\n",
    "recommendation_tracks_df = recommendation_tracks_df.drop_duplicates(subset='id', keep=\"first\").reset_index()"
   ]
  },
  {
   "cell_type": "markdown",
   "metadata": {},
   "source": [
    "First thing I want to do is to check the shapes and variables in my playlists."
   ]
  },
  {
   "cell_type": "code",
   "execution_count": 6,
   "metadata": {},
   "outputs": [
    {
     "data": {
      "text/plain": "(60, 6)"
     },
     "execution_count": 6,
     "metadata": {},
     "output_type": "execute_result"
    }
   ],
   "source": [
    "top_artist_df.shape"
   ]
  },
  {
   "cell_type": "code",
   "execution_count": 7,
   "metadata": {},
   "outputs": [
    {
     "name": "stdout",
     "output_type": "stream",
     "text": [
      "<class 'pandas.core.frame.DataFrame'>\n",
      "RangeIndex: 60 entries, 0 to 59\n",
      "Data columns (total 6 columns):\n",
      " #   Column     Non-Null Count  Dtype \n",
      "---  ------     --------------  ----- \n",
      " 0   id         60 non-null     object\n",
      " 1   uri        60 non-null     object\n",
      " 2   type       60 non-null     object\n",
      " 3   name       60 non-null     object\n",
      " 4   genres     60 non-null     object\n",
      " 5   followers  60 non-null     int64 \n",
      "dtypes: int64(1), object(5)\n",
      "memory usage: 2.9+ KB\n"
     ]
    }
   ],
   "source": [
    "top_artist_df.info()"
   ]
  },
  {
   "cell_type": "code",
   "execution_count": 8,
   "metadata": {},
   "outputs": [
    {
     "name": "stdout",
     "output_type": "stream",
     "text": [
      "<class 'pandas.core.frame.DataFrame'>\n",
      "RangeIndex: 60 entries, 0 to 59\n",
      "Data columns (total 6 columns):\n",
      " #   Column     Non-Null Count  Dtype \n",
      "---  ------     --------------  ----- \n",
      " 0   artist_id  60 non-null     object\n",
      " 1   uri        60 non-null     object\n",
      " 2   type       60 non-null     object\n",
      " 3   name       60 non-null     object\n",
      " 4   genres     60 non-null     object\n",
      " 5   followers  60 non-null     int64 \n",
      "dtypes: int64(1), object(5)\n",
      "memory usage: 2.9+ KB\n"
     ]
    }
   ],
   "source": [
    "#Changing \"id\" to \"artist_id\" to match other dataset\n",
    "top_artist_df = top_artist_df.rename(columns={'id': 'artist_id'})\n",
    "top_artist_df.info()"
   ]
  },
  {
   "cell_type": "code",
   "execution_count": 9,
   "metadata": {},
   "outputs": [
    {
     "data": {
      "text/plain": "                 artist_id                                    uri    type  \\\n0   3HiuzBlSW7pGDXlSFMhO2g  spotify:artist:3HiuzBlSW7pGDXlSFMhO2g  artist   \n1   2Waw2sSbqvAwK8NwACNjVo  spotify:artist:2Waw2sSbqvAwK8NwACNjVo  artist   \n2   2GeutBKR3pXPk1OBmDYWD3  spotify:artist:2GeutBKR3pXPk1OBmDYWD3  artist   \n3   1yxSLGMDHlW21z4YXirZDS  spotify:artist:1yxSLGMDHlW21z4YXirZDS  artist   \n4   3WrFJ7ztbogyGnTHbHJFl2  spotify:artist:3WrFJ7ztbogyGnTHbHJFl2  artist   \n5   2DaxqgrOhkeH0fpeiQq2f4  spotify:artist:2DaxqgrOhkeH0fpeiQq2f4  artist   \n6   3TVXtAsR1Inumwj472S9r4  spotify:artist:3TVXtAsR1Inumwj472S9r4  artist   \n7   0RESbWvOMyua0yuyVrztJ5  spotify:artist:0RESbWvOMyua0yuyVrztJ5  artist   \n8   13y7CgLHjMVRMDqxdx0Xdo  spotify:artist:13y7CgLHjMVRMDqxdx0Xdo  artist   \n9   5K4W6rqBFWDnAN6FQUkS6x  spotify:artist:5K4W6rqBFWDnAN6FQUkS6x  artist   \n10  0BEYTctVmnYa5yStp4Jpab  spotify:artist:0BEYTctVmnYa5yStp4Jpab  artist   \n11  5f7VJjfbwm532GiveGC0ZK  spotify:artist:5f7VJjfbwm532GiveGC0ZK  artist   \n12  67nwj3Y5sZQLl72VNUHEYE  spotify:artist:67nwj3Y5sZQLl72VNUHEYE  artist   \n13  4cUkGQyhLFqKHBtL58HYVp  spotify:artist:4cUkGQyhLFqKHBtL58HYVp  artist   \n14  6l3HvQ5sa6mXTsMTB19rO5  spotify:artist:6l3HvQ5sa6mXTsMTB19rO5  artist   \n15  2d0hyoQ5ynDBnkvAbJKORj  spotify:artist:2d0hyoQ5ynDBnkvAbJKORj  artist   \n16  2p1fiYHYiXz9qi0JJyxBzN  spotify:artist:2p1fiYHYiXz9qi0JJyxBzN  artist   \n17  3tJoFztHeIJkJWMrx0td2f  spotify:artist:3tJoFztHeIJkJWMrx0td2f  artist   \n18  6oMuImdp5ZcFhWP0ESe6mG  spotify:artist:6oMuImdp5ZcFhWP0ESe6mG  artist   \n19  738wLrAtLtCtFOLvQBXOXp  spotify:artist:738wLrAtLtCtFOLvQBXOXp  artist   \n\n                        name  \\\n0                Young Dolph   \n1                 Bo Burnham   \n2             Laurent Korcia   \n3            Black Eyed Peas   \n4                The Beatles   \n5                      Oasis   \n6                      Drake   \n7                  Key Glock   \n8                 Gucci Mane   \n9                 Kanye West   \n10                 Destructo   \n11                  Lil Baby   \n12                      Wale   \n13              Channel Tres   \n14                   J. Cole   \n15  Rage Against The Machine   \n16                    Skepta   \n17              Moneybagg Yo   \n18                     Migos   \n19               Major Lazer   \n\n                                               genres  followers  \n0   [gangster rap, hip hop, memphis hip hop, rap, ...    1831256  \n1                                             [comic]    1297100  \n2                                            [violin]       1497  \n3                           [dance pop, pop, pop rap]    6276967  \n4   [beatlesque, british invasion, classic rock, m...   21322261  \n5   [beatlesque, britpop, madchester, permanent wa...    6847875  \n6   [canadian hip hop, canadian pop, hip hop, rap,...   59353055  \n7   [hip hop, memphis hip hop, rap, southern hip h...    1023419  \n8   [atl hip hop, dirty south rap, gangster rap, h...    4082289  \n9                                  [chicago rap, rap]   15846203  \n10  [bass house, edm, electro house, electronic trap]      56604  \n11                 [atl hip hop, atl trap, rap, trap]    8946829  \n12  [hip hop, pop, pop rap, r&b, rap, southern hip...    3393642  \n13                               [indie soul, la pop]     179207  \n14  [conscious hip hop, hip hop, north carolina hi...   15222013  \n15  [alternative metal, alternative rock, consciou...    4592729  \n16  [birmingham grime, grime, instrumental grime, ...     985200  \n17  [hip hop, memphis hip hop, rap, southern hip h...    2508941  \n18                  [atl hip hop, pop rap, rap, trap]   11963671  \n19  [dance pop, edm, electro house, moombahton, po...    6250741  ",
      "text/html": "<div>\n<style scoped>\n    .dataframe tbody tr th:only-of-type {\n        vertical-align: middle;\n    }\n\n    .dataframe tbody tr th {\n        vertical-align: top;\n    }\n\n    .dataframe thead th {\n        text-align: right;\n    }\n</style>\n<table border=\"1\" class=\"dataframe\">\n  <thead>\n    <tr style=\"text-align: right;\">\n      <th></th>\n      <th>artist_id</th>\n      <th>uri</th>\n      <th>type</th>\n      <th>name</th>\n      <th>genres</th>\n      <th>followers</th>\n    </tr>\n  </thead>\n  <tbody>\n    <tr>\n      <th>0</th>\n      <td>3HiuzBlSW7pGDXlSFMhO2g</td>\n      <td>spotify:artist:3HiuzBlSW7pGDXlSFMhO2g</td>\n      <td>artist</td>\n      <td>Young Dolph</td>\n      <td>[gangster rap, hip hop, memphis hip hop, rap, ...</td>\n      <td>1831256</td>\n    </tr>\n    <tr>\n      <th>1</th>\n      <td>2Waw2sSbqvAwK8NwACNjVo</td>\n      <td>spotify:artist:2Waw2sSbqvAwK8NwACNjVo</td>\n      <td>artist</td>\n      <td>Bo Burnham</td>\n      <td>[comic]</td>\n      <td>1297100</td>\n    </tr>\n    <tr>\n      <th>2</th>\n      <td>2GeutBKR3pXPk1OBmDYWD3</td>\n      <td>spotify:artist:2GeutBKR3pXPk1OBmDYWD3</td>\n      <td>artist</td>\n      <td>Laurent Korcia</td>\n      <td>[violin]</td>\n      <td>1497</td>\n    </tr>\n    <tr>\n      <th>3</th>\n      <td>1yxSLGMDHlW21z4YXirZDS</td>\n      <td>spotify:artist:1yxSLGMDHlW21z4YXirZDS</td>\n      <td>artist</td>\n      <td>Black Eyed Peas</td>\n      <td>[dance pop, pop, pop rap]</td>\n      <td>6276967</td>\n    </tr>\n    <tr>\n      <th>4</th>\n      <td>3WrFJ7ztbogyGnTHbHJFl2</td>\n      <td>spotify:artist:3WrFJ7ztbogyGnTHbHJFl2</td>\n      <td>artist</td>\n      <td>The Beatles</td>\n      <td>[beatlesque, british invasion, classic rock, m...</td>\n      <td>21322261</td>\n    </tr>\n    <tr>\n      <th>5</th>\n      <td>2DaxqgrOhkeH0fpeiQq2f4</td>\n      <td>spotify:artist:2DaxqgrOhkeH0fpeiQq2f4</td>\n      <td>artist</td>\n      <td>Oasis</td>\n      <td>[beatlesque, britpop, madchester, permanent wa...</td>\n      <td>6847875</td>\n    </tr>\n    <tr>\n      <th>6</th>\n      <td>3TVXtAsR1Inumwj472S9r4</td>\n      <td>spotify:artist:3TVXtAsR1Inumwj472S9r4</td>\n      <td>artist</td>\n      <td>Drake</td>\n      <td>[canadian hip hop, canadian pop, hip hop, rap,...</td>\n      <td>59353055</td>\n    </tr>\n    <tr>\n      <th>7</th>\n      <td>0RESbWvOMyua0yuyVrztJ5</td>\n      <td>spotify:artist:0RESbWvOMyua0yuyVrztJ5</td>\n      <td>artist</td>\n      <td>Key Glock</td>\n      <td>[hip hop, memphis hip hop, rap, southern hip h...</td>\n      <td>1023419</td>\n    </tr>\n    <tr>\n      <th>8</th>\n      <td>13y7CgLHjMVRMDqxdx0Xdo</td>\n      <td>spotify:artist:13y7CgLHjMVRMDqxdx0Xdo</td>\n      <td>artist</td>\n      <td>Gucci Mane</td>\n      <td>[atl hip hop, dirty south rap, gangster rap, h...</td>\n      <td>4082289</td>\n    </tr>\n    <tr>\n      <th>9</th>\n      <td>5K4W6rqBFWDnAN6FQUkS6x</td>\n      <td>spotify:artist:5K4W6rqBFWDnAN6FQUkS6x</td>\n      <td>artist</td>\n      <td>Kanye West</td>\n      <td>[chicago rap, rap]</td>\n      <td>15846203</td>\n    </tr>\n    <tr>\n      <th>10</th>\n      <td>0BEYTctVmnYa5yStp4Jpab</td>\n      <td>spotify:artist:0BEYTctVmnYa5yStp4Jpab</td>\n      <td>artist</td>\n      <td>Destructo</td>\n      <td>[bass house, edm, electro house, electronic trap]</td>\n      <td>56604</td>\n    </tr>\n    <tr>\n      <th>11</th>\n      <td>5f7VJjfbwm532GiveGC0ZK</td>\n      <td>spotify:artist:5f7VJjfbwm532GiveGC0ZK</td>\n      <td>artist</td>\n      <td>Lil Baby</td>\n      <td>[atl hip hop, atl trap, rap, trap]</td>\n      <td>8946829</td>\n    </tr>\n    <tr>\n      <th>12</th>\n      <td>67nwj3Y5sZQLl72VNUHEYE</td>\n      <td>spotify:artist:67nwj3Y5sZQLl72VNUHEYE</td>\n      <td>artist</td>\n      <td>Wale</td>\n      <td>[hip hop, pop, pop rap, r&amp;b, rap, southern hip...</td>\n      <td>3393642</td>\n    </tr>\n    <tr>\n      <th>13</th>\n      <td>4cUkGQyhLFqKHBtL58HYVp</td>\n      <td>spotify:artist:4cUkGQyhLFqKHBtL58HYVp</td>\n      <td>artist</td>\n      <td>Channel Tres</td>\n      <td>[indie soul, la pop]</td>\n      <td>179207</td>\n    </tr>\n    <tr>\n      <th>14</th>\n      <td>6l3HvQ5sa6mXTsMTB19rO5</td>\n      <td>spotify:artist:6l3HvQ5sa6mXTsMTB19rO5</td>\n      <td>artist</td>\n      <td>J. Cole</td>\n      <td>[conscious hip hop, hip hop, north carolina hi...</td>\n      <td>15222013</td>\n    </tr>\n    <tr>\n      <th>15</th>\n      <td>2d0hyoQ5ynDBnkvAbJKORj</td>\n      <td>spotify:artist:2d0hyoQ5ynDBnkvAbJKORj</td>\n      <td>artist</td>\n      <td>Rage Against The Machine</td>\n      <td>[alternative metal, alternative rock, consciou...</td>\n      <td>4592729</td>\n    </tr>\n    <tr>\n      <th>16</th>\n      <td>2p1fiYHYiXz9qi0JJyxBzN</td>\n      <td>spotify:artist:2p1fiYHYiXz9qi0JJyxBzN</td>\n      <td>artist</td>\n      <td>Skepta</td>\n      <td>[birmingham grime, grime, instrumental grime, ...</td>\n      <td>985200</td>\n    </tr>\n    <tr>\n      <th>17</th>\n      <td>3tJoFztHeIJkJWMrx0td2f</td>\n      <td>spotify:artist:3tJoFztHeIJkJWMrx0td2f</td>\n      <td>artist</td>\n      <td>Moneybagg Yo</td>\n      <td>[hip hop, memphis hip hop, rap, southern hip h...</td>\n      <td>2508941</td>\n    </tr>\n    <tr>\n      <th>18</th>\n      <td>6oMuImdp5ZcFhWP0ESe6mG</td>\n      <td>spotify:artist:6oMuImdp5ZcFhWP0ESe6mG</td>\n      <td>artist</td>\n      <td>Migos</td>\n      <td>[atl hip hop, pop rap, rap, trap]</td>\n      <td>11963671</td>\n    </tr>\n    <tr>\n      <th>19</th>\n      <td>738wLrAtLtCtFOLvQBXOXp</td>\n      <td>spotify:artist:738wLrAtLtCtFOLvQBXOXp</td>\n      <td>artist</td>\n      <td>Major Lazer</td>\n      <td>[dance pop, edm, electro house, moombahton, po...</td>\n      <td>6250741</td>\n    </tr>\n  </tbody>\n</table>\n</div>"
     },
     "execution_count": 9,
     "metadata": {},
     "output_type": "execute_result"
    }
   ],
   "source": [
    "#Looking at my top artists, which will be important for applying a ranking to the main dataset used for training\n",
    "top_artist_df.head(20)"
   ]
  },
  {
   "cell_type": "code",
   "execution_count": 10,
   "metadata": {},
   "outputs": [
    {
     "data": {
      "text/plain": "(60, 35)"
     },
     "execution_count": 10,
     "metadata": {},
     "output_type": "execute_result"
    }
   ],
   "source": [
    "top_tracks_df.shape"
   ]
  },
  {
   "cell_type": "code",
   "execution_count": 11,
   "metadata": {},
   "outputs": [
    {
     "name": "stdout",
     "output_type": "stream",
     "text": [
      "<class 'pandas.core.frame.DataFrame'>\n",
      "RangeIndex: 60 entries, 0 to 59\n",
      "Data columns (total 35 columns):\n",
      " #   Column              Non-Null Count  Dtype  \n",
      "---  ------              --------------  -----  \n",
      " 0   id                  60 non-null     object \n",
      " 1   name                60 non-null     object \n",
      " 2   popularity          60 non-null     int64  \n",
      " 3   type                60 non-null     object \n",
      " 4   is_local            60 non-null     bool   \n",
      " 5   explicit            60 non-null     bool   \n",
      " 6   duration_ms         60 non-null     int64  \n",
      " 7   disc_number         60 non-null     int64  \n",
      " 8   track_number        60 non-null     int64  \n",
      " 9   artist_id           60 non-null     object \n",
      " 10  artist_name         60 non-null     object \n",
      " 11  album_artist_id     60 non-null     object \n",
      " 12  album_artist_name   60 non-null     object \n",
      " 13  album_id            60 non-null     object \n",
      " 14  album_name          60 non-null     object \n",
      " 15  album_release_date  60 non-null     object \n",
      " 16  album_tracks        60 non-null     int64  \n",
      " 17  album_type          60 non-null     object \n",
      " 18  genres              60 non-null     object \n",
      " 19  album_genres        60 non-null     object \n",
      " 20  danceability        60 non-null     float64\n",
      " 21  energy              60 non-null     float64\n",
      " 22  key                 60 non-null     int64  \n",
      " 23  loudness            60 non-null     float64\n",
      " 24  mode                60 non-null     int64  \n",
      " 25  speechiness         60 non-null     float64\n",
      " 26  acousticness        60 non-null     float64\n",
      " 27  instrumentalness    60 non-null     float64\n",
      " 28  liveness            60 non-null     float64\n",
      " 29  valence             60 non-null     float64\n",
      " 30  tempo               60 non-null     float64\n",
      " 31  uri                 60 non-null     object \n",
      " 32  track_href          60 non-null     object \n",
      " 33  analysis_url        60 non-null     object \n",
      " 34  time_signature      60 non-null     int64  \n",
      "dtypes: bool(2), float64(9), int64(8), object(16)\n",
      "memory usage: 15.7+ KB\n"
     ]
    }
   ],
   "source": [
    "top_tracks_df.info()"
   ]
  },
  {
   "cell_type": "code",
   "execution_count": 12,
   "metadata": {},
   "outputs": [
    {
     "data": {
      "text/plain": "id                    0\nname                  0\npopularity            0\ntype                  0\nis_local              0\nexplicit              0\nduration_ms           0\ndisc_number           0\ntrack_number          0\nartist_id             0\nartist_name           0\nalbum_artist_id       0\nalbum_artist_name     0\nalbum_id              0\nalbum_name            0\nalbum_release_date    0\nalbum_tracks          0\nalbum_type            0\ngenres                0\nalbum_genres          0\ndanceability          0\nenergy                0\nkey                   0\nloudness              0\nmode                  0\nspeechiness           0\nacousticness          0\ninstrumentalness      0\nliveness              0\nvalence               0\ntempo                 0\nuri                   0\ntrack_href            0\nanalysis_url          0\ntime_signature        0\ndtype: int64"
     },
     "execution_count": 12,
     "metadata": {},
     "output_type": "execute_result"
    }
   ],
   "source": [
    "# Checking for nulls\n",
    "top_tracks_df.isnull().sum()"
   ]
  },
  {
   "cell_type": "code",
   "execution_count": 13,
   "metadata": {},
   "outputs": [
    {
     "data": {
      "text/plain": "(1133, 36)"
     },
     "execution_count": 13,
     "metadata": {},
     "output_type": "execute_result"
    }
   ],
   "source": [
    "saved_tracks_df.shape"
   ]
  },
  {
   "cell_type": "code",
   "execution_count": 14,
   "metadata": {},
   "outputs": [
    {
     "name": "stdout",
     "output_type": "stream",
     "text": [
      "<class 'pandas.core.frame.DataFrame'>\n",
      "RangeIndex: 1133 entries, 0 to 1132\n",
      "Data columns (total 36 columns):\n",
      " #   Column              Non-Null Count  Dtype  \n",
      "---  ------              --------------  -----  \n",
      " 0   id                  1131 non-null   object \n",
      " 1   name                1133 non-null   object \n",
      " 2   popularity          1133 non-null   int64  \n",
      " 3   type                1131 non-null   object \n",
      " 4   is_local            1133 non-null   bool   \n",
      " 5   explicit            1133 non-null   bool   \n",
      " 6   duration_ms         1131 non-null   float64\n",
      " 7   disc_number         1133 non-null   int64  \n",
      " 8   track_number        1133 non-null   int64  \n",
      " 9   artist_id           1133 non-null   object \n",
      " 10  artist_name         1133 non-null   object \n",
      " 11  album_artist_id     1133 non-null   object \n",
      " 12  album_artist_name   1133 non-null   object \n",
      " 13  album_id            1133 non-null   object \n",
      " 14  album_name          1133 non-null   object \n",
      " 15  album_release_date  1133 non-null   object \n",
      " 16  album_tracks        1133 non-null   int64  \n",
      " 17  album_type          1133 non-null   object \n",
      " 18  added_at            1133 non-null   object \n",
      " 19  genres              1133 non-null   object \n",
      " 20  album_genres        1133 non-null   object \n",
      " 21  danceability        1131 non-null   float64\n",
      " 22  energy              1131 non-null   float64\n",
      " 23  key                 1131 non-null   float64\n",
      " 24  loudness            1131 non-null   float64\n",
      " 25  mode                1131 non-null   float64\n",
      " 26  speechiness         1131 non-null   float64\n",
      " 27  acousticness        1131 non-null   float64\n",
      " 28  instrumentalness    1131 non-null   float64\n",
      " 29  liveness            1131 non-null   float64\n",
      " 30  valence             1131 non-null   float64\n",
      " 31  tempo               1131 non-null   float64\n",
      " 32  uri                 1131 non-null   object \n",
      " 33  track_href          1131 non-null   object \n",
      " 34  analysis_url        1131 non-null   object \n",
      " 35  time_signature      1131 non-null   float64\n",
      "dtypes: bool(2), float64(13), int64(4), object(17)\n",
      "memory usage: 303.3+ KB\n"
     ]
    }
   ],
   "source": [
    "saved_tracks_df.info()"
   ]
  },
  {
   "cell_type": "code",
   "execution_count": 15,
   "metadata": {
    "scrolled": true
   },
   "outputs": [
    {
     "data": {
      "text/plain": "id                    2\nname                  0\npopularity            0\ntype                  2\nis_local              0\nexplicit              0\nduration_ms           2\ndisc_number           0\ntrack_number          0\nartist_id             0\nartist_name           0\nalbum_artist_id       0\nalbum_artist_name     0\nalbum_id              0\nalbum_name            0\nalbum_release_date    0\nalbum_tracks          0\nalbum_type            0\nadded_at              0\ngenres                0\nalbum_genres          0\ndanceability          2\nenergy                2\nkey                   2\nloudness              2\nmode                  2\nspeechiness           2\nacousticness          2\ninstrumentalness      2\nliveness              2\nvalence               2\ntempo                 2\nuri                   2\ntrack_href            2\nanalysis_url          2\ntime_signature        2\ndtype: int64"
     },
     "execution_count": 15,
     "metadata": {},
     "output_type": "execute_result"
    }
   ],
   "source": [
    "saved_tracks_df.isnull().sum()"
   ]
  },
  {
   "cell_type": "markdown",
   "metadata": {},
   "source": [
    "This dataset seems to be missing data for 2 rows of data in a dataset of 1100+. I think I can safely drop these rows without effecting data."
   ]
  },
  {
   "cell_type": "code",
   "execution_count": 16,
   "metadata": {},
   "outputs": [
    {
     "data": {
      "text/plain": "id                    0\nname                  0\npopularity            0\ntype                  0\nis_local              0\nexplicit              0\nduration_ms           0\ndisc_number           0\ntrack_number          0\nartist_id             0\nartist_name           0\nalbum_artist_id       0\nalbum_artist_name     0\nalbum_id              0\nalbum_name            0\nalbum_release_date    0\nalbum_tracks          0\nalbum_type            0\nadded_at              0\ngenres                0\nalbum_genres          0\ndanceability          0\nenergy                0\nkey                   0\nloudness              0\nmode                  0\nspeechiness           0\nacousticness          0\ninstrumentalness      0\nliveness              0\nvalence               0\ntempo                 0\nuri                   0\ntrack_href            0\nanalysis_url          0\ntime_signature        0\ndtype: int64"
     },
     "execution_count": 16,
     "metadata": {},
     "output_type": "execute_result"
    }
   ],
   "source": [
    "#dropping na values\n",
    "saved_tracks_df = saved_tracks_df.dropna()\n",
    "saved_tracks_df.isnull().sum()\n",
    "\n",
    "#looking good now no missing data"
   ]
  },
  {
   "cell_type": "code",
   "execution_count": 17,
   "metadata": {},
   "outputs": [],
   "source": [
    "#saved_tracks_df.info()"
   ]
  },
  {
   "cell_type": "code",
   "execution_count": 18,
   "metadata": {},
   "outputs": [],
   "source": [
    "#renaming main playlist to df for simplicity\n",
    "df = saved_tracks_df"
   ]
  },
  {
   "cell_type": "markdown",
   "metadata": {},
   "source": [
    "First thing I want to do is apply a rating to my saved songs dataset. To apply a rating, I will give the songs that are in my \"top artists\" a rating of 1, and everything else a 0. \"Rating\" will be the variable I will attempt to predict based on the content of my songs. \n",
    "\n",
    "I originally wanted to use specific song data to train and test models, but the \"top tracks\" playlist was only 60 songs long, so I was only able to rate a maximum of 60 songs. Whereas when using top artist data, I was able to apply a rating to 399 songs. I also noticed a large portion of my top songs were by my top artists, so there was a large overlap. I am confident I can get good results by analyzing this song data from my top artists."
   ]
  },
  {
   "cell_type": "code",
   "execution_count": 19,
   "metadata": {
    "scrolled": true
   },
   "outputs": [],
   "source": [
    "#Only 20 top songs get rated when using top songs, \n",
    "#think it best to use a rating system with my top artists as that gives me 399 ratings\n",
    "\n",
    "\n",
    "#saved_tracks_df['ratings'] = saved_tracks_df['id'].apply(lambda x: 1 if x in top_tracks_df.values else 0)\n",
    "#saved_tracks_df['ratings'].head(25)"
   ]
  },
  {
   "cell_type": "code",
   "execution_count": 20,
   "metadata": {
    "scrolled": true
   },
   "outputs": [
    {
     "data": {
      "text/plain": "0       0\n1       1\n2       0\n3       0\n4       0\n       ..\n1128    0\n1129    1\n1130    0\n1131    0\n1132    0\nName: ratings, Length: 1131, dtype: int64"
     },
     "execution_count": 20,
     "metadata": {},
     "output_type": "execute_result"
    }
   ],
   "source": [
    "#Lambda function to add a rating for all songs that are by one of my top artists\n",
    "\n",
    "df['ratings'] = df['artist_id'].apply(lambda x: 1 if x in top_artist_df.values else 0)\n",
    "df['ratings']"
   ]
  },
  {
   "cell_type": "code",
   "execution_count": 21,
   "metadata": {
    "scrolled": true
   },
   "outputs": [
    {
     "data": {
      "text/plain": "                        id                                               name  \\\n0   6xgwv5ao2qYqmpkuG1etFc                                        Minor Waltz   \n1   3CFR1oY47Ph2fULELeH6Rd                             Schindler's List Theme   \n2   2HCs8VTLo6Vkzu06gVt1C1                                               瘋狂世界   \n3   5B0qLRZewG1huy6o2JgQAo                                                 交換   \n4   0vDU9V9SLZgqkQJ68HhnEU                                            Element   \n5   6Gifhuvyk4uPDGSRrtw8Y6  Schwanengesang, D. 957: Ständchen \"Leise flehe...   \n6   0vf2eBw2inhl8y61cYQMv2                                         Devil Town   \n7   6K0LB4XItoRSkKZSkVTS4d                                    Substance Abuse   \n8   3TXy6nchgKeYlVwOKNk9lE                                          100 Shots   \n9   2MEhck5D2vq7kPRkfJ93HI                                     Everybody Know   \n10  26v2Gf4Af7Fav0jTQluetL                                           Penguins   \n11  5YGhm6pI5s0uxJ2DwrDYqO                            Water on Water on Water   \n12  2bGro4nCmkUx2xdEjcOTU0                                          Cray Cray   \n13  1Lyj66RLoLz4QRoecQruMk                                         Reflection   \n14  2G6npEiE9YZHdvkKP7YSd3                            1 Scale (feat. G Herbo)   \n15  047IfBzxGgHyPpQTwMLSlP                                             Summo'   \n16  1H5aqJh1n2xJPTVc7D0aqR                                          Alter Ego   \n17  6mQOJJxlDLifWgg48jlU7A              Tapped (feat. Channel Tres & Celeste)   \n18  2sRH0V7gWZ9p3QHfqhhOk8                              Sexy Black Timberlake   \n19  3fOObCPvmiAbySTOvYucqF                                          Raw Power   \n20  2GQEM9JuHu30sGFvRYeCxz                                              Faded   \n21  36LQYp5FNsuT5voIO9bdfZ                                   Came For The Low   \n22  5QUbOFOkbDlt4ZY7bdL4Am                        I Admit It (feat. 24kGoldn)   \n23  0Kuq3DdX1sPGpJsAxeBsxx                                   How Does It Feel   \n24  3M6xaTs8eskSIBEa8CA4Bg                                        READY TO GO   \n\n    popularity            type  is_local  explicit  duration_ms  disc_number  \\\n0            6  audio_features     False     False     228893.0            1   \n1            1  audio_features     False     False     225373.0            1   \n2            8  audio_features     False     False     170160.0            1   \n3            2  audio_features     False     False     195507.0            1   \n4           32  audio_features     False      True     131056.0            1   \n5           52  audio_features     False     False     260000.0            1   \n6           82  audio_features     False     False     179955.0            1   \n7           13  audio_features     False      True     212245.0            1   \n8           73  audio_features     False      True     264819.0            1   \n9           54  audio_features     False      True     147173.0            1   \n10          66  audio_features     False      True     238013.0            1   \n11          67  audio_features     False      True     223520.0            1   \n12          42  audio_features     False      True     145107.0            1   \n13          47  audio_features     False      True     204493.0            1   \n14          45  audio_features     False      True     176040.0            1   \n15          55  audio_features     False      True     156147.0            1   \n16          53  audio_features     False      True     205497.0            1   \n17          45  audio_features     False      True     188398.0            1   \n18          53  audio_features     False      True     223103.0            1   \n19          38  audio_features     False      True     270221.0            1   \n20          64  audio_features     False     False     223480.0            1   \n21          59  audio_features     False     False     195976.0            1   \n22          62  audio_features     False      True     173951.0            1   \n23          48  audio_features     False      True     186887.0            1   \n24          43  audio_features     False     False     114693.0            1   \n\n    track_number               artist_id  ... acousticness instrumentalness  \\\n0              2  3zz4BITBs6xvnzw2vtQi2D  ...      0.73400         0.053400   \n1             12  3dRfiJ2650SZu6GbydcHNb  ...      0.89500         0.273000   \n2              9  1bONVLlQIiuULYblokrPxj  ...      0.99300         0.634000   \n3              8  1bONVLlQIiuULYblokrPxj  ...      0.99100         0.393000   \n4              1  0cHInYwq4GHrC3UotzgVQw  ...      0.07590         0.000000   \n5             12  2p0UyoPfYfI76PCStuXfOP  ...      0.98000         0.905000   \n6              8  2hR4h1Cao2ueuI7Cx9c7V8  ...      0.12000         0.000000   \n7              8  3kf0gOpxWtkyeMNJVDQPtd  ...      0.21200         0.000004   \n8              1  3HiuzBlSW7pGDXlSFMhO2g  ...      0.13500         0.000005   \n9             15  3HiuzBlSW7pGDXlSFMhO2g  ...      0.02700         0.000000   \n10             1  3HiuzBlSW7pGDXlSFMhO2g  ...      0.31500         0.000000   \n11            11  3HiuzBlSW7pGDXlSFMhO2g  ...      0.01180         0.000000   \n12             9  3HiuzBlSW7pGDXlSFMhO2g  ...      0.01590         0.000024   \n13            13  3HiuzBlSW7pGDXlSFMhO2g  ...      0.02710         0.000007   \n14            16  3HiuzBlSW7pGDXlSFMhO2g  ...      0.02890         0.000000   \n15             4  3HiuzBlSW7pGDXlSFMhO2g  ...      0.05640         0.000000   \n16             1  61lyPtntblHJvA7FMMhi7E  ...      0.00592         0.489000   \n17             6  7MNEVabc4cs19CbzAFZmXz  ...      0.13600         0.000406   \n18             1  4cUkGQyhLFqKHBtL58HYVp  ...      0.01180         0.008570   \n19             5  4cUkGQyhLFqKHBtL58HYVp  ...      0.32200         0.387000   \n20             2  28j8lBWDdDSHSSt5oPlsX2  ...      0.00843         0.175000   \n21             1  28j8lBWDdDSHSSt5oPlsX2  ...      0.01840         0.048200   \n22             1  28j8lBWDdDSHSSt5oPlsX2  ...      0.02040         0.081100   \n23             4  28j8lBWDdDSHSSt5oPlsX2  ...      0.09970         0.003730   \n24             1  25fqWEebq6PoiGQIHIrdtv  ...      0.00732         0.002880   \n\n   liveness valence    tempo                                   uri  \\\n0    0.1550  0.1580  119.908  spotify:track:6xgwv5ao2qYqmpkuG1etFc   \n1    0.0643  0.0637   47.542  spotify:track:3CFR1oY47Ph2fULELeH6Rd   \n2    0.1310  0.7760  179.136  spotify:track:2HCs8VTLo6Vkzu06gVt1C1   \n3    0.0968  0.2960  118.056  spotify:track:5B0qLRZewG1huy6o2JgQAo   \n4    0.1080  0.5710  139.746  spotify:track:0vDU9V9SLZgqkQJ68HhnEU   \n5    0.0900  0.0555  178.716  spotify:track:6Gifhuvyk4uPDGSRrtw8Y6   \n6    0.1210  0.5010   99.969  spotify:track:0vf2eBw2inhl8y61cYQMv2   \n7    0.1810  0.5760   90.510  spotify:track:6K0LB4XItoRSkKZSkVTS4d   \n8    0.0583  0.1540  134.006  spotify:track:3TXy6nchgKeYlVwOKNk9lE   \n9    0.1710  0.4700  123.958  spotify:track:2MEhck5D2vq7kPRkfJ93HI   \n10   0.0767  0.5900  150.012  spotify:track:26v2Gf4Af7Fav0jTQluetL   \n11   0.0963  0.3820  141.001  spotify:track:5YGhm6pI5s0uxJ2DwrDYqO   \n12   0.1040  0.3960  152.106  spotify:track:2bGro4nCmkUx2xdEjcOTU0   \n13   0.0945  0.4390  134.002  spotify:track:1Lyj66RLoLz4QRoecQruMk   \n14   0.2760  0.3310  135.035  spotify:track:2G6npEiE9YZHdvkKP7YSd3   \n15   0.0461  0.6660  136.058  spotify:track:047IfBzxGgHyPpQTwMLSlP   \n16   0.0803  0.7280  124.992  spotify:track:1H5aqJh1n2xJPTVc7D0aqR   \n17   0.1440  0.5310  117.193  spotify:track:6mQOJJxlDLifWgg48jlU7A   \n18   0.1140  0.6480  116.846  spotify:track:2sRH0V7gWZ9p3QHfqhhOk8   \n19   0.0766  0.6980  123.519  spotify:track:3fOObCPvmiAbySTOvYucqF   \n20   0.1130  0.6140  124.979  spotify:track:2GQEM9JuHu30sGFvRYeCxz   \n21   0.1010  0.1300  117.968  spotify:track:36LQYp5FNsuT5voIO9bdfZ   \n22   0.0959  0.0769  123.036  spotify:track:5QUbOFOkbDlt4ZY7bdL4Am   \n23   0.0806  0.4330  124.067  spotify:track:0Kuq3DdX1sPGpJsAxeBsxx   \n24   0.0510  0.2990  121.996  spotify:track:3M6xaTs8eskSIBEa8CA4Bg   \n\n                                           track_href  \\\n0   https://api.spotify.com/v1/tracks/6xgwv5ao2qYq...   \n1   https://api.spotify.com/v1/tracks/3CFR1oY47Ph2...   \n2   https://api.spotify.com/v1/tracks/2HCs8VTLo6Vk...   \n3   https://api.spotify.com/v1/tracks/5B0qLRZewG1h...   \n4   https://api.spotify.com/v1/tracks/0vDU9V9SLZgq...   \n5   https://api.spotify.com/v1/tracks/6Gifhuvyk4uP...   \n6   https://api.spotify.com/v1/tracks/0vf2eBw2inhl...   \n7   https://api.spotify.com/v1/tracks/6K0LB4XItoRS...   \n8   https://api.spotify.com/v1/tracks/3TXy6nchgKeY...   \n9   https://api.spotify.com/v1/tracks/2MEhck5D2vq7...   \n10  https://api.spotify.com/v1/tracks/26v2Gf4Af7Fa...   \n11  https://api.spotify.com/v1/tracks/5YGhm6pI5s0u...   \n12  https://api.spotify.com/v1/tracks/2bGro4nCmkUx...   \n13  https://api.spotify.com/v1/tracks/1Lyj66RLoLz4...   \n14  https://api.spotify.com/v1/tracks/2G6npEiE9YZH...   \n15  https://api.spotify.com/v1/tracks/047IfBzxGgHy...   \n16  https://api.spotify.com/v1/tracks/1H5aqJh1n2xJ...   \n17  https://api.spotify.com/v1/tracks/6mQOJJxlDLif...   \n18  https://api.spotify.com/v1/tracks/2sRH0V7gWZ9p...   \n19  https://api.spotify.com/v1/tracks/3fOObCPvmiAb...   \n20  https://api.spotify.com/v1/tracks/2GQEM9JuHu30...   \n21  https://api.spotify.com/v1/tracks/36LQYp5FNsuT...   \n22  https://api.spotify.com/v1/tracks/5QUbOFOkbDlt...   \n23  https://api.spotify.com/v1/tracks/0Kuq3DdX1sPG...   \n24  https://api.spotify.com/v1/tracks/3M6xaTs8eskS...   \n\n                                         analysis_url time_signature ratings  \n0   https://api.spotify.com/v1/audio-analysis/6xgw...            3.0       0  \n1   https://api.spotify.com/v1/audio-analysis/3CFR...            4.0       1  \n2   https://api.spotify.com/v1/audio-analysis/2HCs...            4.0       0  \n3   https://api.spotify.com/v1/audio-analysis/5B0q...            4.0       0  \n4   https://api.spotify.com/v1/audio-analysis/0vDU...            4.0       0  \n5   https://api.spotify.com/v1/audio-analysis/6Gif...            3.0       0  \n6   https://api.spotify.com/v1/audio-analysis/0vf2...            4.0       0  \n7   https://api.spotify.com/v1/audio-analysis/6K0L...            4.0       0  \n8   https://api.spotify.com/v1/audio-analysis/3TXy...            4.0       1  \n9   https://api.spotify.com/v1/audio-analysis/2MEh...            4.0       1  \n10  https://api.spotify.com/v1/audio-analysis/26v2...            4.0       1  \n11  https://api.spotify.com/v1/audio-analysis/5YGh...            4.0       1  \n12  https://api.spotify.com/v1/audio-analysis/2bGr...            4.0       1  \n13  https://api.spotify.com/v1/audio-analysis/1Lyj...            4.0       1  \n14  https://api.spotify.com/v1/audio-analysis/2G6n...            4.0       1  \n15  https://api.spotify.com/v1/audio-analysis/047I...            4.0       1  \n16  https://api.spotify.com/v1/audio-analysis/1H5a...            4.0       0  \n17  https://api.spotify.com/v1/audio-analysis/6mQO...            4.0       0  \n18  https://api.spotify.com/v1/audio-analysis/2sRH...            4.0       1  \n19  https://api.spotify.com/v1/audio-analysis/3fOO...            4.0       1  \n20  https://api.spotify.com/v1/audio-analysis/2GQE...            4.0       1  \n21  https://api.spotify.com/v1/audio-analysis/36LQ...            4.0       1  \n22  https://api.spotify.com/v1/audio-analysis/5QUb...            4.0       1  \n23  https://api.spotify.com/v1/audio-analysis/0Kuq...            4.0       1  \n24  https://api.spotify.com/v1/audio-analysis/3M6x...            4.0       0  \n\n[25 rows x 37 columns]",
      "text/html": "<div>\n<style scoped>\n    .dataframe tbody tr th:only-of-type {\n        vertical-align: middle;\n    }\n\n    .dataframe tbody tr th {\n        vertical-align: top;\n    }\n\n    .dataframe thead th {\n        text-align: right;\n    }\n</style>\n<table border=\"1\" class=\"dataframe\">\n  <thead>\n    <tr style=\"text-align: right;\">\n      <th></th>\n      <th>id</th>\n      <th>name</th>\n      <th>popularity</th>\n      <th>type</th>\n      <th>is_local</th>\n      <th>explicit</th>\n      <th>duration_ms</th>\n      <th>disc_number</th>\n      <th>track_number</th>\n      <th>artist_id</th>\n      <th>...</th>\n      <th>acousticness</th>\n      <th>instrumentalness</th>\n      <th>liveness</th>\n      <th>valence</th>\n      <th>tempo</th>\n      <th>uri</th>\n      <th>track_href</th>\n      <th>analysis_url</th>\n      <th>time_signature</th>\n      <th>ratings</th>\n    </tr>\n  </thead>\n  <tbody>\n    <tr>\n      <th>0</th>\n      <td>6xgwv5ao2qYqmpkuG1etFc</td>\n      <td>Minor Waltz</td>\n      <td>6</td>\n      <td>audio_features</td>\n      <td>False</td>\n      <td>False</td>\n      <td>228893.0</td>\n      <td>1</td>\n      <td>2</td>\n      <td>3zz4BITBs6xvnzw2vtQi2D</td>\n      <td>...</td>\n      <td>0.73400</td>\n      <td>0.053400</td>\n      <td>0.1550</td>\n      <td>0.1580</td>\n      <td>119.908</td>\n      <td>spotify:track:6xgwv5ao2qYqmpkuG1etFc</td>\n      <td>https://api.spotify.com/v1/tracks/6xgwv5ao2qYq...</td>\n      <td>https://api.spotify.com/v1/audio-analysis/6xgw...</td>\n      <td>3.0</td>\n      <td>0</td>\n    </tr>\n    <tr>\n      <th>1</th>\n      <td>3CFR1oY47Ph2fULELeH6Rd</td>\n      <td>Schindler's List Theme</td>\n      <td>1</td>\n      <td>audio_features</td>\n      <td>False</td>\n      <td>False</td>\n      <td>225373.0</td>\n      <td>1</td>\n      <td>12</td>\n      <td>3dRfiJ2650SZu6GbydcHNb</td>\n      <td>...</td>\n      <td>0.89500</td>\n      <td>0.273000</td>\n      <td>0.0643</td>\n      <td>0.0637</td>\n      <td>47.542</td>\n      <td>spotify:track:3CFR1oY47Ph2fULELeH6Rd</td>\n      <td>https://api.spotify.com/v1/tracks/3CFR1oY47Ph2...</td>\n      <td>https://api.spotify.com/v1/audio-analysis/3CFR...</td>\n      <td>4.0</td>\n      <td>1</td>\n    </tr>\n    <tr>\n      <th>2</th>\n      <td>2HCs8VTLo6Vkzu06gVt1C1</td>\n      <td>瘋狂世界</td>\n      <td>8</td>\n      <td>audio_features</td>\n      <td>False</td>\n      <td>False</td>\n      <td>170160.0</td>\n      <td>1</td>\n      <td>9</td>\n      <td>1bONVLlQIiuULYblokrPxj</td>\n      <td>...</td>\n      <td>0.99300</td>\n      <td>0.634000</td>\n      <td>0.1310</td>\n      <td>0.7760</td>\n      <td>179.136</td>\n      <td>spotify:track:2HCs8VTLo6Vkzu06gVt1C1</td>\n      <td>https://api.spotify.com/v1/tracks/2HCs8VTLo6Vk...</td>\n      <td>https://api.spotify.com/v1/audio-analysis/2HCs...</td>\n      <td>4.0</td>\n      <td>0</td>\n    </tr>\n    <tr>\n      <th>3</th>\n      <td>5B0qLRZewG1huy6o2JgQAo</td>\n      <td>交換</td>\n      <td>2</td>\n      <td>audio_features</td>\n      <td>False</td>\n      <td>False</td>\n      <td>195507.0</td>\n      <td>1</td>\n      <td>8</td>\n      <td>1bONVLlQIiuULYblokrPxj</td>\n      <td>...</td>\n      <td>0.99100</td>\n      <td>0.393000</td>\n      <td>0.0968</td>\n      <td>0.2960</td>\n      <td>118.056</td>\n      <td>spotify:track:5B0qLRZewG1huy6o2JgQAo</td>\n      <td>https://api.spotify.com/v1/tracks/5B0qLRZewG1h...</td>\n      <td>https://api.spotify.com/v1/audio-analysis/5B0q...</td>\n      <td>4.0</td>\n      <td>0</td>\n    </tr>\n    <tr>\n      <th>4</th>\n      <td>0vDU9V9SLZgqkQJ68HhnEU</td>\n      <td>Element</td>\n      <td>32</td>\n      <td>audio_features</td>\n      <td>False</td>\n      <td>True</td>\n      <td>131056.0</td>\n      <td>1</td>\n      <td>1</td>\n      <td>0cHInYwq4GHrC3UotzgVQw</td>\n      <td>...</td>\n      <td>0.07590</td>\n      <td>0.000000</td>\n      <td>0.1080</td>\n      <td>0.5710</td>\n      <td>139.746</td>\n      <td>spotify:track:0vDU9V9SLZgqkQJ68HhnEU</td>\n      <td>https://api.spotify.com/v1/tracks/0vDU9V9SLZgq...</td>\n      <td>https://api.spotify.com/v1/audio-analysis/0vDU...</td>\n      <td>4.0</td>\n      <td>0</td>\n    </tr>\n    <tr>\n      <th>5</th>\n      <td>6Gifhuvyk4uPDGSRrtw8Y6</td>\n      <td>Schwanengesang, D. 957: Ständchen \"Leise flehe...</td>\n      <td>52</td>\n      <td>audio_features</td>\n      <td>False</td>\n      <td>False</td>\n      <td>260000.0</td>\n      <td>1</td>\n      <td>12</td>\n      <td>2p0UyoPfYfI76PCStuXfOP</td>\n      <td>...</td>\n      <td>0.98000</td>\n      <td>0.905000</td>\n      <td>0.0900</td>\n      <td>0.0555</td>\n      <td>178.716</td>\n      <td>spotify:track:6Gifhuvyk4uPDGSRrtw8Y6</td>\n      <td>https://api.spotify.com/v1/tracks/6Gifhuvyk4uP...</td>\n      <td>https://api.spotify.com/v1/audio-analysis/6Gif...</td>\n      <td>3.0</td>\n      <td>0</td>\n    </tr>\n    <tr>\n      <th>6</th>\n      <td>0vf2eBw2inhl8y61cYQMv2</td>\n      <td>Devil Town</td>\n      <td>82</td>\n      <td>audio_features</td>\n      <td>False</td>\n      <td>False</td>\n      <td>179955.0</td>\n      <td>1</td>\n      <td>8</td>\n      <td>2hR4h1Cao2ueuI7Cx9c7V8</td>\n      <td>...</td>\n      <td>0.12000</td>\n      <td>0.000000</td>\n      <td>0.1210</td>\n      <td>0.5010</td>\n      <td>99.969</td>\n      <td>spotify:track:0vf2eBw2inhl8y61cYQMv2</td>\n      <td>https://api.spotify.com/v1/tracks/0vf2eBw2inhl...</td>\n      <td>https://api.spotify.com/v1/audio-analysis/0vf2...</td>\n      <td>4.0</td>\n      <td>0</td>\n    </tr>\n    <tr>\n      <th>7</th>\n      <td>6K0LB4XItoRSkKZSkVTS4d</td>\n      <td>Substance Abuse</td>\n      <td>13</td>\n      <td>audio_features</td>\n      <td>False</td>\n      <td>True</td>\n      <td>212245.0</td>\n      <td>1</td>\n      <td>8</td>\n      <td>3kf0gOpxWtkyeMNJVDQPtd</td>\n      <td>...</td>\n      <td>0.21200</td>\n      <td>0.000004</td>\n      <td>0.1810</td>\n      <td>0.5760</td>\n      <td>90.510</td>\n      <td>spotify:track:6K0LB4XItoRSkKZSkVTS4d</td>\n      <td>https://api.spotify.com/v1/tracks/6K0LB4XItoRS...</td>\n      <td>https://api.spotify.com/v1/audio-analysis/6K0L...</td>\n      <td>4.0</td>\n      <td>0</td>\n    </tr>\n    <tr>\n      <th>8</th>\n      <td>3TXy6nchgKeYlVwOKNk9lE</td>\n      <td>100 Shots</td>\n      <td>73</td>\n      <td>audio_features</td>\n      <td>False</td>\n      <td>True</td>\n      <td>264819.0</td>\n      <td>1</td>\n      <td>1</td>\n      <td>3HiuzBlSW7pGDXlSFMhO2g</td>\n      <td>...</td>\n      <td>0.13500</td>\n      <td>0.000005</td>\n      <td>0.0583</td>\n      <td>0.1540</td>\n      <td>134.006</td>\n      <td>spotify:track:3TXy6nchgKeYlVwOKNk9lE</td>\n      <td>https://api.spotify.com/v1/tracks/3TXy6nchgKeY...</td>\n      <td>https://api.spotify.com/v1/audio-analysis/3TXy...</td>\n      <td>4.0</td>\n      <td>1</td>\n    </tr>\n    <tr>\n      <th>9</th>\n      <td>2MEhck5D2vq7kPRkfJ93HI</td>\n      <td>Everybody Know</td>\n      <td>54</td>\n      <td>audio_features</td>\n      <td>False</td>\n      <td>True</td>\n      <td>147173.0</td>\n      <td>1</td>\n      <td>15</td>\n      <td>3HiuzBlSW7pGDXlSFMhO2g</td>\n      <td>...</td>\n      <td>0.02700</td>\n      <td>0.000000</td>\n      <td>0.1710</td>\n      <td>0.4700</td>\n      <td>123.958</td>\n      <td>spotify:track:2MEhck5D2vq7kPRkfJ93HI</td>\n      <td>https://api.spotify.com/v1/tracks/2MEhck5D2vq7...</td>\n      <td>https://api.spotify.com/v1/audio-analysis/2MEh...</td>\n      <td>4.0</td>\n      <td>1</td>\n    </tr>\n    <tr>\n      <th>10</th>\n      <td>26v2Gf4Af7Fav0jTQluetL</td>\n      <td>Penguins</td>\n      <td>66</td>\n      <td>audio_features</td>\n      <td>False</td>\n      <td>True</td>\n      <td>238013.0</td>\n      <td>1</td>\n      <td>1</td>\n      <td>3HiuzBlSW7pGDXlSFMhO2g</td>\n      <td>...</td>\n      <td>0.31500</td>\n      <td>0.000000</td>\n      <td>0.0767</td>\n      <td>0.5900</td>\n      <td>150.012</td>\n      <td>spotify:track:26v2Gf4Af7Fav0jTQluetL</td>\n      <td>https://api.spotify.com/v1/tracks/26v2Gf4Af7Fa...</td>\n      <td>https://api.spotify.com/v1/audio-analysis/26v2...</td>\n      <td>4.0</td>\n      <td>1</td>\n    </tr>\n    <tr>\n      <th>11</th>\n      <td>5YGhm6pI5s0uxJ2DwrDYqO</td>\n      <td>Water on Water on Water</td>\n      <td>67</td>\n      <td>audio_features</td>\n      <td>False</td>\n      <td>True</td>\n      <td>223520.0</td>\n      <td>1</td>\n      <td>11</td>\n      <td>3HiuzBlSW7pGDXlSFMhO2g</td>\n      <td>...</td>\n      <td>0.01180</td>\n      <td>0.000000</td>\n      <td>0.0963</td>\n      <td>0.3820</td>\n      <td>141.001</td>\n      <td>spotify:track:5YGhm6pI5s0uxJ2DwrDYqO</td>\n      <td>https://api.spotify.com/v1/tracks/5YGhm6pI5s0u...</td>\n      <td>https://api.spotify.com/v1/audio-analysis/5YGh...</td>\n      <td>4.0</td>\n      <td>1</td>\n    </tr>\n    <tr>\n      <th>12</th>\n      <td>2bGro4nCmkUx2xdEjcOTU0</td>\n      <td>Cray Cray</td>\n      <td>42</td>\n      <td>audio_features</td>\n      <td>False</td>\n      <td>True</td>\n      <td>145107.0</td>\n      <td>1</td>\n      <td>9</td>\n      <td>3HiuzBlSW7pGDXlSFMhO2g</td>\n      <td>...</td>\n      <td>0.01590</td>\n      <td>0.000024</td>\n      <td>0.1040</td>\n      <td>0.3960</td>\n      <td>152.106</td>\n      <td>spotify:track:2bGro4nCmkUx2xdEjcOTU0</td>\n      <td>https://api.spotify.com/v1/tracks/2bGro4nCmkUx...</td>\n      <td>https://api.spotify.com/v1/audio-analysis/2bGr...</td>\n      <td>4.0</td>\n      <td>1</td>\n    </tr>\n    <tr>\n      <th>13</th>\n      <td>1Lyj66RLoLz4QRoecQruMk</td>\n      <td>Reflection</td>\n      <td>47</td>\n      <td>audio_features</td>\n      <td>False</td>\n      <td>True</td>\n      <td>204493.0</td>\n      <td>1</td>\n      <td>13</td>\n      <td>3HiuzBlSW7pGDXlSFMhO2g</td>\n      <td>...</td>\n      <td>0.02710</td>\n      <td>0.000007</td>\n      <td>0.0945</td>\n      <td>0.4390</td>\n      <td>134.002</td>\n      <td>spotify:track:1Lyj66RLoLz4QRoecQruMk</td>\n      <td>https://api.spotify.com/v1/tracks/1Lyj66RLoLz4...</td>\n      <td>https://api.spotify.com/v1/audio-analysis/1Lyj...</td>\n      <td>4.0</td>\n      <td>1</td>\n    </tr>\n    <tr>\n      <th>14</th>\n      <td>2G6npEiE9YZHdvkKP7YSd3</td>\n      <td>1 Scale (feat. G Herbo)</td>\n      <td>45</td>\n      <td>audio_features</td>\n      <td>False</td>\n      <td>True</td>\n      <td>176040.0</td>\n      <td>1</td>\n      <td>16</td>\n      <td>3HiuzBlSW7pGDXlSFMhO2g</td>\n      <td>...</td>\n      <td>0.02890</td>\n      <td>0.000000</td>\n      <td>0.2760</td>\n      <td>0.3310</td>\n      <td>135.035</td>\n      <td>spotify:track:2G6npEiE9YZHdvkKP7YSd3</td>\n      <td>https://api.spotify.com/v1/tracks/2G6npEiE9YZH...</td>\n      <td>https://api.spotify.com/v1/audio-analysis/2G6n...</td>\n      <td>4.0</td>\n      <td>1</td>\n    </tr>\n    <tr>\n      <th>15</th>\n      <td>047IfBzxGgHyPpQTwMLSlP</td>\n      <td>Summo'</td>\n      <td>55</td>\n      <td>audio_features</td>\n      <td>False</td>\n      <td>True</td>\n      <td>156147.0</td>\n      <td>1</td>\n      <td>4</td>\n      <td>3HiuzBlSW7pGDXlSFMhO2g</td>\n      <td>...</td>\n      <td>0.05640</td>\n      <td>0.000000</td>\n      <td>0.0461</td>\n      <td>0.6660</td>\n      <td>136.058</td>\n      <td>spotify:track:047IfBzxGgHyPpQTwMLSlP</td>\n      <td>https://api.spotify.com/v1/tracks/047IfBzxGgHy...</td>\n      <td>https://api.spotify.com/v1/audio-analysis/047I...</td>\n      <td>4.0</td>\n      <td>1</td>\n    </tr>\n    <tr>\n      <th>16</th>\n      <td>1H5aqJh1n2xJPTVc7D0aqR</td>\n      <td>Alter Ego</td>\n      <td>53</td>\n      <td>audio_features</td>\n      <td>False</td>\n      <td>True</td>\n      <td>205497.0</td>\n      <td>1</td>\n      <td>1</td>\n      <td>61lyPtntblHJvA7FMMhi7E</td>\n      <td>...</td>\n      <td>0.00592</td>\n      <td>0.489000</td>\n      <td>0.0803</td>\n      <td>0.7280</td>\n      <td>124.992</td>\n      <td>spotify:track:1H5aqJh1n2xJPTVc7D0aqR</td>\n      <td>https://api.spotify.com/v1/tracks/1H5aqJh1n2xJ...</td>\n      <td>https://api.spotify.com/v1/audio-analysis/1H5a...</td>\n      <td>4.0</td>\n      <td>0</td>\n    </tr>\n    <tr>\n      <th>17</th>\n      <td>6mQOJJxlDLifWgg48jlU7A</td>\n      <td>Tapped (feat. Channel Tres &amp; Celeste)</td>\n      <td>45</td>\n      <td>audio_features</td>\n      <td>False</td>\n      <td>True</td>\n      <td>188398.0</td>\n      <td>1</td>\n      <td>6</td>\n      <td>7MNEVabc4cs19CbzAFZmXz</td>\n      <td>...</td>\n      <td>0.13600</td>\n      <td>0.000406</td>\n      <td>0.1440</td>\n      <td>0.5310</td>\n      <td>117.193</td>\n      <td>spotify:track:6mQOJJxlDLifWgg48jlU7A</td>\n      <td>https://api.spotify.com/v1/tracks/6mQOJJxlDLif...</td>\n      <td>https://api.spotify.com/v1/audio-analysis/6mQO...</td>\n      <td>4.0</td>\n      <td>0</td>\n    </tr>\n    <tr>\n      <th>18</th>\n      <td>2sRH0V7gWZ9p3QHfqhhOk8</td>\n      <td>Sexy Black Timberlake</td>\n      <td>53</td>\n      <td>audio_features</td>\n      <td>False</td>\n      <td>True</td>\n      <td>223103.0</td>\n      <td>1</td>\n      <td>1</td>\n      <td>4cUkGQyhLFqKHBtL58HYVp</td>\n      <td>...</td>\n      <td>0.01180</td>\n      <td>0.008570</td>\n      <td>0.1140</td>\n      <td>0.6480</td>\n      <td>116.846</td>\n      <td>spotify:track:2sRH0V7gWZ9p3QHfqhhOk8</td>\n      <td>https://api.spotify.com/v1/tracks/2sRH0V7gWZ9p...</td>\n      <td>https://api.spotify.com/v1/audio-analysis/2sRH...</td>\n      <td>4.0</td>\n      <td>1</td>\n    </tr>\n    <tr>\n      <th>19</th>\n      <td>3fOObCPvmiAbySTOvYucqF</td>\n      <td>Raw Power</td>\n      <td>38</td>\n      <td>audio_features</td>\n      <td>False</td>\n      <td>True</td>\n      <td>270221.0</td>\n      <td>1</td>\n      <td>5</td>\n      <td>4cUkGQyhLFqKHBtL58HYVp</td>\n      <td>...</td>\n      <td>0.32200</td>\n      <td>0.387000</td>\n      <td>0.0766</td>\n      <td>0.6980</td>\n      <td>123.519</td>\n      <td>spotify:track:3fOObCPvmiAbySTOvYucqF</td>\n      <td>https://api.spotify.com/v1/tracks/3fOObCPvmiAb...</td>\n      <td>https://api.spotify.com/v1/audio-analysis/3fOO...</td>\n      <td>4.0</td>\n      <td>1</td>\n    </tr>\n    <tr>\n      <th>20</th>\n      <td>2GQEM9JuHu30sGFvRYeCxz</td>\n      <td>Faded</td>\n      <td>64</td>\n      <td>audio_features</td>\n      <td>False</td>\n      <td>False</td>\n      <td>223480.0</td>\n      <td>1</td>\n      <td>2</td>\n      <td>28j8lBWDdDSHSSt5oPlsX2</td>\n      <td>...</td>\n      <td>0.00843</td>\n      <td>0.175000</td>\n      <td>0.1130</td>\n      <td>0.6140</td>\n      <td>124.979</td>\n      <td>spotify:track:2GQEM9JuHu30sGFvRYeCxz</td>\n      <td>https://api.spotify.com/v1/tracks/2GQEM9JuHu30...</td>\n      <td>https://api.spotify.com/v1/audio-analysis/2GQE...</td>\n      <td>4.0</td>\n      <td>1</td>\n    </tr>\n    <tr>\n      <th>21</th>\n      <td>36LQYp5FNsuT5voIO9bdfZ</td>\n      <td>Came For The Low</td>\n      <td>59</td>\n      <td>audio_features</td>\n      <td>False</td>\n      <td>False</td>\n      <td>195976.0</td>\n      <td>1</td>\n      <td>1</td>\n      <td>28j8lBWDdDSHSSt5oPlsX2</td>\n      <td>...</td>\n      <td>0.01840</td>\n      <td>0.048200</td>\n      <td>0.1010</td>\n      <td>0.1300</td>\n      <td>117.968</td>\n      <td>spotify:track:36LQYp5FNsuT5voIO9bdfZ</td>\n      <td>https://api.spotify.com/v1/tracks/36LQYp5FNsuT...</td>\n      <td>https://api.spotify.com/v1/audio-analysis/36LQ...</td>\n      <td>4.0</td>\n      <td>1</td>\n    </tr>\n    <tr>\n      <th>22</th>\n      <td>5QUbOFOkbDlt4ZY7bdL4Am</td>\n      <td>I Admit It (feat. 24kGoldn)</td>\n      <td>62</td>\n      <td>audio_features</td>\n      <td>False</td>\n      <td>True</td>\n      <td>173951.0</td>\n      <td>1</td>\n      <td>1</td>\n      <td>28j8lBWDdDSHSSt5oPlsX2</td>\n      <td>...</td>\n      <td>0.02040</td>\n      <td>0.081100</td>\n      <td>0.0959</td>\n      <td>0.0769</td>\n      <td>123.036</td>\n      <td>spotify:track:5QUbOFOkbDlt4ZY7bdL4Am</td>\n      <td>https://api.spotify.com/v1/tracks/5QUbOFOkbDlt...</td>\n      <td>https://api.spotify.com/v1/audio-analysis/5QUb...</td>\n      <td>4.0</td>\n      <td>1</td>\n    </tr>\n    <tr>\n      <th>23</th>\n      <td>0Kuq3DdX1sPGpJsAxeBsxx</td>\n      <td>How Does It Feel</td>\n      <td>48</td>\n      <td>audio_features</td>\n      <td>False</td>\n      <td>True</td>\n      <td>186887.0</td>\n      <td>1</td>\n      <td>4</td>\n      <td>28j8lBWDdDSHSSt5oPlsX2</td>\n      <td>...</td>\n      <td>0.09970</td>\n      <td>0.003730</td>\n      <td>0.0806</td>\n      <td>0.4330</td>\n      <td>124.067</td>\n      <td>spotify:track:0Kuq3DdX1sPGpJsAxeBsxx</td>\n      <td>https://api.spotify.com/v1/tracks/0Kuq3DdX1sPG...</td>\n      <td>https://api.spotify.com/v1/audio-analysis/0Kuq...</td>\n      <td>4.0</td>\n      <td>1</td>\n    </tr>\n    <tr>\n      <th>24</th>\n      <td>3M6xaTs8eskSIBEa8CA4Bg</td>\n      <td>READY TO GO</td>\n      <td>43</td>\n      <td>audio_features</td>\n      <td>False</td>\n      <td>False</td>\n      <td>114693.0</td>\n      <td>1</td>\n      <td>1</td>\n      <td>25fqWEebq6PoiGQIHIrdtv</td>\n      <td>...</td>\n      <td>0.00732</td>\n      <td>0.002880</td>\n      <td>0.0510</td>\n      <td>0.2990</td>\n      <td>121.996</td>\n      <td>spotify:track:3M6xaTs8eskSIBEa8CA4Bg</td>\n      <td>https://api.spotify.com/v1/tracks/3M6xaTs8eskS...</td>\n      <td>https://api.spotify.com/v1/audio-analysis/3M6x...</td>\n      <td>4.0</td>\n      <td>0</td>\n    </tr>\n  </tbody>\n</table>\n<p>25 rows × 37 columns</p>\n</div>"
     },
     "execution_count": 21,
     "metadata": {},
     "output_type": "execute_result"
    }
   ],
   "source": [
    "#viewing df to see ratings\n",
    "df.head(25)"
   ]
  },
  {
   "cell_type": "code",
   "execution_count": 22,
   "metadata": {},
   "outputs": [
    {
     "data": {
      "text/plain": "399"
     },
     "execution_count": 22,
     "metadata": {},
     "output_type": "execute_result"
    }
   ],
   "source": [
    "#  number of songs that was able to be rated in the dataset\n",
    "df.ratings.sum()"
   ]
  },
  {
   "cell_type": "markdown",
   "metadata": {},
   "source": [
    "Now That I have ratings to my song data, I will move right into training my data.\n",
    "\n",
    "For training the data, I am looking only at the variables that describe the musical contents of the song. I am not interested in popularity, song length, whether song is explicit, or the song type."
   ]
  },
  {
   "cell_type": "markdown",
   "metadata": {},
   "source": [
    "### Training Data"
   ]
  },
  {
   "cell_type": "code",
   "execution_count": 23,
   "metadata": {},
   "outputs": [],
   "source": [
    "# Training data\n",
    "X = df[['danceability', 'energy', 'key', 'loudness', 'mode', 'speechiness', 'acousticness', 'instrumentalness', \n",
    "        'liveness', 'valence', 'tempo', 'time_signature', 'genres']]\n",
    "y = df['ratings']\n",
    "\n",
    "\n",
    "# Create genre columns to turn the genres column into a numerical column\n",
    "X = X.drop('genres', 1).join(X['genres'].str.join('|').str.get_dummies())\n",
    "\n",
    "#Loading in copy of recommendation tracks from spotify's own algorythms, will use this later for validation\n",
    "X_recommend = recommendation_tracks_df.copy()\n",
    "\n",
    "# Create genre columns to turn the genres column into a numerical column\n",
    "X_recommend = X_recommend.drop('genres', 1).join(X_recommend['genres'].str.join('|').str.get_dummies())\n",
    "\n",
    "\n",
    "#Ensuring features are consistent\n",
    "X = X[X.columns.intersection(X_recommend.columns)]\n",
    "X_recommend = X_recommend[X_recommend.columns.intersection(X.columns)]\n",
    "\n",
    "\n",
    "# Train-test split\n",
    "X_train, X_test, y_train, y_test = train_test_split(X, y, test_size=0.2, random_state= 7)"
   ]
  },
  {
   "cell_type": "code",
   "execution_count": 24,
   "metadata": {},
   "outputs": [
    {
     "data": {
      "text/plain": "(904, 263)"
     },
     "execution_count": 24,
     "metadata": {},
     "output_type": "execute_result"
    }
   ],
   "source": [
    "#checking to make sure shape matches up\n",
    "X_train.shape"
   ]
  },
  {
   "cell_type": "code",
   "execution_count": 25,
   "metadata": {},
   "outputs": [
    {
     "data": {
      "text/plain": "(904,)"
     },
     "execution_count": 25,
     "metadata": {},
     "output_type": "execute_result"
    }
   ],
   "source": [
    "y_train.shape"
   ]
  },
  {
   "cell_type": "code",
   "execution_count": 26,
   "metadata": {},
   "outputs": [
    {
     "data": {
      "text/plain": "(4338, 263)"
     },
     "execution_count": 26,
     "metadata": {},
     "output_type": "execute_result"
    }
   ],
   "source": [
    "X_recommend.shape"
   ]
  },
  {
   "cell_type": "markdown",
   "metadata": {},
   "source": [
    "### Feature Importance"
   ]
  },
  {
   "cell_type": "code",
   "execution_count": 27,
   "outputs": [
    {
     "name": "stdout",
     "output_type": "stream",
     "text": [
      "Fitting estimator with 263 features.\n",
      "Fitting estimator with 262 features.\n",
      "Fitting estimator with 261 features.\n",
      "Fitting estimator with 260 features.\n",
      "Fitting estimator with 259 features.\n",
      "Fitting estimator with 258 features.\n",
      "Fitting estimator with 257 features.\n",
      "Fitting estimator with 256 features.\n",
      "Fitting estimator with 255 features.\n",
      "Fitting estimator with 254 features.\n",
      "Fitting estimator with 253 features.\n",
      "Fitting estimator with 252 features.\n",
      "Fitting estimator with 251 features.\n",
      "Fitting estimator with 250 features.\n",
      "Fitting estimator with 249 features.\n",
      "Fitting estimator with 248 features.\n",
      "Fitting estimator with 247 features.\n",
      "Fitting estimator with 246 features.\n",
      "Fitting estimator with 245 features.\n",
      "Fitting estimator with 244 features.\n",
      "Fitting estimator with 243 features.\n",
      "Fitting estimator with 242 features.\n",
      "Fitting estimator with 241 features.\n",
      "Fitting estimator with 240 features.\n",
      "Fitting estimator with 239 features.\n",
      "Fitting estimator with 238 features.\n",
      "Fitting estimator with 237 features.\n",
      "Fitting estimator with 236 features.\n",
      "Fitting estimator with 235 features.\n",
      "Fitting estimator with 234 features.\n",
      "Fitting estimator with 233 features.\n",
      "Optimal number of features: 232\n"
     ]
    },
    {
     "ename": "AttributeError",
     "evalue": "'RFECV' object has no attribute 'grid_scores_'",
     "output_type": "error",
     "traceback": [
      "\u001B[1;31m---------------------------------------------------------------------------\u001B[0m",
      "\u001B[1;31mAttributeError\u001B[0m                            Traceback (most recent call last)",
      "Cell \u001B[1;32mIn[27], line 12\u001B[0m\n\u001B[0;32m     10\u001B[0m plt\u001B[38;5;241m.\u001B[39mxlabel(\u001B[38;5;124m'\u001B[39m\u001B[38;5;124mNumber of features selected\u001B[39m\u001B[38;5;124m'\u001B[39m)\n\u001B[0;32m     11\u001B[0m plt\u001B[38;5;241m.\u001B[39mylabel(\u001B[38;5;124m'\u001B[39m\u001B[38;5;124mCross validation score\u001B[39m\u001B[38;5;124m'\u001B[39m)\n\u001B[1;32m---> 12\u001B[0m plt\u001B[38;5;241m.\u001B[39mplot(\u001B[38;5;28mrange\u001B[39m(\u001B[38;5;241m1\u001B[39m, \u001B[38;5;28mlen\u001B[39m(\u001B[43mrfecv\u001B[49m\u001B[38;5;241;43m.\u001B[39;49m\u001B[43mgrid_scores_\u001B[49m)\u001B[38;5;241m+\u001B[39m\u001B[38;5;241m1\u001B[39m), rfecv\u001B[38;5;241m.\u001B[39mgrid_scores_)\n\u001B[0;32m     13\u001B[0m plt\u001B[38;5;241m.\u001B[39mshow()\n\u001B[0;32m     15\u001B[0m \u001B[38;5;66;03m#Optimal number of features is 232\u001B[39;00m\n\u001B[0;32m     16\u001B[0m \n\u001B[0;32m     17\u001B[0m \u001B[38;5;66;03m#commented out to save run time when restarting kernel\u001B[39;00m\n",
      "\u001B[1;31mAttributeError\u001B[0m: 'RFECV' object has no attribute 'grid_scores_'"
     ]
    },
    {
     "data": {
      "text/plain": "<Figure size 640x480 with 1 Axes>",
      "image/png": "[encoded data removed]"
     },
     "metadata": {},
     "output_type": "display_data"
    }
   ],
   "source": [
    "#Cross Validation for features\n",
    "\n",
    "rf = RandomForestClassifier(n_estimators = 1000, random_state = 7 )\n",
    "rfecv = RFECV(estimator=rf, step=1, n_jobs=-1, cv=StratifiedKFold(2), verbose=1, scoring='roc_auc')\n",
    "rfecv.fit(X_train, y_train)\n",
    "\n",
    "print(f'Optimal number of features: {rfecv.n_features_}')\n",
    "\n",
    "\n",
    "#Optimal number of features is 232\n",
    "\n"
   ],
   "metadata": {
    "collapsed": false
   }
  },
  {
   "cell_type": "code",
   "execution_count": 29,
   "metadata": {},
   "outputs": [
    {
     "name": "stdout",
     "output_type": "stream",
     "text": [
      "1. rap 0.07338067434111464\n",
      "2. speechiness 0.050407626497393415\n",
      "3. energy 0.04533777337736288\n",
      "4. danceability 0.043416393481863165\n",
      "5. instrumentalness 0.042697105051097604\n",
      "6. loudness 0.04092880252721668\n",
      "7. acousticness 0.03507823743659393\n",
      "8. detroit hip hop 0.034302485156577356\n",
      "9. tempo 0.03183338031885002\n",
      "10. valence 0.03137924787590353\n",
      "11. liveness 0.030653429870509764\n",
      "12. hip hop 0.027732750028463874\n",
      "13. chicago rap 0.024633724420120705\n",
      "14. new orleans rap 0.021977039079103367\n",
      "15. atl hip hop 0.02195072244400758\n",
      "16. underground hip hop 0.021663480368939565\n",
      "17. escape room 0.019497149952502593\n",
      "18. west coast rap 0.01829968900060041\n",
      "19. key 0.018220628076729473\n",
      "20. kansas city hip hop 0.01813147225963202\n",
      "21. psychedelic hip hop 0.017594989537704227\n",
      "22. east coast hip hop 0.017516561768414304\n",
      "23. pop rap 0.01721553619200151\n",
      "24. canadian hip hop 0.01696395916559439\n",
      "25. conscious hip hop 0.016271585267872674\n",
      "26. southern hip hop 0.0150330855380227\n",
      "27. melodic rap 0.013817814133315462\n",
      "28. rock 0.013720503497726438\n",
      "29. trap 0.013246660531703104\n",
      "30. deep underground hip hop 0.013219057988377596\n",
      "31. hardcore hip hop 0.009751733949610656\n",
      "32. gangster rap 0.008944159466504894\n",
      "33. dmv rap 0.008895152043419549\n",
      "34. tennessee hip hop 0.008141507997914457\n",
      "35. pop 0.00791612387014642\n",
      "36. alternative hip hop 0.007142128132590238\n",
      "37. dance pop 0.006608057697398131\n",
      "38. philly rap 0.006258864616135829\n",
      "39. mode 0.006165880091567006\n",
      "40. dirty south rap 0.005931387846152508\n",
      "41. north carolina hip hop 0.005834897889966989\n",
      "42. vapor trap 0.005076375441623974\n",
      "43. la pop 0.004876779214061236\n",
      "44. queens hip hop 0.00485498209578312\n",
      "45. memphis hip hop 0.0046703364360936965\n",
      "46. harlem hip hop 0.004071627264316353\n",
      "47. time_signature 0.003946774871028705\n",
      "48. nyc rap 0.0032752237296167393\n",
      "49. r&b 0.0029079114978221936\n",
      "50. crunk 0.0028780341809934856\n"
     ]
    }
   ],
   "source": [
    "#Random Forest classifier\n",
    "rf = RandomForestClassifier(n_estimators = 1000, random_state = 7 )\n",
    "\n",
    "#fitting model now to see a list of important features for my song data\n",
    "rf.fit(X_train, y_train)\n",
    "\n",
    "important_features = {}\n",
    "for x,y in enumerate(rf.feature_importances_):\n",
    "    important_features[x] = y\n",
    "\n",
    "important_features_list = sorted(important_features,\n",
    "                                 key=important_features.get,\n",
    "                                 reverse=True)\n",
    "\n",
    "# Printing the top features\n",
    "for i in range(len(important_features_list[:50])):\n",
    "    print(f\"{i+1}. {X_train.columns[important_features_list[i]]} {important_features[important_features_list[i]]}\")"
   ]
  },
  {
   "cell_type": "markdown",
   "metadata": {},
   "source": [
    "This lists of feature importance at first glance looks accurate. My favorite type of music, as well as my favorite/ most listened to artists I would classify as rap or hip hop. Most of the music I listen to is at the gym, where I prefer loud, fast-tempo rap songs to fuel my workout.\n",
    "\n",
    "One other thing I notice, is that the music type is not extremely diverse. Most of the genres of importance could theoretically all fall under the same large umbrella of \"rap music\". (several different types of hip hop and rap). My music taste is very diverse, as seen in my saved_playlist dataframe. I have different types of musical tastes including classical, rock, alternative, even some songs sung in Chinese from artists who I cannot pronounce the name of, from the 1940's. Based on my top artist data, I would predict that the models will recommend primarily rap and hip hop type music. While not as diverse as it could be, I believe the results I get may be even more accurate in that the songs it recommends will have a higher chance of me liking them."
   ]
  },
  {
   "cell_type": "markdown",
   "metadata": {},
   "source": [
    "The 3 types of classification models I want to test my on data on are Logistical Regression, kNN, and Random Forest. Between these 3 models, I will select the best model and test it on a dataset of songs that Spotify recommended for me, and try to predict which songs from that dataset I will like the most."
   ]
  },
  {
   "cell_type": "markdown",
   "metadata": {},
   "source": [
    "### Logistic Regression"
   ]
  },
  {
   "cell_type": "code",
   "execution_count": 30,
   "metadata": {},
   "outputs": [
    {
     "name": "stdout",
     "output_type": "stream",
     "text": [
      "The accuracy score is: 0.8986784140969163\n",
      "              precision    recall  f1-score   support\n",
      "\n",
      "           0       0.95      0.91      0.93       158\n",
      "           1       0.80      0.88      0.84        69\n",
      "\n",
      "    accuracy                           0.90       227\n",
      "   macro avg       0.87      0.89      0.88       227\n",
      "weighted avg       0.90      0.90      0.90       227\n",
      "\n"
     ]
    }
   ],
   "source": [
    "#Logistic Regression\n",
    "lr = LogisticRegression()\n",
    "\n",
    "#fit model with train data\n",
    "lr.fit(X_train, y_train)\n",
    "\n",
    "print('The accuracy score is: ' + str(accuracy_score(lr.predict(X_test), y_test)))\n",
    "print(classification_report(lr.predict(X_test), y_test))"
   ]
  },
  {
   "cell_type": "code",
   "execution_count": 31,
   "metadata": {},
   "outputs": [
    {
     "name": "stdout",
     "output_type": "stream",
     "text": [
      "The accuracy score is: 0.6651982378854625\n",
      "              precision    recall  f1-score   support\n",
      "\n",
      "           0       1.00      0.67      0.80       227\n",
      "           1       0.00      0.00      0.00         0\n",
      "\n",
      "    accuracy                           0.67       227\n",
      "   macro avg       0.50      0.33      0.40       227\n",
      "weighted avg       1.00      0.67      0.80       227\n",
      "\n"
     ]
    }
   ],
   "source": [
    "#Checking accuracy after SCALING Data\n",
    "minmax_scaler = MinMaxScaler()\n",
    "X_train_scaled = pd.DataFrame(minmax_scaler.fit_transform(X_train), columns=X_train.columns)\n",
    "\n",
    "#Logistic Regression\n",
    "lr = LogisticRegression()\n",
    "\n",
    "#fit model with train data\n",
    "lr.fit(X_train_scaled, y_train)\n",
    "\n",
    "print('The accuracy score is: ' + str(accuracy_score(lr.predict(X_test), y_test)))\n",
    "print(classification_report(lr.predict(X_test), y_test))"
   ]
  },
  {
   "cell_type": "markdown",
   "metadata": {},
   "source": [
    "It seems that scaling the data makes the accuracy and models perform much worse. I will test my data on more models to see how this compares before making any decisions."
   ]
  },
  {
   "cell_type": "markdown",
   "metadata": {},
   "source": [
    "### KNN"
   ]
  },
  {
   "cell_type": "code",
   "execution_count": 32,
   "metadata": {},
   "outputs": [
    {
     "data": {
      "text/plain": "({'n_neighbors': 2}, 0.585026889408075)"
     },
     "execution_count": 32,
     "metadata": {},
     "output_type": "execute_result"
    }
   ],
   "source": [
    "knn = KNeighborsClassifier()\n",
    "\n",
    "#First thing I want to do is test for the optimal number of n_neighbors\n",
    "knn_params = {'n_neighbors': range(1, 20)}\n",
    "\n",
    "knn_gcv = GridSearchCV(knn, knn_params, n_jobs=1, cv=StratifiedKFold(2), scoring='roc_auc')\n",
    "knn_gcv.fit(X_train, y_train)\n",
    "knn_gcv.best_params_, knn_gcv.best_score_"
   ]
  },
  {
   "cell_type": "code",
   "execution_count": 33,
   "metadata": {},
   "outputs": [
    {
     "name": "stdout",
     "output_type": "stream",
     "text": [
      "The accuracy score is: 0.6563876651982379\n",
      "              precision    recall  f1-score   support\n",
      "\n",
      "           0       0.85      0.70      0.77       185\n",
      "           1       0.26      0.48      0.34        42\n",
      "\n",
      "    accuracy                           0.66       227\n",
      "   macro avg       0.56      0.59      0.55       227\n",
      "weighted avg       0.74      0.66      0.69       227\n",
      "\n"
     ]
    }
   ],
   "source": [
    "#KNN model with training data, using optimal n_neighbors of 2\n",
    "knn = KNeighborsClassifier(n_neighbors = 2)\n",
    "\n",
    "#Fitting Model with UNSCALED training data\n",
    "knn.fit(X_train, y_train)\n",
    "\n",
    "#Accuracy score and classification report\n",
    "print('The accuracy score is: ' + str(accuracy_score(knn.predict(X_test), y_test)))\n",
    "print(classification_report(knn.predict(X_test), y_test))"
   ]
  },
  {
   "cell_type": "code",
   "execution_count": 34,
   "metadata": {},
   "outputs": [
    {
     "name": "stdout",
     "output_type": "stream",
     "text": [
      "The accuracy score is: 0.6651982378854625\n",
      "              precision    recall  f1-score   support\n",
      "\n",
      "           0       1.00      0.67      0.80       227\n",
      "           1       0.00      0.00      0.00         0\n",
      "\n",
      "    accuracy                           0.67       227\n",
      "   macro avg       0.50      0.33      0.40       227\n",
      "weighted avg       1.00      0.67      0.80       227\n",
      "\n"
     ]
    }
   ],
   "source": [
    "#Checking Model after SCALING Data\n",
    "#KNN model with training data, using optimal n_neighbors of 2\n",
    "knn = KNeighborsClassifier(n_neighbors = 2)\n",
    "\n",
    "#Fitting Model with training data\n",
    "knn.fit(X_train_scaled, y_train)\n",
    "\n",
    "#Accuracy score and classification report\n",
    "print('The accuracy score is: ' + str(accuracy_score(knn.predict(X_test), y_test)))\n",
    "print(classification_report(knn.predict(X_test), y_test))"
   ]
  },
  {
   "cell_type": "markdown",
   "metadata": {},
   "source": [
    "Using the optimal n_neighbors of 2 (as opposed to the default n_neighbors of 5) improved the accuracy score about 0.05 from roughly 0.60 to 0.65. Then a very minor improvement of 0.01 after using scaled data. This is ok, but does not compare to the Logistic Regression Model. Think it is safe to say this is the least effective\n",
    "\n",
    "The final model I will test my data on will be a Random Forest Model."
   ]
  },
  {
   "cell_type": "markdown",
   "metadata": {},
   "source": [
    "## Random Forest"
   ]
  },
  {
   "cell_type": "code",
   "execution_count": 43,
   "metadata": {},
   "outputs": [
    {
     "name": "stdout",
     "output_type": "stream",
     "text": [
      "Best Parameters:  {'max_depth': 20, 'min_samples_leaf': 1}\n",
      "Best Score:  0.9737027128862118\n"
     ]
    }
   ],
   "source": [
    "# Create an instance of RandomForestClassifier\n",
    "rfc = RandomForestClassifier()\n",
    "\n",
    "#First thing I want to do is test for the optimal parameters\n",
    "rfc_params = {'min_samples_leaf': [1, 3, 5, 10, 20], \n",
    "              'max_depth': [2, 4, 5, 10, 12, 16, 20], \n",
    "             }\n",
    "\n",
    "# Perform Grid Search with cross-validation\n",
    "rfc_gcv = GridSearchCV(rfc, rfc_params, n_jobs=1, cv=StratifiedKFold(3), scoring='roc_auc')\n",
    "rfc_gcv.fit(X_train, y_train)\n",
    "\n",
    "\n",
    "# Print the best parameters and the best score\n",
    "print('Best Parameters: ', rfc_gcv.best_params_)\n",
    "print('Best Score: ', rfc_gcv.best_score_)"
   ]
  },
  {
   "cell_type": "code",
   "execution_count": 44,
   "metadata": {},
   "outputs": [
    {
     "name": "stdout",
     "output_type": "stream",
     "text": [
      "The accuracy score is:  0.9383259911894273\n",
      "Classification Report: \n",
      "               precision    recall  f1-score   support\n",
      "\n",
      "           0       0.99      0.93      0.96       161\n",
      "           1       0.84      0.97      0.90        66\n",
      "\n",
      "    accuracy                           0.94       227\n",
      "   macro avg       0.91      0.95      0.93       227\n",
      "weighted avg       0.94      0.94      0.94       227\n",
      "\n"
     ]
    }
   ],
   "source": [
    "# Create a new instance of RandomForestClassifier with the best parameters\n",
    "rfc_best = RandomForestClassifier(max_depth=rfc_gcv.best_params_['max_depth'], min_samples_leaf=rfc_gcv.best_params_['min_samples_leaf'])\n",
    "\n",
    "# Fit the model with the training data\n",
    "rfc_best.fit(X_train, y_train)\n",
    "\n",
    "# Calculate accuracy score and classification report on test data\n",
    "y_pred = rfc_best.predict(X_test)\n",
    "print('The accuracy score is: ', accuracy_score(y_pred, y_test))\n",
    "print('Classification Report: \\n', classification_report(y_pred, y_test))"
   ]
  },
  {
   "cell_type": "code",
   "execution_count": null,
   "metadata": {},
   "outputs": [],
   "source": [
    "#Random Forest Does not need scaled data"
   ]
  },
  {
   "cell_type": "markdown",
   "metadata": {},
   "source": [
    "This Random Forest Classifier Model seems to perform the best over any model, scaled or unscaled. This will be the model I use."
   ]
  },
  {
   "cell_type": "markdown",
   "metadata": {},
   "source": [
    "### Recommendations"
   ]
  },
  {
   "cell_type": "markdown",
   "metadata": {},
   "source": [
    "For the recommendations, I will be importing a dataset I collected from my spotify of spotify's recommended tracks that they believe I would enjoy. This will be the validation set that I will use to see which of those songs my model thinks I will enjoy the most"
   ]
  },
  {
   "cell_type": "code",
   "execution_count": 45,
   "metadata": {},
   "outputs": [],
   "source": [
    "#creating a rating column for recommendation playlist\n",
    "recommendation_tracks_df['ratings'] = rfc_best.predict(X_recommend)\n",
    "\n",
    "#Creating a probability rating for the songs\n",
    "recommendation_tracks_df['prob_ratings'] = rfc_best.predict_proba(X_recommend)[:,1]"
   ]
  },
  {
   "cell_type": "code",
   "execution_count": 46,
   "metadata": {
    "scrolled": false
   },
   "outputs": [
    {
     "data": {
      "text/plain": "      index                      id  \\\n3309   4001  0y9uTzK9cNKSAEHnpeRG8C   \n2766   3191  439TlnnznSiBbQbgXiBqAd   \n3218   3873  3wScL5W8H40zzCKN0atfBk   \n125     127  56ehF3tXMjwLJkAmuKzRE2   \n2674   3053  4Pwjz3DfvfQWV0rO2V8jyh   \n3487   4230  2aQwdBWk4vSPWk1Csgtzdo   \n3496   4241  2Fw5S2gaOSZzdN5dFoC2dj   \n777     817  1WFATT2cfUTj4Fbd0dJ9tq   \n2192   2461  5f9JYuHSIHjp6rggue13RS   \n2585   2939  3eMsgWDRq5dKl5SBTYGv2J   \n4010   5091  2UciqgwVDwro0fev3MFbxJ   \n3214   3866  2DLsQuwxEdXt2yp54vw355   \n2765   3189  6BCs8vxnGgKL9eMCOrG2wm   \n2966   3474  6HZILIRieu8S0iqY8kIKhj   \n2191   2460  28FGV3ORH14MYORd7s5dlU   \n2013   2235  3RvLAm0ESbUOUZOD7sF4xn   \n2759   3181  7KXjTSCq5nL1LoYtL7XAwS   \n4066   5189  5Mtt6tZSZA9cXTHGSGpyh0   \n2249   2542  1EaKU4dMbesXXd3BrLCtYG   \n3703   4605  7M2tXmeS15NAzEn7ABFeBg   \n1575   1718  4svCVV4VHEL3Z4efES868h   \n2200   2473  40YbWniIEmqy6s58fYXLUh   \n3121   3725  3aGibUHhQyBsyumYHylw0K   \n3315   4009  6PGoSes0D9eUDeeAafB2As   \n3126   3731  75IN3CtuZwTHTnZvYM4qnJ   \n79       79  2LTlO3NuNVN70lp2ZbVswF   \n2115   2369  760VYgBLbNyEJp4jLa0CZ6   \n2208   2481  5qz9p7cQR0sMnjDQb9Tbnu   \n2784   3212  3fjygttONLYtPMS0OzZKnF   \n3638   4491  3iVcZ5G6tvkXZkZKlMpIUs   \n3618   4444  17N5FdRwJuv3UXQ7MHnbhF   \n2054   2283  4EAV2cKiqKP5UPZmY6dejk   \n1221   1317  4woTEX1wYOTGDqNXuavlRC   \n3403   4107  3I0FBDc1c1BLNtXWKVjmFg   \n2767   3192  4SE4yewyGpOYfxfx59Yjc5   \n2197   2466  0dbTQYW3Ad1FTzIA9t90E8   \n2976   3489  561jH07mF1jHuk7KlaeF0s   \n1672   1830  724oI0EKyTMjTSitMaWwfZ   \n3591   4404  0utlOiJy2weVl9WTkcEWHy   \n3310   4002  7yotKA30dwTKNEGomV9ZsI   \n2084   2322  5YGhm6pI5s0uxJ2DwrDYqO   \n121     121  5gmkw2031VVIboYqPIjSWB   \n3689   4583  0N3W5peJUQtI4eyR6GJT5O   \n2668   3046  6Ius4TC0L3cN74HT7ENE6e   \n2760   3182  5rxPi0MiR4miNK0rCmk980   \n2068   2299  3PYx9Wte3jwb48V0wArMOy   \n3313   4007  2JvzF1RMd7lE3KmFlsyZD8   \n3131   3738  1jo3TwNGCXfNdB5uba3ZVv   \n375     386  136f0Bq7MWT4V4IHgmGVUo   \n2386   2710  4hsncV3bzuB83dBJcnSCBl   \n\n                                             name  popularity            type  \\\n3309                                   DUCKWORTH.          69  audio_features   \n2766                                 m.A.A.d city          69  audio_features   \n3218                                       Uproar          71  audio_features   \n125                                     Surf Swag          56  audio_features   \n2674                    Bitch, Don’t Kill My Vibe          69  audio_features   \n3487                                    This Life          61  audio_features   \n3496                                      A.D.H.D          74  audio_features   \n777                                     Amorphous          28  audio_features   \n2192                                     Mahogany          56  audio_features   \n2585                                       Higher          74  audio_features   \n4010                                          ATM          67  audio_features   \n3214                                   No Worries          60  audio_features   \n2765                                6 Foot 7 Foot          74  audio_features   \n2966                                         DNA.          80  audio_features   \n2191               Not Alike (feat. Royce Da 5'9)          69  audio_features   \n2013                                  Case Closed          72  audio_features   \n2759                                      HUMBLE.          84  audio_features   \n4066                        The Blacker The Berry          63  audio_features   \n2249                                     ELEMENT.          73  audio_features   \n3703                      Homicide (feat. Eminem)          76  audio_features   \n1575                                        Go DJ          61  audio_features   \n2200                             Never Love Again          67  audio_features   \n3121                           Backseat Freestyle          70  audio_features   \n3315                          LOVE. FEAT. ZACARI.          81  audio_features   \n3126                                   My Name Is          75  audio_features   \n79                                          FEEL.          67  audio_features   \n2115            Mama/Show Love (feat. YBN Cordae)          57  audio_features   \n2208                                      GIANNIS          39  audio_features   \n2784                                       Skitzo          55  audio_features   \n3638                                      Alright          77  audio_features   \n3618                                       Ballin          73  audio_features   \n2054                                     Everyday          73  audio_features   \n1221                                     Superman          74  audio_features   \n3403                    untitled 02 | 06.23.2014.          67  audio_features   \n2767                               Cinderella Man          71  audio_features   \n2197             Mona Lisa (feat. Kendrick Lamar)          70  audio_features   \n2976                                  Mockingbird          78  audio_features   \n1672                                 Blunt Blowin          64  audio_features   \n3591                                    Neighbors          75  audio_features   \n3310                                          KOD          71  audio_features   \n2084                      Water on Water on Water          67  audio_features   \n121                       1 Scale (feat. G Herbo)          78  audio_features   \n3689                                   King Kunta          76  audio_features   \n2668                                   Wet Dreamz          82  audio_features   \n2760  Broken People (with Logic & Rag'n'Bone Man)          61  audio_features   \n2068                                 Keanu Reeves          69  audio_features   \n3313                                 MIDDLE CHILD          82  audio_features   \n3131                                     Killshot          74  audio_features   \n375                                    As You Are          57  audio_features   \n2386                        Straight Out the Gate          57  audio_features   \n\n      is_local  explicit  duration_ms  disc_number  track_number  ...  \\\n3309     False      True       248613            1            14  ...   \n2766     False      True       350120            1             8  ...   \n3218     False      True       194184            1             4  ...   \n125      False      True       249574            1             1  ...   \n2674     False      True       310720            1             2  ...   \n3487     False      True       207214            1             7  ...   \n3496     False      True       215509            1             3  ...   \n777      False      True       201938            1            12  ...   \n2192     False      True       177867            1             2  ...   \n2585     False      True       222037            1             9  ...   \n4010     False      True       216727            1             5  ...   \n3214     False      True       221000            1             5  ...   \n2765     False      True       248587            1             4  ...   \n2966     False      True       185947            1             2  ...   \n2191     False      True       288087            1             8  ...   \n2013     False      True       227912            1             8  ...   \n2759     False      True       177000            1             8  ...   \n4066     False      True       328827            1            13  ...   \n2249     False      True       208733            1             4  ...   \n3703     False      True       245387            1             2  ...   \n1575     False      True       281827            1             2  ...   \n2200     False      True       177547            1            14  ...   \n3121     False      True       212653            1             3  ...   \n3315     False      True       213400            1            10  ...   \n3126     False      True       268400            1             2  ...   \n79       False      True       214827            1             5  ...   \n2115     False      True       241307            1             5  ...   \n2208     False      True       151081            1             1  ...   \n2784     False      True       200115            1             1  ...   \n3638     False      True       219333            1             7  ...   \n3618     False      True       166080            1             8  ...   \n2054     False      True       204747            1            12  ...   \n1221     False      True       350320            1            13  ...   \n3403     False      True       258827            1             2  ...   \n2767     False      True       279013            1            11  ...   \n2197     False      True       324189            1             8  ...   \n2976     False      True       250760            1            16  ...   \n1672     False      True       312960            1             2  ...   \n3591     False      True       216520            1             7  ...   \n3310     False      True       191437            1             2  ...   \n2084     False      True       223520            1            11  ...   \n121      False      True       176040            1            16  ...   \n3689     False      True       234693            1             3  ...   \n2668     False      True       239320            1             3  ...   \n2760     False     False       212067            1             1  ...   \n2068     False      True       225920            1            13  ...   \n3313     False      True       213594            1             1  ...   \n3131     False      True       253580            1             1  ...   \n375      False      True       163468            1             1  ...   \n2386     False      True       250360            1             2  ...   \n\n     instrumentalness liveness valence    tempo  \\\n3309         0.000000   0.2580  0.6320  174.516   \n2766         0.000004   0.4400  0.2170   91.048   \n3218         0.000000   0.2990  0.8840   99.079   \n125          0.000000   0.1010  0.3460   97.908   \n2674         0.000000   0.4420  0.0985  133.954   \n3487         0.000000   0.1200  0.8110  152.043   \n3496         0.000000   0.1080  0.5820  157.740   \n777          0.000000   0.1180  0.5850  148.082   \n2192         0.000000   0.4060  0.4100   79.480   \n2585         0.000000   0.6740  0.5250  148.000   \n4010         0.000000   0.0898  0.3510   81.817   \n3214         0.000000   0.0817  0.8190  128.033   \n2765         0.000000   0.3180  0.6040   79.119   \n2966         0.000000   0.0842  0.4220  139.913   \n2191         0.000000   0.3390  0.3420  140.005   \n2013         0.000023   0.0826  0.5100  144.042   \n2759         0.000054   0.0958  0.4210  150.011   \n4066         0.000000   0.4630  0.2700  176.058   \n2249         0.000000   0.2460  0.4830  189.891   \n3703         0.000000   0.1670  0.7700  140.055   \n1575         0.000000   0.2230  0.6990  157.955   \n2200         0.000000   0.4860  0.5810   92.029   \n3121         0.000000   0.2350  0.6460   77.878   \n3315         0.000000   0.1530  0.7790  126.058   \n3126         0.000001   0.0914  0.8150   85.519   \n79           0.000000   0.1390  0.5530  109.968   \n2115         0.000000   0.0898  0.2560  154.053   \n2208         0.000000   0.2350  0.6920  127.992   \n2784         0.000004   0.4660  0.7380  126.626   \n3638         0.000000   0.0827  0.5580  110.034   \n3618         0.000000   0.0905  0.6500  150.621   \n2054         0.000000   0.0761  0.4220  149.908   \n1221         0.000000   0.2950  0.5800  130.027   \n3403         0.000000   0.6440  0.0930   89.436   \n2767         0.000000   0.0821  0.6870   85.918   \n2197         0.000000   0.1090  0.4890  122.080   \n2976         0.000000   0.1560  0.2540   84.039   \n1672         0.000000   0.2240  0.3750  135.988   \n3591         0.000383   0.1100  0.4690  138.970   \n3310         0.000000   0.1130  0.1990  141.882   \n2084         0.000000   0.0963  0.3820  141.001   \n121          0.000000   0.2760  0.3310  135.035   \n3689         0.000000   0.1540  0.4890  107.059   \n2668         0.000000   0.1280  0.5840  175.906   \n2760         0.000000   0.0758  0.3080   79.959   \n2068         0.000000   0.1340  0.7990  170.130   \n3313         0.000000   0.2710  0.4630  123.984   \n3131         0.000000   0.3710  0.6000  105.835   \n375          0.000000   0.0994  0.4590  129.987   \n2386         0.000000   0.6530  0.1690  164.076   \n\n                                       uri  \\\n3309  spotify:track:0y9uTzK9cNKSAEHnpeRG8C   \n2766  spotify:track:439TlnnznSiBbQbgXiBqAd   \n3218  spotify:track:3wScL5W8H40zzCKN0atfBk   \n125   spotify:track:56ehF3tXMjwLJkAmuKzRE2   \n2674  spotify:track:4Pwjz3DfvfQWV0rO2V8jyh   \n3487  spotify:track:2aQwdBWk4vSPWk1Csgtzdo   \n3496  spotify:track:2Fw5S2gaOSZzdN5dFoC2dj   \n777   spotify:track:1WFATT2cfUTj4Fbd0dJ9tq   \n2192  spotify:track:5f9JYuHSIHjp6rggue13RS   \n2585  spotify:track:3eMsgWDRq5dKl5SBTYGv2J   \n4010  spotify:track:2UciqgwVDwro0fev3MFbxJ   \n3214  spotify:track:2DLsQuwxEdXt2yp54vw355   \n2765  spotify:track:6BCs8vxnGgKL9eMCOrG2wm   \n2966  spotify:track:6HZILIRieu8S0iqY8kIKhj   \n2191  spotify:track:28FGV3ORH14MYORd7s5dlU   \n2013  spotify:track:3RvLAm0ESbUOUZOD7sF4xn   \n2759  spotify:track:7KXjTSCq5nL1LoYtL7XAwS   \n4066  spotify:track:5Mtt6tZSZA9cXTHGSGpyh0   \n2249  spotify:track:1EaKU4dMbesXXd3BrLCtYG   \n3703  spotify:track:7M2tXmeS15NAzEn7ABFeBg   \n1575  spotify:track:4svCVV4VHEL3Z4efES868h   \n2200  spotify:track:40YbWniIEmqy6s58fYXLUh   \n3121  spotify:track:3aGibUHhQyBsyumYHylw0K   \n3315  spotify:track:6PGoSes0D9eUDeeAafB2As   \n3126  spotify:track:75IN3CtuZwTHTnZvYM4qnJ   \n79    spotify:track:2LTlO3NuNVN70lp2ZbVswF   \n2115  spotify:track:760VYgBLbNyEJp4jLa0CZ6   \n2208  spotify:track:5qz9p7cQR0sMnjDQb9Tbnu   \n2784  spotify:track:3fjygttONLYtPMS0OzZKnF   \n3638  spotify:track:3iVcZ5G6tvkXZkZKlMpIUs   \n3618  spotify:track:17N5FdRwJuv3UXQ7MHnbhF   \n2054  spotify:track:4EAV2cKiqKP5UPZmY6dejk   \n1221  spotify:track:4woTEX1wYOTGDqNXuavlRC   \n3403  spotify:track:3I0FBDc1c1BLNtXWKVjmFg   \n2767  spotify:track:4SE4yewyGpOYfxfx59Yjc5   \n2197  spotify:track:0dbTQYW3Ad1FTzIA9t90E8   \n2976  spotify:track:561jH07mF1jHuk7KlaeF0s   \n1672  spotify:track:724oI0EKyTMjTSitMaWwfZ   \n3591  spotify:track:0utlOiJy2weVl9WTkcEWHy   \n3310  spotify:track:7yotKA30dwTKNEGomV9ZsI   \n2084  spotify:track:5YGhm6pI5s0uxJ2DwrDYqO   \n121   spotify:track:5gmkw2031VVIboYqPIjSWB   \n3689  spotify:track:0N3W5peJUQtI4eyR6GJT5O   \n2668  spotify:track:6Ius4TC0L3cN74HT7ENE6e   \n2760  spotify:track:5rxPi0MiR4miNK0rCmk980   \n2068  spotify:track:3PYx9Wte3jwb48V0wArMOy   \n3313  spotify:track:2JvzF1RMd7lE3KmFlsyZD8   \n3131  spotify:track:1jo3TwNGCXfNdB5uba3ZVv   \n375   spotify:track:136f0Bq7MWT4V4IHgmGVUo   \n2386  spotify:track:4hsncV3bzuB83dBJcnSCBl   \n\n                                             track_href  \\\n3309  https://api.spotify.com/v1/tracks/0y9uTzK9cNKS...   \n2766  https://api.spotify.com/v1/tracks/439TlnnznSiB...   \n3218  https://api.spotify.com/v1/tracks/3wScL5W8H40z...   \n125   https://api.spotify.com/v1/tracks/56ehF3tXMjwL...   \n2674  https://api.spotify.com/v1/tracks/4Pwjz3DfvfQW...   \n3487  https://api.spotify.com/v1/tracks/2aQwdBWk4vSP...   \n3496  https://api.spotify.com/v1/tracks/2Fw5S2gaOSZz...   \n777   https://api.spotify.com/v1/tracks/1WFATT2cfUTj...   \n2192  https://api.spotify.com/v1/tracks/5f9JYuHSIHjp...   \n2585  https://api.spotify.com/v1/tracks/3eMsgWDRq5dK...   \n4010  https://api.spotify.com/v1/tracks/2UciqgwVDwro...   \n3214  https://api.spotify.com/v1/tracks/2DLsQuwxEdXt...   \n2765  https://api.spotify.com/v1/tracks/6BCs8vxnGgKL...   \n2966  https://api.spotify.com/v1/tracks/6HZILIRieu8S...   \n2191  https://api.spotify.com/v1/tracks/28FGV3ORH14M...   \n2013  https://api.spotify.com/v1/tracks/3RvLAm0ESbUO...   \n2759  https://api.spotify.com/v1/tracks/7KXjTSCq5nL1...   \n4066  https://api.spotify.com/v1/tracks/5Mtt6tZSZA9c...   \n2249  https://api.spotify.com/v1/tracks/1EaKU4dMbesX...   \n3703  https://api.spotify.com/v1/tracks/7M2tXmeS15NA...   \n1575  https://api.spotify.com/v1/tracks/4svCVV4VHEL3...   \n2200  https://api.spotify.com/v1/tracks/40YbWniIEmqy...   \n3121  https://api.spotify.com/v1/tracks/3aGibUHhQyBs...   \n3315  https://api.spotify.com/v1/tracks/6PGoSes0D9eU...   \n3126  https://api.spotify.com/v1/tracks/75IN3CtuZwTH...   \n79    https://api.spotify.com/v1/tracks/2LTlO3NuNVN7...   \n2115  https://api.spotify.com/v1/tracks/760VYgBLbNyE...   \n2208  https://api.spotify.com/v1/tracks/5qz9p7cQR0sM...   \n2784  https://api.spotify.com/v1/tracks/3fjygttONLYt...   \n3638  https://api.spotify.com/v1/tracks/3iVcZ5G6tvkX...   \n3618  https://api.spotify.com/v1/tracks/17N5FdRwJuv3...   \n2054  https://api.spotify.com/v1/tracks/4EAV2cKiqKP5...   \n1221  https://api.spotify.com/v1/tracks/4woTEX1wYOTG...   \n3403  https://api.spotify.com/v1/tracks/3I0FBDc1c1BL...   \n2767  https://api.spotify.com/v1/tracks/4SE4yewyGpOY...   \n2197  https://api.spotify.com/v1/tracks/0dbTQYW3Ad1F...   \n2976  https://api.spotify.com/v1/tracks/561jH07mF1jH...   \n1672  https://api.spotify.com/v1/tracks/724oI0EKyTMj...   \n3591  https://api.spotify.com/v1/tracks/0utlOiJy2weV...   \n3310  https://api.spotify.com/v1/tracks/7yotKA30dwTK...   \n2084  https://api.spotify.com/v1/tracks/5YGhm6pI5s0u...   \n121   https://api.spotify.com/v1/tracks/5gmkw2031VVI...   \n3689  https://api.spotify.com/v1/tracks/0N3W5peJUQtI...   \n2668  https://api.spotify.com/v1/tracks/6Ius4TC0L3cN...   \n2760  https://api.spotify.com/v1/tracks/5rxPi0MiR4mi...   \n2068  https://api.spotify.com/v1/tracks/3PYx9Wte3jwb...   \n3313  https://api.spotify.com/v1/tracks/2JvzF1RMd7lE...   \n3131  https://api.spotify.com/v1/tracks/1jo3TwNGCXfN...   \n375   https://api.spotify.com/v1/tracks/136f0Bq7MWT4...   \n2386  https://api.spotify.com/v1/tracks/4hsncV3bzuB8...   \n\n                                           analysis_url  time_signature  \\\n3309  https://api.spotify.com/v1/audio-analysis/0y9u...               4   \n2766  https://api.spotify.com/v1/audio-analysis/439T...               4   \n3218  https://api.spotify.com/v1/audio-analysis/3wSc...               4   \n125   https://api.spotify.com/v1/audio-analysis/56eh...               5   \n2674  https://api.spotify.com/v1/audio-analysis/4Pwj...               4   \n3487  https://api.spotify.com/v1/audio-analysis/2aQw...               4   \n3496  https://api.spotify.com/v1/audio-analysis/2Fw5...               4   \n777   https://api.spotify.com/v1/audio-analysis/1WFA...               4   \n2192  https://api.spotify.com/v1/audio-analysis/5f9J...               4   \n2585  https://api.spotify.com/v1/audio-analysis/3eMs...               4   \n4010  https://api.spotify.com/v1/audio-analysis/2Uci...               4   \n3214  https://api.spotify.com/v1/audio-analysis/2DLs...               4   \n2765  https://api.spotify.com/v1/audio-analysis/6BCs...               4   \n2966  https://api.spotify.com/v1/audio-analysis/6HZI...               4   \n2191  https://api.spotify.com/v1/audio-analysis/28FG...               4   \n2013  https://api.spotify.com/v1/audio-analysis/3RvL...               4   \n2759  https://api.spotify.com/v1/audio-analysis/7KXj...               4   \n4066  https://api.spotify.com/v1/audio-analysis/5Mtt...               4   \n2249  https://api.spotify.com/v1/audio-analysis/1EaK...               4   \n3703  https://api.spotify.com/v1/audio-analysis/7M2t...               4   \n1575  https://api.spotify.com/v1/audio-analysis/4svC...               4   \n2200  https://api.spotify.com/v1/audio-analysis/40Yb...               4   \n3121  https://api.spotify.com/v1/audio-analysis/3aGi...               4   \n3315  https://api.spotify.com/v1/audio-analysis/6PGo...               4   \n3126  https://api.spotify.com/v1/audio-analysis/75IN...               4   \n79    https://api.spotify.com/v1/audio-analysis/2LTl...               4   \n2115  https://api.spotify.com/v1/audio-analysis/760V...               4   \n2208  https://api.spotify.com/v1/audio-analysis/5qz9...               4   \n2784  https://api.spotify.com/v1/audio-analysis/3fjy...               3   \n3638  https://api.spotify.com/v1/audio-analysis/3iVc...               4   \n3618  https://api.spotify.com/v1/audio-analysis/17N5...               4   \n2054  https://api.spotify.com/v1/audio-analysis/4EAV...               4   \n1221  https://api.spotify.com/v1/audio-analysis/4woT...               4   \n3403  https://api.spotify.com/v1/audio-analysis/3I0F...               3   \n2767  https://api.spotify.com/v1/audio-analysis/4SE4...               4   \n2197  https://api.spotify.com/v1/audio-analysis/0dbT...               4   \n2976  https://api.spotify.com/v1/audio-analysis/561j...               4   \n1672  https://api.spotify.com/v1/audio-analysis/724o...               4   \n3591  https://api.spotify.com/v1/audio-analysis/0utl...               4   \n3310  https://api.spotify.com/v1/audio-analysis/7yot...               4   \n2084  https://api.spotify.com/v1/audio-analysis/5YGh...               4   \n121   https://api.spotify.com/v1/audio-analysis/5gmk...               4   \n3689  https://api.spotify.com/v1/audio-analysis/0N3W...               4   \n2668  https://api.spotify.com/v1/audio-analysis/6Ius...               4   \n2760  https://api.spotify.com/v1/audio-analysis/5rxP...               4   \n2068  https://api.spotify.com/v1/audio-analysis/3PYx...               4   \n3313  https://api.spotify.com/v1/audio-analysis/2Jvz...               4   \n3131  https://api.spotify.com/v1/audio-analysis/1jo3...               4   \n375   https://api.spotify.com/v1/audio-analysis/136f...               4   \n2386  https://api.spotify.com/v1/audio-analysis/4hsn...               4   \n\n     ratings prob_ratings  \n3309       1     0.975846  \n2766       1     0.958964  \n3218       1     0.955586  \n125        1     0.952175  \n2674       1     0.944964  \n3487       1     0.944883  \n3496       1     0.941044  \n777        1     0.937066  \n2192       1     0.935752  \n2585       1     0.934965  \n4010       1     0.933595  \n3214       1     0.933239  \n2765       1     0.932135  \n2966       1     0.931798  \n2191       1     0.930696  \n2013       1     0.929602  \n2759       1     0.929022  \n4066       1     0.928998  \n2249       1     0.928050  \n3703       1     0.922609  \n1575       1     0.920882  \n2200       1     0.914914  \n3121       1     0.913309  \n3315       1     0.912294  \n3126       1     0.912032  \n79         1     0.909732  \n2115       1     0.906696  \n2208       1     0.903169  \n2784       1     0.903130  \n3638       1     0.902048  \n3618       1     0.901019  \n2054       1     0.894300  \n1221       1     0.892427  \n3403       1     0.889292  \n2767       1     0.889151  \n2197       1     0.885590  \n2976       1     0.885422  \n1672       1     0.883869  \n3591       1     0.882264  \n3310       1     0.879877  \n2084       1     0.878565  \n121        1     0.878215  \n3689       1     0.873668  \n2668       1     0.870145  \n2760       1     0.867816  \n2068       1     0.866513  \n3313       1     0.865516  \n3131       1     0.861797  \n375        1     0.860873  \n2386       1     0.858810  \n\n[50 rows x 38 columns]",
      "text/html": "<div>\n<style scoped>\n    .dataframe tbody tr th:only-of-type {\n        vertical-align: middle;\n    }\n\n    .dataframe tbody tr th {\n        vertical-align: top;\n    }\n\n    .dataframe thead th {\n        text-align: right;\n    }\n</style>\n<table border=\"1\" class=\"dataframe\">\n  <thead>\n    <tr style=\"text-align: right;\">\n      <th></th>\n      <th>index</th>\n      <th>id</th>\n      <th>name</th>\n      <th>popularity</th>\n      <th>type</th>\n      <th>is_local</th>\n      <th>explicit</th>\n      <th>duration_ms</th>\n      <th>disc_number</th>\n      <th>track_number</th>\n      <th>...</th>\n      <th>instrumentalness</th>\n      <th>liveness</th>\n      <th>valence</th>\n      <th>tempo</th>\n      <th>uri</th>\n      <th>track_href</th>\n      <th>analysis_url</th>\n      <th>time_signature</th>\n      <th>ratings</th>\n      <th>prob_ratings</th>\n    </tr>\n  </thead>\n  <tbody>\n    <tr>\n      <th>3309</th>\n      <td>4001</td>\n      <td>0y9uTzK9cNKSAEHnpeRG8C</td>\n      <td>DUCKWORTH.</td>\n      <td>69</td>\n      <td>audio_features</td>\n      <td>False</td>\n      <td>True</td>\n      <td>248613</td>\n      <td>1</td>\n      <td>14</td>\n      <td>...</td>\n      <td>0.000000</td>\n      <td>0.2580</td>\n      <td>0.6320</td>\n      <td>174.516</td>\n      <td>spotify:track:0y9uTzK9cNKSAEHnpeRG8C</td>\n      <td>https://api.spotify.com/v1/tracks/0y9uTzK9cNKS...</td>\n      <td>https://api.spotify.com/v1/audio-analysis/0y9u...</td>\n      <td>4</td>\n      <td>1</td>\n      <td>0.975846</td>\n    </tr>\n    <tr>\n      <th>2766</th>\n      <td>3191</td>\n      <td>439TlnnznSiBbQbgXiBqAd</td>\n      <td>m.A.A.d city</td>\n      <td>69</td>\n      <td>audio_features</td>\n      <td>False</td>\n      <td>True</td>\n      <td>350120</td>\n      <td>1</td>\n      <td>8</td>\n      <td>...</td>\n      <td>0.000004</td>\n      <td>0.4400</td>\n      <td>0.2170</td>\n      <td>91.048</td>\n      <td>spotify:track:439TlnnznSiBbQbgXiBqAd</td>\n      <td>https://api.spotify.com/v1/tracks/439TlnnznSiB...</td>\n      <td>https://api.spotify.com/v1/audio-analysis/439T...</td>\n      <td>4</td>\n      <td>1</td>\n      <td>0.958964</td>\n    </tr>\n    <tr>\n      <th>3218</th>\n      <td>3873</td>\n      <td>3wScL5W8H40zzCKN0atfBk</td>\n      <td>Uproar</td>\n      <td>71</td>\n      <td>audio_features</td>\n      <td>False</td>\n      <td>True</td>\n      <td>194184</td>\n      <td>1</td>\n      <td>4</td>\n      <td>...</td>\n      <td>0.000000</td>\n      <td>0.2990</td>\n      <td>0.8840</td>\n      <td>99.079</td>\n      <td>spotify:track:3wScL5W8H40zzCKN0atfBk</td>\n      <td>https://api.spotify.com/v1/tracks/3wScL5W8H40z...</td>\n      <td>https://api.spotify.com/v1/audio-analysis/3wSc...</td>\n      <td>4</td>\n      <td>1</td>\n      <td>0.955586</td>\n    </tr>\n    <tr>\n      <th>125</th>\n      <td>127</td>\n      <td>56ehF3tXMjwLJkAmuKzRE2</td>\n      <td>Surf Swag</td>\n      <td>56</td>\n      <td>audio_features</td>\n      <td>False</td>\n      <td>True</td>\n      <td>249574</td>\n      <td>1</td>\n      <td>1</td>\n      <td>...</td>\n      <td>0.000000</td>\n      <td>0.1010</td>\n      <td>0.3460</td>\n      <td>97.908</td>\n      <td>spotify:track:56ehF3tXMjwLJkAmuKzRE2</td>\n      <td>https://api.spotify.com/v1/tracks/56ehF3tXMjwL...</td>\n      <td>https://api.spotify.com/v1/audio-analysis/56eh...</td>\n      <td>5</td>\n      <td>1</td>\n      <td>0.952175</td>\n    </tr>\n    <tr>\n      <th>2674</th>\n      <td>3053</td>\n      <td>4Pwjz3DfvfQWV0rO2V8jyh</td>\n      <td>Bitch, Don’t Kill My Vibe</td>\n      <td>69</td>\n      <td>audio_features</td>\n      <td>False</td>\n      <td>True</td>\n      <td>310720</td>\n      <td>1</td>\n      <td>2</td>\n      <td>...</td>\n      <td>0.000000</td>\n      <td>0.4420</td>\n      <td>0.0985</td>\n      <td>133.954</td>\n      <td>spotify:track:4Pwjz3DfvfQWV0rO2V8jyh</td>\n      <td>https://api.spotify.com/v1/tracks/4Pwjz3DfvfQW...</td>\n      <td>https://api.spotify.com/v1/audio-analysis/4Pwj...</td>\n      <td>4</td>\n      <td>1</td>\n      <td>0.944964</td>\n    </tr>\n    <tr>\n      <th>3487</th>\n      <td>4230</td>\n      <td>2aQwdBWk4vSPWk1Csgtzdo</td>\n      <td>This Life</td>\n      <td>61</td>\n      <td>audio_features</td>\n      <td>False</td>\n      <td>True</td>\n      <td>207214</td>\n      <td>1</td>\n      <td>7</td>\n      <td>...</td>\n      <td>0.000000</td>\n      <td>0.1200</td>\n      <td>0.8110</td>\n      <td>152.043</td>\n      <td>spotify:track:2aQwdBWk4vSPWk1Csgtzdo</td>\n      <td>https://api.spotify.com/v1/tracks/2aQwdBWk4vSP...</td>\n      <td>https://api.spotify.com/v1/audio-analysis/2aQw...</td>\n      <td>4</td>\n      <td>1</td>\n      <td>0.944883</td>\n    </tr>\n    <tr>\n      <th>3496</th>\n      <td>4241</td>\n      <td>2Fw5S2gaOSZzdN5dFoC2dj</td>\n      <td>A.D.H.D</td>\n      <td>74</td>\n      <td>audio_features</td>\n      <td>False</td>\n      <td>True</td>\n      <td>215509</td>\n      <td>1</td>\n      <td>3</td>\n      <td>...</td>\n      <td>0.000000</td>\n      <td>0.1080</td>\n      <td>0.5820</td>\n      <td>157.740</td>\n      <td>spotify:track:2Fw5S2gaOSZzdN5dFoC2dj</td>\n      <td>https://api.spotify.com/v1/tracks/2Fw5S2gaOSZz...</td>\n      <td>https://api.spotify.com/v1/audio-analysis/2Fw5...</td>\n      <td>4</td>\n      <td>1</td>\n      <td>0.941044</td>\n    </tr>\n    <tr>\n      <th>777</th>\n      <td>817</td>\n      <td>1WFATT2cfUTj4Fbd0dJ9tq</td>\n      <td>Amorphous</td>\n      <td>28</td>\n      <td>audio_features</td>\n      <td>False</td>\n      <td>True</td>\n      <td>201938</td>\n      <td>1</td>\n      <td>12</td>\n      <td>...</td>\n      <td>0.000000</td>\n      <td>0.1180</td>\n      <td>0.5850</td>\n      <td>148.082</td>\n      <td>spotify:track:1WFATT2cfUTj4Fbd0dJ9tq</td>\n      <td>https://api.spotify.com/v1/tracks/1WFATT2cfUTj...</td>\n      <td>https://api.spotify.com/v1/audio-analysis/1WFA...</td>\n      <td>4</td>\n      <td>1</td>\n      <td>0.937066</td>\n    </tr>\n    <tr>\n      <th>2192</th>\n      <td>2461</td>\n      <td>5f9JYuHSIHjp6rggue13RS</td>\n      <td>Mahogany</td>\n      <td>56</td>\n      <td>audio_features</td>\n      <td>False</td>\n      <td>True</td>\n      <td>177867</td>\n      <td>1</td>\n      <td>2</td>\n      <td>...</td>\n      <td>0.000000</td>\n      <td>0.4060</td>\n      <td>0.4100</td>\n      <td>79.480</td>\n      <td>spotify:track:5f9JYuHSIHjp6rggue13RS</td>\n      <td>https://api.spotify.com/v1/tracks/5f9JYuHSIHjp...</td>\n      <td>https://api.spotify.com/v1/audio-analysis/5f9J...</td>\n      <td>4</td>\n      <td>1</td>\n      <td>0.935752</td>\n    </tr>\n    <tr>\n      <th>2585</th>\n      <td>2939</td>\n      <td>3eMsgWDRq5dKl5SBTYGv2J</td>\n      <td>Higher</td>\n      <td>74</td>\n      <td>audio_features</td>\n      <td>False</td>\n      <td>True</td>\n      <td>222037</td>\n      <td>1</td>\n      <td>9</td>\n      <td>...</td>\n      <td>0.000000</td>\n      <td>0.6740</td>\n      <td>0.5250</td>\n      <td>148.000</td>\n      <td>spotify:track:3eMsgWDRq5dKl5SBTYGv2J</td>\n      <td>https://api.spotify.com/v1/tracks/3eMsgWDRq5dK...</td>\n      <td>https://api.spotify.com/v1/audio-analysis/3eMs...</td>\n      <td>4</td>\n      <td>1</td>\n      <td>0.934965</td>\n    </tr>\n    <tr>\n      <th>4010</th>\n      <td>5091</td>\n      <td>2UciqgwVDwro0fev3MFbxJ</td>\n      <td>ATM</td>\n      <td>67</td>\n      <td>audio_features</td>\n      <td>False</td>\n      <td>True</td>\n      <td>216727</td>\n      <td>1</td>\n      <td>5</td>\n      <td>...</td>\n      <td>0.000000</td>\n      <td>0.0898</td>\n      <td>0.3510</td>\n      <td>81.817</td>\n      <td>spotify:track:2UciqgwVDwro0fev3MFbxJ</td>\n      <td>https://api.spotify.com/v1/tracks/2UciqgwVDwro...</td>\n      <td>https://api.spotify.com/v1/audio-analysis/2Uci...</td>\n      <td>4</td>\n      <td>1</td>\n      <td>0.933595</td>\n    </tr>\n    <tr>\n      <th>3214</th>\n      <td>3866</td>\n      <td>2DLsQuwxEdXt2yp54vw355</td>\n      <td>No Worries</td>\n      <td>60</td>\n      <td>audio_features</td>\n      <td>False</td>\n      <td>True</td>\n      <td>221000</td>\n      <td>1</td>\n      <td>5</td>\n      <td>...</td>\n      <td>0.000000</td>\n      <td>0.0817</td>\n      <td>0.8190</td>\n      <td>128.033</td>\n      <td>spotify:track:2DLsQuwxEdXt2yp54vw355</td>\n      <td>https://api.spotify.com/v1/tracks/2DLsQuwxEdXt...</td>\n      <td>https://api.spotify.com/v1/audio-analysis/2DLs...</td>\n      <td>4</td>\n      <td>1</td>\n      <td>0.933239</td>\n    </tr>\n    <tr>\n      <th>2765</th>\n      <td>3189</td>\n      <td>6BCs8vxnGgKL9eMCOrG2wm</td>\n      <td>6 Foot 7 Foot</td>\n      <td>74</td>\n      <td>audio_features</td>\n      <td>False</td>\n      <td>True</td>\n      <td>248587</td>\n      <td>1</td>\n      <td>4</td>\n      <td>...</td>\n      <td>0.000000</td>\n      <td>0.3180</td>\n      <td>0.6040</td>\n      <td>79.119</td>\n      <td>spotify:track:6BCs8vxnGgKL9eMCOrG2wm</td>\n      <td>https://api.spotify.com/v1/tracks/6BCs8vxnGgKL...</td>\n      <td>https://api.spotify.com/v1/audio-analysis/6BCs...</td>\n      <td>4</td>\n      <td>1</td>\n      <td>0.932135</td>\n    </tr>\n    <tr>\n      <th>2966</th>\n      <td>3474</td>\n      <td>6HZILIRieu8S0iqY8kIKhj</td>\n      <td>DNA.</td>\n      <td>80</td>\n      <td>audio_features</td>\n      <td>False</td>\n      <td>True</td>\n      <td>185947</td>\n      <td>1</td>\n      <td>2</td>\n      <td>...</td>\n      <td>0.000000</td>\n      <td>0.0842</td>\n      <td>0.4220</td>\n      <td>139.913</td>\n      <td>spotify:track:6HZILIRieu8S0iqY8kIKhj</td>\n      <td>https://api.spotify.com/v1/tracks/6HZILIRieu8S...</td>\n      <td>https://api.spotify.com/v1/audio-analysis/6HZI...</td>\n      <td>4</td>\n      <td>1</td>\n      <td>0.931798</td>\n    </tr>\n    <tr>\n      <th>2191</th>\n      <td>2460</td>\n      <td>28FGV3ORH14MYORd7s5dlU</td>\n      <td>Not Alike (feat. Royce Da 5'9)</td>\n      <td>69</td>\n      <td>audio_features</td>\n      <td>False</td>\n      <td>True</td>\n      <td>288087</td>\n      <td>1</td>\n      <td>8</td>\n      <td>...</td>\n      <td>0.000000</td>\n      <td>0.3390</td>\n      <td>0.3420</td>\n      <td>140.005</td>\n      <td>spotify:track:28FGV3ORH14MYORd7s5dlU</td>\n      <td>https://api.spotify.com/v1/tracks/28FGV3ORH14M...</td>\n      <td>https://api.spotify.com/v1/audio-analysis/28FG...</td>\n      <td>4</td>\n      <td>1</td>\n      <td>0.930696</td>\n    </tr>\n    <tr>\n      <th>2013</th>\n      <td>2235</td>\n      <td>3RvLAm0ESbUOUZOD7sF4xn</td>\n      <td>Case Closed</td>\n      <td>72</td>\n      <td>audio_features</td>\n      <td>False</td>\n      <td>True</td>\n      <td>227912</td>\n      <td>1</td>\n      <td>8</td>\n      <td>...</td>\n      <td>0.000023</td>\n      <td>0.0826</td>\n      <td>0.5100</td>\n      <td>144.042</td>\n      <td>spotify:track:3RvLAm0ESbUOUZOD7sF4xn</td>\n      <td>https://api.spotify.com/v1/tracks/3RvLAm0ESbUO...</td>\n      <td>https://api.spotify.com/v1/audio-analysis/3RvL...</td>\n      <td>4</td>\n      <td>1</td>\n      <td>0.929602</td>\n    </tr>\n    <tr>\n      <th>2759</th>\n      <td>3181</td>\n      <td>7KXjTSCq5nL1LoYtL7XAwS</td>\n      <td>HUMBLE.</td>\n      <td>84</td>\n      <td>audio_features</td>\n      <td>False</td>\n      <td>True</td>\n      <td>177000</td>\n      <td>1</td>\n      <td>8</td>\n      <td>...</td>\n      <td>0.000054</td>\n      <td>0.0958</td>\n      <td>0.4210</td>\n      <td>150.011</td>\n      <td>spotify:track:7KXjTSCq5nL1LoYtL7XAwS</td>\n      <td>https://api.spotify.com/v1/tracks/7KXjTSCq5nL1...</td>\n      <td>https://api.spotify.com/v1/audio-analysis/7KXj...</td>\n      <td>4</td>\n      <td>1</td>\n      <td>0.929022</td>\n    </tr>\n    <tr>\n      <th>4066</th>\n      <td>5189</td>\n      <td>5Mtt6tZSZA9cXTHGSGpyh0</td>\n      <td>The Blacker The Berry</td>\n      <td>63</td>\n      <td>audio_features</td>\n      <td>False</td>\n      <td>True</td>\n      <td>328827</td>\n      <td>1</td>\n      <td>13</td>\n      <td>...</td>\n      <td>0.000000</td>\n      <td>0.4630</td>\n      <td>0.2700</td>\n      <td>176.058</td>\n      <td>spotify:track:5Mtt6tZSZA9cXTHGSGpyh0</td>\n      <td>https://api.spotify.com/v1/tracks/5Mtt6tZSZA9c...</td>\n      <td>https://api.spotify.com/v1/audio-analysis/5Mtt...</td>\n      <td>4</td>\n      <td>1</td>\n      <td>0.928998</td>\n    </tr>\n    <tr>\n      <th>2249</th>\n      <td>2542</td>\n      <td>1EaKU4dMbesXXd3BrLCtYG</td>\n      <td>ELEMENT.</td>\n      <td>73</td>\n      <td>audio_features</td>\n      <td>False</td>\n      <td>True</td>\n      <td>208733</td>\n      <td>1</td>\n      <td>4</td>\n      <td>...</td>\n      <td>0.000000</td>\n      <td>0.2460</td>\n      <td>0.4830</td>\n      <td>189.891</td>\n      <td>spotify:track:1EaKU4dMbesXXd3BrLCtYG</td>\n      <td>https://api.spotify.com/v1/tracks/1EaKU4dMbesX...</td>\n      <td>https://api.spotify.com/v1/audio-analysis/1EaK...</td>\n      <td>4</td>\n      <td>1</td>\n      <td>0.928050</td>\n    </tr>\n    <tr>\n      <th>3703</th>\n      <td>4605</td>\n      <td>7M2tXmeS15NAzEn7ABFeBg</td>\n      <td>Homicide (feat. Eminem)</td>\n      <td>76</td>\n      <td>audio_features</td>\n      <td>False</td>\n      <td>True</td>\n      <td>245387</td>\n      <td>1</td>\n      <td>2</td>\n      <td>...</td>\n      <td>0.000000</td>\n      <td>0.1670</td>\n      <td>0.7700</td>\n      <td>140.055</td>\n      <td>spotify:track:7M2tXmeS15NAzEn7ABFeBg</td>\n      <td>https://api.spotify.com/v1/tracks/7M2tXmeS15NA...</td>\n      <td>https://api.spotify.com/v1/audio-analysis/7M2t...</td>\n      <td>4</td>\n      <td>1</td>\n      <td>0.922609</td>\n    </tr>\n    <tr>\n      <th>1575</th>\n      <td>1718</td>\n      <td>4svCVV4VHEL3Z4efES868h</td>\n      <td>Go DJ</td>\n      <td>61</td>\n      <td>audio_features</td>\n      <td>False</td>\n      <td>True</td>\n      <td>281827</td>\n      <td>1</td>\n      <td>2</td>\n      <td>...</td>\n      <td>0.000000</td>\n      <td>0.2230</td>\n      <td>0.6990</td>\n      <td>157.955</td>\n      <td>spotify:track:4svCVV4VHEL3Z4efES868h</td>\n      <td>https://api.spotify.com/v1/tracks/4svCVV4VHEL3...</td>\n      <td>https://api.spotify.com/v1/audio-analysis/4svC...</td>\n      <td>4</td>\n      <td>1</td>\n      <td>0.920882</td>\n    </tr>\n    <tr>\n      <th>2200</th>\n      <td>2473</td>\n      <td>40YbWniIEmqy6s58fYXLUh</td>\n      <td>Never Love Again</td>\n      <td>67</td>\n      <td>audio_features</td>\n      <td>False</td>\n      <td>True</td>\n      <td>177547</td>\n      <td>1</td>\n      <td>14</td>\n      <td>...</td>\n      <td>0.000000</td>\n      <td>0.4860</td>\n      <td>0.5810</td>\n      <td>92.029</td>\n      <td>spotify:track:40YbWniIEmqy6s58fYXLUh</td>\n      <td>https://api.spotify.com/v1/tracks/40YbWniIEmqy...</td>\n      <td>https://api.spotify.com/v1/audio-analysis/40Yb...</td>\n      <td>4</td>\n      <td>1</td>\n      <td>0.914914</td>\n    </tr>\n    <tr>\n      <th>3121</th>\n      <td>3725</td>\n      <td>3aGibUHhQyBsyumYHylw0K</td>\n      <td>Backseat Freestyle</td>\n      <td>70</td>\n      <td>audio_features</td>\n      <td>False</td>\n      <td>True</td>\n      <td>212653</td>\n      <td>1</td>\n      <td>3</td>\n      <td>...</td>\n      <td>0.000000</td>\n      <td>0.2350</td>\n      <td>0.6460</td>\n      <td>77.878</td>\n      <td>spotify:track:3aGibUHhQyBsyumYHylw0K</td>\n      <td>https://api.spotify.com/v1/tracks/3aGibUHhQyBs...</td>\n      <td>https://api.spotify.com/v1/audio-analysis/3aGi...</td>\n      <td>4</td>\n      <td>1</td>\n      <td>0.913309</td>\n    </tr>\n    <tr>\n      <th>3315</th>\n      <td>4009</td>\n      <td>6PGoSes0D9eUDeeAafB2As</td>\n      <td>LOVE. FEAT. ZACARI.</td>\n      <td>81</td>\n      <td>audio_features</td>\n      <td>False</td>\n      <td>True</td>\n      <td>213400</td>\n      <td>1</td>\n      <td>10</td>\n      <td>...</td>\n      <td>0.000000</td>\n      <td>0.1530</td>\n      <td>0.7790</td>\n      <td>126.058</td>\n      <td>spotify:track:6PGoSes0D9eUDeeAafB2As</td>\n      <td>https://api.spotify.com/v1/tracks/6PGoSes0D9eU...</td>\n      <td>https://api.spotify.com/v1/audio-analysis/6PGo...</td>\n      <td>4</td>\n      <td>1</td>\n      <td>0.912294</td>\n    </tr>\n    <tr>\n      <th>3126</th>\n      <td>3731</td>\n      <td>75IN3CtuZwTHTnZvYM4qnJ</td>\n      <td>My Name Is</td>\n      <td>75</td>\n      <td>audio_features</td>\n      <td>False</td>\n      <td>True</td>\n      <td>268400</td>\n      <td>1</td>\n      <td>2</td>\n      <td>...</td>\n      <td>0.000001</td>\n      <td>0.0914</td>\n      <td>0.8150</td>\n      <td>85.519</td>\n      <td>spotify:track:75IN3CtuZwTHTnZvYM4qnJ</td>\n      <td>https://api.spotify.com/v1/tracks/75IN3CtuZwTH...</td>\n      <td>https://api.spotify.com/v1/audio-analysis/75IN...</td>\n      <td>4</td>\n      <td>1</td>\n      <td>0.912032</td>\n    </tr>\n    <tr>\n      <th>79</th>\n      <td>79</td>\n      <td>2LTlO3NuNVN70lp2ZbVswF</td>\n      <td>FEEL.</td>\n      <td>67</td>\n      <td>audio_features</td>\n      <td>False</td>\n      <td>True</td>\n      <td>214827</td>\n      <td>1</td>\n      <td>5</td>\n      <td>...</td>\n      <td>0.000000</td>\n      <td>0.1390</td>\n      <td>0.5530</td>\n      <td>109.968</td>\n      <td>spotify:track:2LTlO3NuNVN70lp2ZbVswF</td>\n      <td>https://api.spotify.com/v1/tracks/2LTlO3NuNVN7...</td>\n      <td>https://api.spotify.com/v1/audio-analysis/2LTl...</td>\n      <td>4</td>\n      <td>1</td>\n      <td>0.909732</td>\n    </tr>\n    <tr>\n      <th>2115</th>\n      <td>2369</td>\n      <td>760VYgBLbNyEJp4jLa0CZ6</td>\n      <td>Mama/Show Love (feat. YBN Cordae)</td>\n      <td>57</td>\n      <td>audio_features</td>\n      <td>False</td>\n      <td>True</td>\n      <td>241307</td>\n      <td>1</td>\n      <td>5</td>\n      <td>...</td>\n      <td>0.000000</td>\n      <td>0.0898</td>\n      <td>0.2560</td>\n      <td>154.053</td>\n      <td>spotify:track:760VYgBLbNyEJp4jLa0CZ6</td>\n      <td>https://api.spotify.com/v1/tracks/760VYgBLbNyE...</td>\n      <td>https://api.spotify.com/v1/audio-analysis/760V...</td>\n      <td>4</td>\n      <td>1</td>\n      <td>0.906696</td>\n    </tr>\n    <tr>\n      <th>2208</th>\n      <td>2481</td>\n      <td>5qz9p7cQR0sMnjDQb9Tbnu</td>\n      <td>GIANNIS</td>\n      <td>39</td>\n      <td>audio_features</td>\n      <td>False</td>\n      <td>True</td>\n      <td>151081</td>\n      <td>1</td>\n      <td>1</td>\n      <td>...</td>\n      <td>0.000000</td>\n      <td>0.2350</td>\n      <td>0.6920</td>\n      <td>127.992</td>\n      <td>spotify:track:5qz9p7cQR0sMnjDQb9Tbnu</td>\n      <td>https://api.spotify.com/v1/tracks/5qz9p7cQR0sM...</td>\n      <td>https://api.spotify.com/v1/audio-analysis/5qz9...</td>\n      <td>4</td>\n      <td>1</td>\n      <td>0.903169</td>\n    </tr>\n    <tr>\n      <th>2784</th>\n      <td>3212</td>\n      <td>3fjygttONLYtPMS0OzZKnF</td>\n      <td>Skitzo</td>\n      <td>55</td>\n      <td>audio_features</td>\n      <td>False</td>\n      <td>True</td>\n      <td>200115</td>\n      <td>1</td>\n      <td>1</td>\n      <td>...</td>\n      <td>0.000004</td>\n      <td>0.4660</td>\n      <td>0.7380</td>\n      <td>126.626</td>\n      <td>spotify:track:3fjygttONLYtPMS0OzZKnF</td>\n      <td>https://api.spotify.com/v1/tracks/3fjygttONLYt...</td>\n      <td>https://api.spotify.com/v1/audio-analysis/3fjy...</td>\n      <td>3</td>\n      <td>1</td>\n      <td>0.903130</td>\n    </tr>\n    <tr>\n      <th>3638</th>\n      <td>4491</td>\n      <td>3iVcZ5G6tvkXZkZKlMpIUs</td>\n      <td>Alright</td>\n      <td>77</td>\n      <td>audio_features</td>\n      <td>False</td>\n      <td>True</td>\n      <td>219333</td>\n      <td>1</td>\n      <td>7</td>\n      <td>...</td>\n      <td>0.000000</td>\n      <td>0.0827</td>\n      <td>0.5580</td>\n      <td>110.034</td>\n      <td>spotify:track:3iVcZ5G6tvkXZkZKlMpIUs</td>\n      <td>https://api.spotify.com/v1/tracks/3iVcZ5G6tvkX...</td>\n      <td>https://api.spotify.com/v1/audio-analysis/3iVc...</td>\n      <td>4</td>\n      <td>1</td>\n      <td>0.902048</td>\n    </tr>\n    <tr>\n      <th>3618</th>\n      <td>4444</td>\n      <td>17N5FdRwJuv3UXQ7MHnbhF</td>\n      <td>Ballin</td>\n      <td>73</td>\n      <td>audio_features</td>\n      <td>False</td>\n      <td>True</td>\n      <td>166080</td>\n      <td>1</td>\n      <td>8</td>\n      <td>...</td>\n      <td>0.000000</td>\n      <td>0.0905</td>\n      <td>0.6500</td>\n      <td>150.621</td>\n      <td>spotify:track:17N5FdRwJuv3UXQ7MHnbhF</td>\n      <td>https://api.spotify.com/v1/tracks/17N5FdRwJuv3...</td>\n      <td>https://api.spotify.com/v1/audio-analysis/17N5...</td>\n      <td>4</td>\n      <td>1</td>\n      <td>0.901019</td>\n    </tr>\n    <tr>\n      <th>2054</th>\n      <td>2283</td>\n      <td>4EAV2cKiqKP5UPZmY6dejk</td>\n      <td>Everyday</td>\n      <td>73</td>\n      <td>audio_features</td>\n      <td>False</td>\n      <td>True</td>\n      <td>204747</td>\n      <td>1</td>\n      <td>12</td>\n      <td>...</td>\n      <td>0.000000</td>\n      <td>0.0761</td>\n      <td>0.4220</td>\n      <td>149.908</td>\n      <td>spotify:track:4EAV2cKiqKP5UPZmY6dejk</td>\n      <td>https://api.spotify.com/v1/tracks/4EAV2cKiqKP5...</td>\n      <td>https://api.spotify.com/v1/audio-analysis/4EAV...</td>\n      <td>4</td>\n      <td>1</td>\n      <td>0.894300</td>\n    </tr>\n    <tr>\n      <th>1221</th>\n      <td>1317</td>\n      <td>4woTEX1wYOTGDqNXuavlRC</td>\n      <td>Superman</td>\n      <td>74</td>\n      <td>audio_features</td>\n      <td>False</td>\n      <td>True</td>\n      <td>350320</td>\n      <td>1</td>\n      <td>13</td>\n      <td>...</td>\n      <td>0.000000</td>\n      <td>0.2950</td>\n      <td>0.5800</td>\n      <td>130.027</td>\n      <td>spotify:track:4woTEX1wYOTGDqNXuavlRC</td>\n      <td>https://api.spotify.com/v1/tracks/4woTEX1wYOTG...</td>\n      <td>https://api.spotify.com/v1/audio-analysis/4woT...</td>\n      <td>4</td>\n      <td>1</td>\n      <td>0.892427</td>\n    </tr>\n    <tr>\n      <th>3403</th>\n      <td>4107</td>\n      <td>3I0FBDc1c1BLNtXWKVjmFg</td>\n      <td>untitled 02 | 06.23.2014.</td>\n      <td>67</td>\n      <td>audio_features</td>\n      <td>False</td>\n      <td>True</td>\n      <td>258827</td>\n      <td>1</td>\n      <td>2</td>\n      <td>...</td>\n      <td>0.000000</td>\n      <td>0.6440</td>\n      <td>0.0930</td>\n      <td>89.436</td>\n      <td>spotify:track:3I0FBDc1c1BLNtXWKVjmFg</td>\n      <td>https://api.spotify.com/v1/tracks/3I0FBDc1c1BL...</td>\n      <td>https://api.spotify.com/v1/audio-analysis/3I0F...</td>\n      <td>3</td>\n      <td>1</td>\n      <td>0.889292</td>\n    </tr>\n    <tr>\n      <th>2767</th>\n      <td>3192</td>\n      <td>4SE4yewyGpOYfxfx59Yjc5</td>\n      <td>Cinderella Man</td>\n      <td>71</td>\n      <td>audio_features</td>\n      <td>False</td>\n      <td>True</td>\n      <td>279013</td>\n      <td>1</td>\n      <td>11</td>\n      <td>...</td>\n      <td>0.000000</td>\n      <td>0.0821</td>\n      <td>0.6870</td>\n      <td>85.918</td>\n      <td>spotify:track:4SE4yewyGpOYfxfx59Yjc5</td>\n      <td>https://api.spotify.com/v1/tracks/4SE4yewyGpOY...</td>\n      <td>https://api.spotify.com/v1/audio-analysis/4SE4...</td>\n      <td>4</td>\n      <td>1</td>\n      <td>0.889151</td>\n    </tr>\n    <tr>\n      <th>2197</th>\n      <td>2466</td>\n      <td>0dbTQYW3Ad1FTzIA9t90E8</td>\n      <td>Mona Lisa (feat. Kendrick Lamar)</td>\n      <td>70</td>\n      <td>audio_features</td>\n      <td>False</td>\n      <td>True</td>\n      <td>324189</td>\n      <td>1</td>\n      <td>8</td>\n      <td>...</td>\n      <td>0.000000</td>\n      <td>0.1090</td>\n      <td>0.4890</td>\n      <td>122.080</td>\n      <td>spotify:track:0dbTQYW3Ad1FTzIA9t90E8</td>\n      <td>https://api.spotify.com/v1/tracks/0dbTQYW3Ad1F...</td>\n      <td>https://api.spotify.com/v1/audio-analysis/0dbT...</td>\n      <td>4</td>\n      <td>1</td>\n      <td>0.885590</td>\n    </tr>\n    <tr>\n      <th>2976</th>\n      <td>3489</td>\n      <td>561jH07mF1jHuk7KlaeF0s</td>\n      <td>Mockingbird</td>\n      <td>78</td>\n      <td>audio_features</td>\n      <td>False</td>\n      <td>True</td>\n      <td>250760</td>\n      <td>1</td>\n      <td>16</td>\n      <td>...</td>\n      <td>0.000000</td>\n      <td>0.1560</td>\n      <td>0.2540</td>\n      <td>84.039</td>\n      <td>spotify:track:561jH07mF1jHuk7KlaeF0s</td>\n      <td>https://api.spotify.com/v1/tracks/561jH07mF1jH...</td>\n      <td>https://api.spotify.com/v1/audio-analysis/561j...</td>\n      <td>4</td>\n      <td>1</td>\n      <td>0.885422</td>\n    </tr>\n    <tr>\n      <th>1672</th>\n      <td>1830</td>\n      <td>724oI0EKyTMjTSitMaWwfZ</td>\n      <td>Blunt Blowin</td>\n      <td>64</td>\n      <td>audio_features</td>\n      <td>False</td>\n      <td>True</td>\n      <td>312960</td>\n      <td>1</td>\n      <td>2</td>\n      <td>...</td>\n      <td>0.000000</td>\n      <td>0.2240</td>\n      <td>0.3750</td>\n      <td>135.988</td>\n      <td>spotify:track:724oI0EKyTMjTSitMaWwfZ</td>\n      <td>https://api.spotify.com/v1/tracks/724oI0EKyTMj...</td>\n      <td>https://api.spotify.com/v1/audio-analysis/724o...</td>\n      <td>4</td>\n      <td>1</td>\n      <td>0.883869</td>\n    </tr>\n    <tr>\n      <th>3591</th>\n      <td>4404</td>\n      <td>0utlOiJy2weVl9WTkcEWHy</td>\n      <td>Neighbors</td>\n      <td>75</td>\n      <td>audio_features</td>\n      <td>False</td>\n      <td>True</td>\n      <td>216520</td>\n      <td>1</td>\n      <td>7</td>\n      <td>...</td>\n      <td>0.000383</td>\n      <td>0.1100</td>\n      <td>0.4690</td>\n      <td>138.970</td>\n      <td>spotify:track:0utlOiJy2weVl9WTkcEWHy</td>\n      <td>https://api.spotify.com/v1/tracks/0utlOiJy2weV...</td>\n      <td>https://api.spotify.com/v1/audio-analysis/0utl...</td>\n      <td>4</td>\n      <td>1</td>\n      <td>0.882264</td>\n    </tr>\n    <tr>\n      <th>3310</th>\n      <td>4002</td>\n      <td>7yotKA30dwTKNEGomV9ZsI</td>\n      <td>KOD</td>\n      <td>71</td>\n      <td>audio_features</td>\n      <td>False</td>\n      <td>True</td>\n      <td>191437</td>\n      <td>1</td>\n      <td>2</td>\n      <td>...</td>\n      <td>0.000000</td>\n      <td>0.1130</td>\n      <td>0.1990</td>\n      <td>141.882</td>\n      <td>spotify:track:7yotKA30dwTKNEGomV9ZsI</td>\n      <td>https://api.spotify.com/v1/tracks/7yotKA30dwTK...</td>\n      <td>https://api.spotify.com/v1/audio-analysis/7yot...</td>\n      <td>4</td>\n      <td>1</td>\n      <td>0.879877</td>\n    </tr>\n    <tr>\n      <th>2084</th>\n      <td>2322</td>\n      <td>5YGhm6pI5s0uxJ2DwrDYqO</td>\n      <td>Water on Water on Water</td>\n      <td>67</td>\n      <td>audio_features</td>\n      <td>False</td>\n      <td>True</td>\n      <td>223520</td>\n      <td>1</td>\n      <td>11</td>\n      <td>...</td>\n      <td>0.000000</td>\n      <td>0.0963</td>\n      <td>0.3820</td>\n      <td>141.001</td>\n      <td>spotify:track:5YGhm6pI5s0uxJ2DwrDYqO</td>\n      <td>https://api.spotify.com/v1/tracks/5YGhm6pI5s0u...</td>\n      <td>https://api.spotify.com/v1/audio-analysis/5YGh...</td>\n      <td>4</td>\n      <td>1</td>\n      <td>0.878565</td>\n    </tr>\n    <tr>\n      <th>121</th>\n      <td>121</td>\n      <td>5gmkw2031VVIboYqPIjSWB</td>\n      <td>1 Scale (feat. G Herbo)</td>\n      <td>78</td>\n      <td>audio_features</td>\n      <td>False</td>\n      <td>True</td>\n      <td>176040</td>\n      <td>1</td>\n      <td>16</td>\n      <td>...</td>\n      <td>0.000000</td>\n      <td>0.2760</td>\n      <td>0.3310</td>\n      <td>135.035</td>\n      <td>spotify:track:5gmkw2031VVIboYqPIjSWB</td>\n      <td>https://api.spotify.com/v1/tracks/5gmkw2031VVI...</td>\n      <td>https://api.spotify.com/v1/audio-analysis/5gmk...</td>\n      <td>4</td>\n      <td>1</td>\n      <td>0.878215</td>\n    </tr>\n    <tr>\n      <th>3689</th>\n      <td>4583</td>\n      <td>0N3W5peJUQtI4eyR6GJT5O</td>\n      <td>King Kunta</td>\n      <td>76</td>\n      <td>audio_features</td>\n      <td>False</td>\n      <td>True</td>\n      <td>234693</td>\n      <td>1</td>\n      <td>3</td>\n      <td>...</td>\n      <td>0.000000</td>\n      <td>0.1540</td>\n      <td>0.4890</td>\n      <td>107.059</td>\n      <td>spotify:track:0N3W5peJUQtI4eyR6GJT5O</td>\n      <td>https://api.spotify.com/v1/tracks/0N3W5peJUQtI...</td>\n      <td>https://api.spotify.com/v1/audio-analysis/0N3W...</td>\n      <td>4</td>\n      <td>1</td>\n      <td>0.873668</td>\n    </tr>\n    <tr>\n      <th>2668</th>\n      <td>3046</td>\n      <td>6Ius4TC0L3cN74HT7ENE6e</td>\n      <td>Wet Dreamz</td>\n      <td>82</td>\n      <td>audio_features</td>\n      <td>False</td>\n      <td>True</td>\n      <td>239320</td>\n      <td>1</td>\n      <td>3</td>\n      <td>...</td>\n      <td>0.000000</td>\n      <td>0.1280</td>\n      <td>0.5840</td>\n      <td>175.906</td>\n      <td>spotify:track:6Ius4TC0L3cN74HT7ENE6e</td>\n      <td>https://api.spotify.com/v1/tracks/6Ius4TC0L3cN...</td>\n      <td>https://api.spotify.com/v1/audio-analysis/6Ius...</td>\n      <td>4</td>\n      <td>1</td>\n      <td>0.870145</td>\n    </tr>\n    <tr>\n      <th>2760</th>\n      <td>3182</td>\n      <td>5rxPi0MiR4miNK0rCmk980</td>\n      <td>Broken People (with Logic &amp; Rag'n'Bone Man)</td>\n      <td>61</td>\n      <td>audio_features</td>\n      <td>False</td>\n      <td>False</td>\n      <td>212067</td>\n      <td>1</td>\n      <td>1</td>\n      <td>...</td>\n      <td>0.000000</td>\n      <td>0.0758</td>\n      <td>0.3080</td>\n      <td>79.959</td>\n      <td>spotify:track:5rxPi0MiR4miNK0rCmk980</td>\n      <td>https://api.spotify.com/v1/tracks/5rxPi0MiR4mi...</td>\n      <td>https://api.spotify.com/v1/audio-analysis/5rxP...</td>\n      <td>4</td>\n      <td>1</td>\n      <td>0.867816</td>\n    </tr>\n    <tr>\n      <th>2068</th>\n      <td>2299</td>\n      <td>3PYx9Wte3jwb48V0wArMOy</td>\n      <td>Keanu Reeves</td>\n      <td>69</td>\n      <td>audio_features</td>\n      <td>False</td>\n      <td>True</td>\n      <td>225920</td>\n      <td>1</td>\n      <td>13</td>\n      <td>...</td>\n      <td>0.000000</td>\n      <td>0.1340</td>\n      <td>0.7990</td>\n      <td>170.130</td>\n      <td>spotify:track:3PYx9Wte3jwb48V0wArMOy</td>\n      <td>https://api.spotify.com/v1/tracks/3PYx9Wte3jwb...</td>\n      <td>https://api.spotify.com/v1/audio-analysis/3PYx...</td>\n      <td>4</td>\n      <td>1</td>\n      <td>0.866513</td>\n    </tr>\n    <tr>\n      <th>3313</th>\n      <td>4007</td>\n      <td>2JvzF1RMd7lE3KmFlsyZD8</td>\n      <td>MIDDLE CHILD</td>\n      <td>82</td>\n      <td>audio_features</td>\n      <td>False</td>\n      <td>True</td>\n      <td>213594</td>\n      <td>1</td>\n      <td>1</td>\n      <td>...</td>\n      <td>0.000000</td>\n      <td>0.2710</td>\n      <td>0.4630</td>\n      <td>123.984</td>\n      <td>spotify:track:2JvzF1RMd7lE3KmFlsyZD8</td>\n      <td>https://api.spotify.com/v1/tracks/2JvzF1RMd7lE...</td>\n      <td>https://api.spotify.com/v1/audio-analysis/2Jvz...</td>\n      <td>4</td>\n      <td>1</td>\n      <td>0.865516</td>\n    </tr>\n    <tr>\n      <th>3131</th>\n      <td>3738</td>\n      <td>1jo3TwNGCXfNdB5uba3ZVv</td>\n      <td>Killshot</td>\n      <td>74</td>\n      <td>audio_features</td>\n      <td>False</td>\n      <td>True</td>\n      <td>253580</td>\n      <td>1</td>\n      <td>1</td>\n      <td>...</td>\n      <td>0.000000</td>\n      <td>0.3710</td>\n      <td>0.6000</td>\n      <td>105.835</td>\n      <td>spotify:track:1jo3TwNGCXfNdB5uba3ZVv</td>\n      <td>https://api.spotify.com/v1/tracks/1jo3TwNGCXfN...</td>\n      <td>https://api.spotify.com/v1/audio-analysis/1jo3...</td>\n      <td>4</td>\n      <td>1</td>\n      <td>0.861797</td>\n    </tr>\n    <tr>\n      <th>375</th>\n      <td>386</td>\n      <td>136f0Bq7MWT4V4IHgmGVUo</td>\n      <td>As You Are</td>\n      <td>57</td>\n      <td>audio_features</td>\n      <td>False</td>\n      <td>True</td>\n      <td>163468</td>\n      <td>1</td>\n      <td>1</td>\n      <td>...</td>\n      <td>0.000000</td>\n      <td>0.0994</td>\n      <td>0.4590</td>\n      <td>129.987</td>\n      <td>spotify:track:136f0Bq7MWT4V4IHgmGVUo</td>\n      <td>https://api.spotify.com/v1/tracks/136f0Bq7MWT4...</td>\n      <td>https://api.spotify.com/v1/audio-analysis/136f...</td>\n      <td>4</td>\n      <td>1</td>\n      <td>0.860873</td>\n    </tr>\n    <tr>\n      <th>2386</th>\n      <td>2710</td>\n      <td>4hsncV3bzuB83dBJcnSCBl</td>\n      <td>Straight Out the Gate</td>\n      <td>57</td>\n      <td>audio_features</td>\n      <td>False</td>\n      <td>True</td>\n      <td>250360</td>\n      <td>1</td>\n      <td>2</td>\n      <td>...</td>\n      <td>0.000000</td>\n      <td>0.6530</td>\n      <td>0.1690</td>\n      <td>164.076</td>\n      <td>spotify:track:4hsncV3bzuB83dBJcnSCBl</td>\n      <td>https://api.spotify.com/v1/tracks/4hsncV3bzuB8...</td>\n      <td>https://api.spotify.com/v1/audio-analysis/4hsn...</td>\n      <td>4</td>\n      <td>1</td>\n      <td>0.858810</td>\n    </tr>\n  </tbody>\n</table>\n<p>50 rows × 38 columns</p>\n</div>"
     },
     "execution_count": 46,
     "metadata": {},
     "output_type": "execute_result"
    }
   ],
   "source": [
    "#Sort playlist by ratings\n",
    "recommendation_tracks_df[recommendation_tracks_df['ratings'] == 1].sort_values('prob_ratings', ascending = False).head(50)"
   ]
  },
  {
   "cell_type": "code",
   "execution_count": 47,
   "metadata": {},
   "outputs": [
    {
     "name": "stdout",
     "output_type": "stream",
     "text": [
      "122\n"
     ]
    }
   ],
   "source": [
    "#Checking to see how many songs have a probability of me enjoying it over .75\n",
    "new_tracks = recommendation_tracks_df[recommendation_tracks_df['prob_ratings'] >= 0.75]\n",
    "print(len(new_tracks))"
   ]
  },
  {
   "cell_type": "markdown",
   "metadata": {},
   "source": [
    "Success! The song recommendations looks like straight fire, and I am excited to add some of these tracks to my playlists. There are 122 songs that have a probability rating of over 0.75, which I think is pretty good."
   ]
  },
  {
   "cell_type": "markdown",
   "metadata": {},
   "source": [
    "### Some takeaways from the data:"
   ]
  },
  {
   "cell_type": "markdown",
   "metadata": {},
   "source": [
    "-The first thing I notice is that the song recommendations are very similar to what I listen to on a regular basis. As I predicted, because I used my top artist data to rate the songs, the model recommends a lot of songs by these same artists. However, there are several different artists who are not in my top artists who I still recognize and enjoy, as well as some artists I have never heard of. \n",
    "\n",
    "-My top artists dominate my song recommendations. Perhaps if I used specific song data as well as top artist data I would get a bit more diversity in the recommendations, but in doing that it may also reduce the probability ratings of the songs suggested."
   ]
  },
  {
   "cell_type": "code",
   "execution_count": null,
   "metadata": {},
   "outputs": [],
   "source": [
    "table = classification_report(rfc.predict(X_test), y_test)"
   ]
  },
  {
   "cell_type": "code",
   "execution_count": null,
   "metadata": {},
   "outputs": [],
   "source": [
    "top_tracks_df.name.head(10)"
   ]
  },
  {
   "cell_type": "code",
   "execution_count": 50,
   "metadata": {},
   "outputs": [
    {
     "data": {
      "text/plain": "<Figure size 640x480 with 1 Axes>",
      "image/png": "[encoded data removed]"
     },
     "metadata": {},
     "output_type": "display_data"
    }
   ],
   "source": [
    "# Example of a scatter plot for 'popularity' vs 'duration_ms'\n",
    "sns.scatterplot(x='popularity', y='duration_ms', data=df)\n",
    "plt.title('Popularity vs Duration (ms)')\n",
    "plt.xlabel('Popularity')\n",
    "plt.ylabel('Duration (ms)')\n",
    "plt.show()"
   ]
  },
  {
   "cell_type": "code",
   "execution_count": 53,
   "metadata": {},
   "outputs": [
    {
     "ename": "ValueError",
     "evalue": "\nJoey Bada$$\n         ^\nParseException: Expected end of text, found '$'  (at char 9), (line:1, col:10)",
     "output_type": "error",
     "traceback": [
      "\u001B[1;31m---------------------------------------------------------------------------\u001B[0m",
      "\u001B[1;31mValueError\u001B[0m                                Traceback (most recent call last)",
      "File \u001B[1;32m~\\OneDrive\\Documents\\GitHub\\Projects\\venv\\Lib\\site-packages\\IPython\\core\\formatters.py:338\u001B[0m, in \u001B[0;36mBaseFormatter.__call__\u001B[1;34m(self, obj)\u001B[0m\n\u001B[0;32m    336\u001B[0m     \u001B[38;5;28;01mpass\u001B[39;00m\n\u001B[0;32m    337\u001B[0m \u001B[38;5;28;01melse\u001B[39;00m:\n\u001B[1;32m--> 338\u001B[0m     \u001B[38;5;28;01mreturn\u001B[39;00m \u001B[43mprinter\u001B[49m\u001B[43m(\u001B[49m\u001B[43mobj\u001B[49m\u001B[43m)\u001B[49m\n\u001B[0;32m    339\u001B[0m \u001B[38;5;66;03m# Finally look for special method names\u001B[39;00m\n\u001B[0;32m    340\u001B[0m method \u001B[38;5;241m=\u001B[39m get_real_method(obj, \u001B[38;5;28mself\u001B[39m\u001B[38;5;241m.\u001B[39mprint_method)\n",
      "File \u001B[1;32m~\\OneDrive\\Documents\\GitHub\\Projects\\venv\\Lib\\site-packages\\IPython\\core\\pylabtools.py:152\u001B[0m, in \u001B[0;36mprint_figure\u001B[1;34m(fig, fmt, bbox_inches, base64, **kwargs)\u001B[0m\n\u001B[0;32m    149\u001B[0m     \u001B[38;5;28;01mfrom\u001B[39;00m \u001B[38;5;21;01mmatplotlib\u001B[39;00m\u001B[38;5;21;01m.\u001B[39;00m\u001B[38;5;21;01mbackend_bases\u001B[39;00m \u001B[38;5;28;01mimport\u001B[39;00m FigureCanvasBase\n\u001B[0;32m    150\u001B[0m     FigureCanvasBase(fig)\n\u001B[1;32m--> 152\u001B[0m \u001B[43mfig\u001B[49m\u001B[38;5;241;43m.\u001B[39;49m\u001B[43mcanvas\u001B[49m\u001B[38;5;241;43m.\u001B[39;49m\u001B[43mprint_figure\u001B[49m\u001B[43m(\u001B[49m\u001B[43mbytes_io\u001B[49m\u001B[43m,\u001B[49m\u001B[43m \u001B[49m\u001B[38;5;241;43m*\u001B[39;49m\u001B[38;5;241;43m*\u001B[39;49m\u001B[43mkw\u001B[49m\u001B[43m)\u001B[49m\n\u001B[0;32m    153\u001B[0m data \u001B[38;5;241m=\u001B[39m bytes_io\u001B[38;5;241m.\u001B[39mgetvalue()\n\u001B[0;32m    154\u001B[0m \u001B[38;5;28;01mif\u001B[39;00m fmt \u001B[38;5;241m==\u001B[39m \u001B[38;5;124m'\u001B[39m\u001B[38;5;124msvg\u001B[39m\u001B[38;5;124m'\u001B[39m:\n",
      "File \u001B[1;32m~\\OneDrive\\Documents\\GitHub\\Projects\\venv\\Lib\\site-packages\\matplotlib\\backend_bases.py:2342\u001B[0m, in \u001B[0;36mFigureCanvasBase.print_figure\u001B[1;34m(self, filename, dpi, facecolor, edgecolor, orientation, format, bbox_inches, pad_inches, bbox_extra_artists, backend, **kwargs)\u001B[0m\n\u001B[0;32m   2336\u001B[0m     renderer \u001B[38;5;241m=\u001B[39m _get_renderer(\n\u001B[0;32m   2337\u001B[0m         \u001B[38;5;28mself\u001B[39m\u001B[38;5;241m.\u001B[39mfigure,\n\u001B[0;32m   2338\u001B[0m         functools\u001B[38;5;241m.\u001B[39mpartial(\n\u001B[0;32m   2339\u001B[0m             print_method, orientation\u001B[38;5;241m=\u001B[39morientation)\n\u001B[0;32m   2340\u001B[0m     )\n\u001B[0;32m   2341\u001B[0m     \u001B[38;5;28;01mwith\u001B[39;00m \u001B[38;5;28mgetattr\u001B[39m(renderer, \u001B[38;5;124m\"\u001B[39m\u001B[38;5;124m_draw_disabled\u001B[39m\u001B[38;5;124m\"\u001B[39m, nullcontext)():\n\u001B[1;32m-> 2342\u001B[0m         \u001B[38;5;28;43mself\u001B[39;49m\u001B[38;5;241;43m.\u001B[39;49m\u001B[43mfigure\u001B[49m\u001B[38;5;241;43m.\u001B[39;49m\u001B[43mdraw\u001B[49m\u001B[43m(\u001B[49m\u001B[43mrenderer\u001B[49m\u001B[43m)\u001B[49m\n\u001B[0;32m   2344\u001B[0m \u001B[38;5;28;01mif\u001B[39;00m bbox_inches:\n\u001B[0;32m   2345\u001B[0m     \u001B[38;5;28;01mif\u001B[39;00m bbox_inches \u001B[38;5;241m==\u001B[39m \u001B[38;5;124m\"\u001B[39m\u001B[38;5;124mtight\u001B[39m\u001B[38;5;124m\"\u001B[39m:\n",
      "File \u001B[1;32m~\\OneDrive\\Documents\\GitHub\\Projects\\venv\\Lib\\site-packages\\matplotlib\\artist.py:95\u001B[0m, in \u001B[0;36m_finalize_rasterization.<locals>.draw_wrapper\u001B[1;34m(artist, renderer, *args, **kwargs)\u001B[0m\n\u001B[0;32m     93\u001B[0m \u001B[38;5;129m@wraps\u001B[39m(draw)\n\u001B[0;32m     94\u001B[0m \u001B[38;5;28;01mdef\u001B[39;00m \u001B[38;5;21mdraw_wrapper\u001B[39m(artist, renderer, \u001B[38;5;241m*\u001B[39margs, \u001B[38;5;241m*\u001B[39m\u001B[38;5;241m*\u001B[39mkwargs):\n\u001B[1;32m---> 95\u001B[0m     result \u001B[38;5;241m=\u001B[39m \u001B[43mdraw\u001B[49m\u001B[43m(\u001B[49m\u001B[43martist\u001B[49m\u001B[43m,\u001B[49m\u001B[43m \u001B[49m\u001B[43mrenderer\u001B[49m\u001B[43m,\u001B[49m\u001B[43m \u001B[49m\u001B[38;5;241;43m*\u001B[39;49m\u001B[43margs\u001B[49m\u001B[43m,\u001B[49m\u001B[43m \u001B[49m\u001B[38;5;241;43m*\u001B[39;49m\u001B[38;5;241;43m*\u001B[39;49m\u001B[43mkwargs\u001B[49m\u001B[43m)\u001B[49m\n\u001B[0;32m     96\u001B[0m     \u001B[38;5;28;01mif\u001B[39;00m renderer\u001B[38;5;241m.\u001B[39m_rasterizing:\n\u001B[0;32m     97\u001B[0m         renderer\u001B[38;5;241m.\u001B[39mstop_rasterizing()\n",
      "File \u001B[1;32m~\\OneDrive\\Documents\\GitHub\\Projects\\venv\\Lib\\site-packages\\matplotlib\\artist.py:72\u001B[0m, in \u001B[0;36mallow_rasterization.<locals>.draw_wrapper\u001B[1;34m(artist, renderer)\u001B[0m\n\u001B[0;32m     69\u001B[0m     \u001B[38;5;28;01mif\u001B[39;00m artist\u001B[38;5;241m.\u001B[39mget_agg_filter() \u001B[38;5;129;01mis\u001B[39;00m \u001B[38;5;129;01mnot\u001B[39;00m \u001B[38;5;28;01mNone\u001B[39;00m:\n\u001B[0;32m     70\u001B[0m         renderer\u001B[38;5;241m.\u001B[39mstart_filter()\n\u001B[1;32m---> 72\u001B[0m     \u001B[38;5;28;01mreturn\u001B[39;00m \u001B[43mdraw\u001B[49m\u001B[43m(\u001B[49m\u001B[43martist\u001B[49m\u001B[43m,\u001B[49m\u001B[43m \u001B[49m\u001B[43mrenderer\u001B[49m\u001B[43m)\u001B[49m\n\u001B[0;32m     73\u001B[0m \u001B[38;5;28;01mfinally\u001B[39;00m:\n\u001B[0;32m     74\u001B[0m     \u001B[38;5;28;01mif\u001B[39;00m artist\u001B[38;5;241m.\u001B[39mget_agg_filter() \u001B[38;5;129;01mis\u001B[39;00m \u001B[38;5;129;01mnot\u001B[39;00m \u001B[38;5;28;01mNone\u001B[39;00m:\n",
      "File \u001B[1;32m~\\OneDrive\\Documents\\GitHub\\Projects\\venv\\Lib\\site-packages\\matplotlib\\figure.py:3140\u001B[0m, in \u001B[0;36mFigure.draw\u001B[1;34m(self, renderer)\u001B[0m\n\u001B[0;32m   3137\u001B[0m         \u001B[38;5;66;03m# ValueError can occur when resizing a window.\u001B[39;00m\n\u001B[0;32m   3139\u001B[0m \u001B[38;5;28mself\u001B[39m\u001B[38;5;241m.\u001B[39mpatch\u001B[38;5;241m.\u001B[39mdraw(renderer)\n\u001B[1;32m-> 3140\u001B[0m \u001B[43mmimage\u001B[49m\u001B[38;5;241;43m.\u001B[39;49m\u001B[43m_draw_list_compositing_images\u001B[49m\u001B[43m(\u001B[49m\n\u001B[0;32m   3141\u001B[0m \u001B[43m    \u001B[49m\u001B[43mrenderer\u001B[49m\u001B[43m,\u001B[49m\u001B[43m \u001B[49m\u001B[38;5;28;43mself\u001B[39;49m\u001B[43m,\u001B[49m\u001B[43m \u001B[49m\u001B[43martists\u001B[49m\u001B[43m,\u001B[49m\u001B[43m \u001B[49m\u001B[38;5;28;43mself\u001B[39;49m\u001B[38;5;241;43m.\u001B[39;49m\u001B[43msuppressComposite\u001B[49m\u001B[43m)\u001B[49m\n\u001B[0;32m   3143\u001B[0m \u001B[38;5;28;01mfor\u001B[39;00m sfig \u001B[38;5;129;01min\u001B[39;00m \u001B[38;5;28mself\u001B[39m\u001B[38;5;241m.\u001B[39msubfigs:\n\u001B[0;32m   3144\u001B[0m     sfig\u001B[38;5;241m.\u001B[39mdraw(renderer)\n",
      "File \u001B[1;32m~\\OneDrive\\Documents\\GitHub\\Projects\\venv\\Lib\\site-packages\\matplotlib\\image.py:131\u001B[0m, in \u001B[0;36m_draw_list_compositing_images\u001B[1;34m(renderer, parent, artists, suppress_composite)\u001B[0m\n\u001B[0;32m    129\u001B[0m \u001B[38;5;28;01mif\u001B[39;00m not_composite \u001B[38;5;129;01mor\u001B[39;00m \u001B[38;5;129;01mnot\u001B[39;00m has_images:\n\u001B[0;32m    130\u001B[0m     \u001B[38;5;28;01mfor\u001B[39;00m a \u001B[38;5;129;01min\u001B[39;00m artists:\n\u001B[1;32m--> 131\u001B[0m         \u001B[43ma\u001B[49m\u001B[38;5;241;43m.\u001B[39;49m\u001B[43mdraw\u001B[49m\u001B[43m(\u001B[49m\u001B[43mrenderer\u001B[49m\u001B[43m)\u001B[49m\n\u001B[0;32m    132\u001B[0m \u001B[38;5;28;01melse\u001B[39;00m:\n\u001B[0;32m    133\u001B[0m     \u001B[38;5;66;03m# Composite any adjacent images together\u001B[39;00m\n\u001B[0;32m    134\u001B[0m     image_group \u001B[38;5;241m=\u001B[39m []\n",
      "File \u001B[1;32m~\\OneDrive\\Documents\\GitHub\\Projects\\venv\\Lib\\site-packages\\matplotlib\\artist.py:72\u001B[0m, in \u001B[0;36mallow_rasterization.<locals>.draw_wrapper\u001B[1;34m(artist, renderer)\u001B[0m\n\u001B[0;32m     69\u001B[0m     \u001B[38;5;28;01mif\u001B[39;00m artist\u001B[38;5;241m.\u001B[39mget_agg_filter() \u001B[38;5;129;01mis\u001B[39;00m \u001B[38;5;129;01mnot\u001B[39;00m \u001B[38;5;28;01mNone\u001B[39;00m:\n\u001B[0;32m     70\u001B[0m         renderer\u001B[38;5;241m.\u001B[39mstart_filter()\n\u001B[1;32m---> 72\u001B[0m     \u001B[38;5;28;01mreturn\u001B[39;00m \u001B[43mdraw\u001B[49m\u001B[43m(\u001B[49m\u001B[43martist\u001B[49m\u001B[43m,\u001B[49m\u001B[43m \u001B[49m\u001B[43mrenderer\u001B[49m\u001B[43m)\u001B[49m\n\u001B[0;32m     73\u001B[0m \u001B[38;5;28;01mfinally\u001B[39;00m:\n\u001B[0;32m     74\u001B[0m     \u001B[38;5;28;01mif\u001B[39;00m artist\u001B[38;5;241m.\u001B[39mget_agg_filter() \u001B[38;5;129;01mis\u001B[39;00m \u001B[38;5;129;01mnot\u001B[39;00m \u001B[38;5;28;01mNone\u001B[39;00m:\n",
      "File \u001B[1;32m~\\OneDrive\\Documents\\GitHub\\Projects\\venv\\Lib\\site-packages\\matplotlib\\axes\\_base.py:3028\u001B[0m, in \u001B[0;36m_AxesBase.draw\u001B[1;34m(self, renderer)\u001B[0m\n\u001B[0;32m   3025\u001B[0m     \u001B[38;5;28;01mfor\u001B[39;00m spine \u001B[38;5;129;01min\u001B[39;00m \u001B[38;5;28mself\u001B[39m\u001B[38;5;241m.\u001B[39mspines\u001B[38;5;241m.\u001B[39mvalues():\n\u001B[0;32m   3026\u001B[0m         artists\u001B[38;5;241m.\u001B[39mremove(spine)\n\u001B[1;32m-> 3028\u001B[0m \u001B[38;5;28;43mself\u001B[39;49m\u001B[38;5;241;43m.\u001B[39;49m\u001B[43m_update_title_position\u001B[49m\u001B[43m(\u001B[49m\u001B[43mrenderer\u001B[49m\u001B[43m)\u001B[49m\n\u001B[0;32m   3030\u001B[0m \u001B[38;5;28;01mif\u001B[39;00m \u001B[38;5;129;01mnot\u001B[39;00m \u001B[38;5;28mself\u001B[39m\u001B[38;5;241m.\u001B[39maxison:\n\u001B[0;32m   3031\u001B[0m     \u001B[38;5;28;01mfor\u001B[39;00m _axis \u001B[38;5;129;01min\u001B[39;00m \u001B[38;5;28mself\u001B[39m\u001B[38;5;241m.\u001B[39m_axis_map\u001B[38;5;241m.\u001B[39mvalues():\n",
      "File \u001B[1;32m~\\OneDrive\\Documents\\GitHub\\Projects\\venv\\Lib\\site-packages\\matplotlib\\axes\\_base.py:2963\u001B[0m, in \u001B[0;36m_AxesBase._update_title_position\u001B[1;34m(self, renderer)\u001B[0m\n\u001B[0;32m   2960\u001B[0m bb \u001B[38;5;241m=\u001B[39m \u001B[38;5;28;01mNone\u001B[39;00m\n\u001B[0;32m   2961\u001B[0m \u001B[38;5;28;01mif\u001B[39;00m (ax\u001B[38;5;241m.\u001B[39mxaxis\u001B[38;5;241m.\u001B[39mget_ticks_position() \u001B[38;5;129;01min\u001B[39;00m [\u001B[38;5;124m'\u001B[39m\u001B[38;5;124mtop\u001B[39m\u001B[38;5;124m'\u001B[39m, \u001B[38;5;124m'\u001B[39m\u001B[38;5;124munknown\u001B[39m\u001B[38;5;124m'\u001B[39m]\n\u001B[0;32m   2962\u001B[0m         \u001B[38;5;129;01mor\u001B[39;00m ax\u001B[38;5;241m.\u001B[39mxaxis\u001B[38;5;241m.\u001B[39mget_label_position() \u001B[38;5;241m==\u001B[39m \u001B[38;5;124m'\u001B[39m\u001B[38;5;124mtop\u001B[39m\u001B[38;5;124m'\u001B[39m):\n\u001B[1;32m-> 2963\u001B[0m     bb \u001B[38;5;241m=\u001B[39m \u001B[43max\u001B[49m\u001B[38;5;241;43m.\u001B[39;49m\u001B[43mxaxis\u001B[49m\u001B[38;5;241;43m.\u001B[39;49m\u001B[43mget_tightbbox\u001B[49m\u001B[43m(\u001B[49m\u001B[43mrenderer\u001B[49m\u001B[43m)\u001B[49m\n\u001B[0;32m   2964\u001B[0m \u001B[38;5;28;01mif\u001B[39;00m bb \u001B[38;5;129;01mis\u001B[39;00m \u001B[38;5;28;01mNone\u001B[39;00m:\n\u001B[0;32m   2965\u001B[0m     \u001B[38;5;28;01mif\u001B[39;00m \u001B[38;5;124m'\u001B[39m\u001B[38;5;124moutline\u001B[39m\u001B[38;5;124m'\u001B[39m \u001B[38;5;129;01min\u001B[39;00m ax\u001B[38;5;241m.\u001B[39mspines:\n\u001B[0;32m   2966\u001B[0m         \u001B[38;5;66;03m# Special case for colorbars:\u001B[39;00m\n",
      "File \u001B[1;32m~\\OneDrive\\Documents\\GitHub\\Projects\\venv\\Lib\\site-packages\\matplotlib\\axis.py:1325\u001B[0m, in \u001B[0;36mAxis.get_tightbbox\u001B[1;34m(self, renderer, for_layout_only)\u001B[0m\n\u001B[0;32m   1322\u001B[0m     renderer \u001B[38;5;241m=\u001B[39m \u001B[38;5;28mself\u001B[39m\u001B[38;5;241m.\u001B[39mfigure\u001B[38;5;241m.\u001B[39m_get_renderer()\n\u001B[0;32m   1323\u001B[0m ticks_to_draw \u001B[38;5;241m=\u001B[39m \u001B[38;5;28mself\u001B[39m\u001B[38;5;241m.\u001B[39m_update_ticks()\n\u001B[1;32m-> 1325\u001B[0m \u001B[38;5;28;43mself\u001B[39;49m\u001B[38;5;241;43m.\u001B[39;49m\u001B[43m_update_label_position\u001B[49m\u001B[43m(\u001B[49m\u001B[43mrenderer\u001B[49m\u001B[43m)\u001B[49m\n\u001B[0;32m   1327\u001B[0m \u001B[38;5;66;03m# go back to just this axis's tick labels\u001B[39;00m\n\u001B[0;32m   1328\u001B[0m tlb1, tlb2 \u001B[38;5;241m=\u001B[39m \u001B[38;5;28mself\u001B[39m\u001B[38;5;241m.\u001B[39m_get_ticklabel_bboxes(ticks_to_draw, renderer)\n",
      "File \u001B[1;32m~\\OneDrive\\Documents\\GitHub\\Projects\\venv\\Lib\\site-packages\\matplotlib\\axis.py:2304\u001B[0m, in \u001B[0;36mXAxis._update_label_position\u001B[1;34m(self, renderer)\u001B[0m\n\u001B[0;32m   2300\u001B[0m     \u001B[38;5;28;01mreturn\u001B[39;00m\n\u001B[0;32m   2302\u001B[0m \u001B[38;5;66;03m# get bounding boxes for this axis and any siblings\u001B[39;00m\n\u001B[0;32m   2303\u001B[0m \u001B[38;5;66;03m# that have been set by `fig.align_xlabels()`\u001B[39;00m\n\u001B[1;32m-> 2304\u001B[0m bboxes, bboxes2 \u001B[38;5;241m=\u001B[39m \u001B[38;5;28;43mself\u001B[39;49m\u001B[38;5;241;43m.\u001B[39;49m\u001B[43m_get_tick_boxes_siblings\u001B[49m\u001B[43m(\u001B[49m\u001B[43mrenderer\u001B[49m\u001B[38;5;241;43m=\u001B[39;49m\u001B[43mrenderer\u001B[49m\u001B[43m)\u001B[49m\n\u001B[0;32m   2306\u001B[0m x, y \u001B[38;5;241m=\u001B[39m \u001B[38;5;28mself\u001B[39m\u001B[38;5;241m.\u001B[39mlabel\u001B[38;5;241m.\u001B[39mget_position()\n\u001B[0;32m   2307\u001B[0m \u001B[38;5;28;01mif\u001B[39;00m \u001B[38;5;28mself\u001B[39m\u001B[38;5;241m.\u001B[39mlabel_position \u001B[38;5;241m==\u001B[39m \u001B[38;5;124m'\u001B[39m\u001B[38;5;124mbottom\u001B[39m\u001B[38;5;124m'\u001B[39m:\n",
      "File \u001B[1;32m~\\OneDrive\\Documents\\GitHub\\Projects\\venv\\Lib\\site-packages\\matplotlib\\axis.py:2100\u001B[0m, in \u001B[0;36mAxis._get_tick_boxes_siblings\u001B[1;34m(self, renderer)\u001B[0m\n\u001B[0;32m   2098\u001B[0m axis \u001B[38;5;241m=\u001B[39m \u001B[38;5;28mgetattr\u001B[39m(ax, \u001B[38;5;124mf\u001B[39m\u001B[38;5;124m\"\u001B[39m\u001B[38;5;132;01m{\u001B[39;00maxis_name\u001B[38;5;132;01m}\u001B[39;00m\u001B[38;5;124maxis\u001B[39m\u001B[38;5;124m\"\u001B[39m)\n\u001B[0;32m   2099\u001B[0m ticks_to_draw \u001B[38;5;241m=\u001B[39m axis\u001B[38;5;241m.\u001B[39m_update_ticks()\n\u001B[1;32m-> 2100\u001B[0m tlb, tlb2 \u001B[38;5;241m=\u001B[39m \u001B[43maxis\u001B[49m\u001B[38;5;241;43m.\u001B[39;49m\u001B[43m_get_ticklabel_bboxes\u001B[49m\u001B[43m(\u001B[49m\u001B[43mticks_to_draw\u001B[49m\u001B[43m,\u001B[49m\u001B[43m \u001B[49m\u001B[43mrenderer\u001B[49m\u001B[43m)\u001B[49m\n\u001B[0;32m   2101\u001B[0m bboxes\u001B[38;5;241m.\u001B[39mextend(tlb)\n\u001B[0;32m   2102\u001B[0m bboxes2\u001B[38;5;241m.\u001B[39mextend(tlb2)\n",
      "File \u001B[1;32m~\\OneDrive\\Documents\\GitHub\\Projects\\venv\\Lib\\site-packages\\matplotlib\\axis.py:1304\u001B[0m, in \u001B[0;36mAxis._get_ticklabel_bboxes\u001B[1;34m(self, ticks, renderer)\u001B[0m\n\u001B[0;32m   1302\u001B[0m \u001B[38;5;28;01mif\u001B[39;00m renderer \u001B[38;5;129;01mis\u001B[39;00m \u001B[38;5;28;01mNone\u001B[39;00m:\n\u001B[0;32m   1303\u001B[0m     renderer \u001B[38;5;241m=\u001B[39m \u001B[38;5;28mself\u001B[39m\u001B[38;5;241m.\u001B[39mfigure\u001B[38;5;241m.\u001B[39m_get_renderer()\n\u001B[1;32m-> 1304\u001B[0m \u001B[38;5;28;01mreturn\u001B[39;00m (\u001B[43m[\u001B[49m\u001B[43mtick\u001B[49m\u001B[38;5;241;43m.\u001B[39;49m\u001B[43mlabel1\u001B[49m\u001B[38;5;241;43m.\u001B[39;49m\u001B[43mget_window_extent\u001B[49m\u001B[43m(\u001B[49m\u001B[43mrenderer\u001B[49m\u001B[43m)\u001B[49m\n\u001B[0;32m   1305\u001B[0m \u001B[43m         \u001B[49m\u001B[38;5;28;43;01mfor\u001B[39;49;00m\u001B[43m \u001B[49m\u001B[43mtick\u001B[49m\u001B[43m \u001B[49m\u001B[38;5;129;43;01min\u001B[39;49;00m\u001B[43m \u001B[49m\u001B[43mticks\u001B[49m\u001B[43m \u001B[49m\u001B[38;5;28;43;01mif\u001B[39;49;00m\u001B[43m \u001B[49m\u001B[43mtick\u001B[49m\u001B[38;5;241;43m.\u001B[39;49m\u001B[43mlabel1\u001B[49m\u001B[38;5;241;43m.\u001B[39;49m\u001B[43mget_visible\u001B[49m\u001B[43m(\u001B[49m\u001B[43m)\u001B[49m\u001B[43m]\u001B[49m,\n\u001B[0;32m   1306\u001B[0m         [tick\u001B[38;5;241m.\u001B[39mlabel2\u001B[38;5;241m.\u001B[39mget_window_extent(renderer)\n\u001B[0;32m   1307\u001B[0m          \u001B[38;5;28;01mfor\u001B[39;00m tick \u001B[38;5;129;01min\u001B[39;00m ticks \u001B[38;5;28;01mif\u001B[39;00m tick\u001B[38;5;241m.\u001B[39mlabel2\u001B[38;5;241m.\u001B[39mget_visible()])\n",
      "File \u001B[1;32m~\\OneDrive\\Documents\\GitHub\\Projects\\venv\\Lib\\site-packages\\matplotlib\\axis.py:1304\u001B[0m, in \u001B[0;36m<listcomp>\u001B[1;34m(.0)\u001B[0m\n\u001B[0;32m   1302\u001B[0m \u001B[38;5;28;01mif\u001B[39;00m renderer \u001B[38;5;129;01mis\u001B[39;00m \u001B[38;5;28;01mNone\u001B[39;00m:\n\u001B[0;32m   1303\u001B[0m     renderer \u001B[38;5;241m=\u001B[39m \u001B[38;5;28mself\u001B[39m\u001B[38;5;241m.\u001B[39mfigure\u001B[38;5;241m.\u001B[39m_get_renderer()\n\u001B[1;32m-> 1304\u001B[0m \u001B[38;5;28;01mreturn\u001B[39;00m ([\u001B[43mtick\u001B[49m\u001B[38;5;241;43m.\u001B[39;49m\u001B[43mlabel1\u001B[49m\u001B[38;5;241;43m.\u001B[39;49m\u001B[43mget_window_extent\u001B[49m\u001B[43m(\u001B[49m\u001B[43mrenderer\u001B[49m\u001B[43m)\u001B[49m\n\u001B[0;32m   1305\u001B[0m          \u001B[38;5;28;01mfor\u001B[39;00m tick \u001B[38;5;129;01min\u001B[39;00m ticks \u001B[38;5;28;01mif\u001B[39;00m tick\u001B[38;5;241m.\u001B[39mlabel1\u001B[38;5;241m.\u001B[39mget_visible()],\n\u001B[0;32m   1306\u001B[0m         [tick\u001B[38;5;241m.\u001B[39mlabel2\u001B[38;5;241m.\u001B[39mget_window_extent(renderer)\n\u001B[0;32m   1307\u001B[0m          \u001B[38;5;28;01mfor\u001B[39;00m tick \u001B[38;5;129;01min\u001B[39;00m ticks \u001B[38;5;28;01mif\u001B[39;00m tick\u001B[38;5;241m.\u001B[39mlabel2\u001B[38;5;241m.\u001B[39mget_visible()])\n",
      "File \u001B[1;32m~\\OneDrive\\Documents\\GitHub\\Projects\\venv\\Lib\\site-packages\\matplotlib\\text.py:959\u001B[0m, in \u001B[0;36mText.get_window_extent\u001B[1;34m(self, renderer, dpi)\u001B[0m\n\u001B[0;32m    954\u001B[0m     \u001B[38;5;28;01mraise\u001B[39;00m \u001B[38;5;167;01mRuntimeError\u001B[39;00m(\n\u001B[0;32m    955\u001B[0m         \u001B[38;5;124m\"\u001B[39m\u001B[38;5;124mCannot get window extent of text w/o renderer. You likely \u001B[39m\u001B[38;5;124m\"\u001B[39m\n\u001B[0;32m    956\u001B[0m         \u001B[38;5;124m\"\u001B[39m\u001B[38;5;124mwant to call \u001B[39m\u001B[38;5;124m'\u001B[39m\u001B[38;5;124mfigure.draw_without_rendering()\u001B[39m\u001B[38;5;124m'\u001B[39m\u001B[38;5;124m first.\u001B[39m\u001B[38;5;124m\"\u001B[39m)\n\u001B[0;32m    958\u001B[0m \u001B[38;5;28;01mwith\u001B[39;00m cbook\u001B[38;5;241m.\u001B[39m_setattr_cm(\u001B[38;5;28mself\u001B[39m\u001B[38;5;241m.\u001B[39mfigure, dpi\u001B[38;5;241m=\u001B[39mdpi):\n\u001B[1;32m--> 959\u001B[0m     bbox, info, descent \u001B[38;5;241m=\u001B[39m \u001B[38;5;28;43mself\u001B[39;49m\u001B[38;5;241;43m.\u001B[39;49m\u001B[43m_get_layout\u001B[49m\u001B[43m(\u001B[49m\u001B[38;5;28;43mself\u001B[39;49m\u001B[38;5;241;43m.\u001B[39;49m\u001B[43m_renderer\u001B[49m\u001B[43m)\u001B[49m\n\u001B[0;32m    960\u001B[0m     x, y \u001B[38;5;241m=\u001B[39m \u001B[38;5;28mself\u001B[39m\u001B[38;5;241m.\u001B[39mget_unitless_position()\n\u001B[0;32m    961\u001B[0m     x, y \u001B[38;5;241m=\u001B[39m \u001B[38;5;28mself\u001B[39m\u001B[38;5;241m.\u001B[39mget_transform()\u001B[38;5;241m.\u001B[39mtransform((x, y))\n",
      "File \u001B[1;32m~\\OneDrive\\Documents\\GitHub\\Projects\\venv\\Lib\\site-packages\\matplotlib\\text.py:386\u001B[0m, in \u001B[0;36mText._get_layout\u001B[1;34m(self, renderer)\u001B[0m\n\u001B[0;32m    384\u001B[0m clean_line, ismath \u001B[38;5;241m=\u001B[39m \u001B[38;5;28mself\u001B[39m\u001B[38;5;241m.\u001B[39m_preprocess_math(line)\n\u001B[0;32m    385\u001B[0m \u001B[38;5;28;01mif\u001B[39;00m clean_line:\n\u001B[1;32m--> 386\u001B[0m     w, h, d \u001B[38;5;241m=\u001B[39m \u001B[43m_get_text_metrics_with_cache\u001B[49m\u001B[43m(\u001B[49m\n\u001B[0;32m    387\u001B[0m \u001B[43m        \u001B[49m\u001B[43mrenderer\u001B[49m\u001B[43m,\u001B[49m\u001B[43m \u001B[49m\u001B[43mclean_line\u001B[49m\u001B[43m,\u001B[49m\u001B[43m \u001B[49m\u001B[38;5;28;43mself\u001B[39;49m\u001B[38;5;241;43m.\u001B[39;49m\u001B[43m_fontproperties\u001B[49m\u001B[43m,\u001B[49m\n\u001B[0;32m    388\u001B[0m \u001B[43m        \u001B[49m\u001B[43mismath\u001B[49m\u001B[38;5;241;43m=\u001B[39;49m\u001B[43mismath\u001B[49m\u001B[43m,\u001B[49m\u001B[43m \u001B[49m\u001B[43mdpi\u001B[49m\u001B[38;5;241;43m=\u001B[39;49m\u001B[38;5;28;43mself\u001B[39;49m\u001B[38;5;241;43m.\u001B[39;49m\u001B[43mfigure\u001B[49m\u001B[38;5;241;43m.\u001B[39;49m\u001B[43mdpi\u001B[49m\u001B[43m)\u001B[49m\n\u001B[0;32m    389\u001B[0m \u001B[38;5;28;01melse\u001B[39;00m:\n\u001B[0;32m    390\u001B[0m     w \u001B[38;5;241m=\u001B[39m h \u001B[38;5;241m=\u001B[39m d \u001B[38;5;241m=\u001B[39m \u001B[38;5;241m0\u001B[39m\n",
      "File \u001B[1;32m~\\OneDrive\\Documents\\GitHub\\Projects\\venv\\Lib\\site-packages\\matplotlib\\text.py:97\u001B[0m, in \u001B[0;36m_get_text_metrics_with_cache\u001B[1;34m(renderer, text, fontprop, ismath, dpi)\u001B[0m\n\u001B[0;32m     94\u001B[0m \u001B[38;5;250m\u001B[39m\u001B[38;5;124;03m\"\"\"Call ``renderer.get_text_width_height_descent``, caching the results.\"\"\"\u001B[39;00m\n\u001B[0;32m     95\u001B[0m \u001B[38;5;66;03m# Cached based on a copy of fontprop so that later in-place mutations of\u001B[39;00m\n\u001B[0;32m     96\u001B[0m \u001B[38;5;66;03m# the passed-in argument do not mess up the cache.\u001B[39;00m\n\u001B[1;32m---> 97\u001B[0m \u001B[38;5;28;01mreturn\u001B[39;00m \u001B[43m_get_text_metrics_with_cache_impl\u001B[49m\u001B[43m(\u001B[49m\n\u001B[0;32m     98\u001B[0m \u001B[43m    \u001B[49m\u001B[43mweakref\u001B[49m\u001B[38;5;241;43m.\u001B[39;49m\u001B[43mref\u001B[49m\u001B[43m(\u001B[49m\u001B[43mrenderer\u001B[49m\u001B[43m)\u001B[49m\u001B[43m,\u001B[49m\u001B[43m \u001B[49m\u001B[43mtext\u001B[49m\u001B[43m,\u001B[49m\u001B[43m \u001B[49m\u001B[43mfontprop\u001B[49m\u001B[38;5;241;43m.\u001B[39;49m\u001B[43mcopy\u001B[49m\u001B[43m(\u001B[49m\u001B[43m)\u001B[49m\u001B[43m,\u001B[49m\u001B[43m \u001B[49m\u001B[43mismath\u001B[49m\u001B[43m,\u001B[49m\u001B[43m \u001B[49m\u001B[43mdpi\u001B[49m\u001B[43m)\u001B[49m\n",
      "File \u001B[1;32m~\\OneDrive\\Documents\\GitHub\\Projects\\venv\\Lib\\site-packages\\matplotlib\\text.py:105\u001B[0m, in \u001B[0;36m_get_text_metrics_with_cache_impl\u001B[1;34m(renderer_ref, text, fontprop, ismath, dpi)\u001B[0m\n\u001B[0;32m    101\u001B[0m \u001B[38;5;129m@functools\u001B[39m\u001B[38;5;241m.\u001B[39mlru_cache(\u001B[38;5;241m4096\u001B[39m)\n\u001B[0;32m    102\u001B[0m \u001B[38;5;28;01mdef\u001B[39;00m \u001B[38;5;21m_get_text_metrics_with_cache_impl\u001B[39m(\n\u001B[0;32m    103\u001B[0m         renderer_ref, text, fontprop, ismath, dpi):\n\u001B[0;32m    104\u001B[0m     \u001B[38;5;66;03m# dpi is unused, but participates in cache invalidation (via the renderer).\u001B[39;00m\n\u001B[1;32m--> 105\u001B[0m     \u001B[38;5;28;01mreturn\u001B[39;00m \u001B[43mrenderer_ref\u001B[49m\u001B[43m(\u001B[49m\u001B[43m)\u001B[49m\u001B[38;5;241;43m.\u001B[39;49m\u001B[43mget_text_width_height_descent\u001B[49m\u001B[43m(\u001B[49m\u001B[43mtext\u001B[49m\u001B[43m,\u001B[49m\u001B[43m \u001B[49m\u001B[43mfontprop\u001B[49m\u001B[43m,\u001B[49m\u001B[43m \u001B[49m\u001B[43mismath\u001B[49m\u001B[43m)\u001B[49m\n",
      "File \u001B[1;32m~\\OneDrive\\Documents\\GitHub\\Projects\\venv\\Lib\\site-packages\\matplotlib\\backends\\backend_agg.py:230\u001B[0m, in \u001B[0;36mRendererAgg.get_text_width_height_descent\u001B[1;34m(self, s, prop, ismath)\u001B[0m\n\u001B[0;32m    226\u001B[0m     \u001B[38;5;28;01mreturn\u001B[39;00m \u001B[38;5;28msuper\u001B[39m()\u001B[38;5;241m.\u001B[39mget_text_width_height_descent(s, prop, ismath)\n\u001B[0;32m    228\u001B[0m \u001B[38;5;28;01mif\u001B[39;00m ismath:\n\u001B[0;32m    229\u001B[0m     ox, oy, width, height, descent, font_image \u001B[38;5;241m=\u001B[39m \\\n\u001B[1;32m--> 230\u001B[0m         \u001B[38;5;28;43mself\u001B[39;49m\u001B[38;5;241;43m.\u001B[39;49m\u001B[43mmathtext_parser\u001B[49m\u001B[38;5;241;43m.\u001B[39;49m\u001B[43mparse\u001B[49m\u001B[43m(\u001B[49m\u001B[43ms\u001B[49m\u001B[43m,\u001B[49m\u001B[43m \u001B[49m\u001B[38;5;28;43mself\u001B[39;49m\u001B[38;5;241;43m.\u001B[39;49m\u001B[43mdpi\u001B[49m\u001B[43m,\u001B[49m\u001B[43m \u001B[49m\u001B[43mprop\u001B[49m\u001B[43m)\u001B[49m\n\u001B[0;32m    231\u001B[0m     \u001B[38;5;28;01mreturn\u001B[39;00m width, height, descent\n\u001B[0;32m    233\u001B[0m font \u001B[38;5;241m=\u001B[39m \u001B[38;5;28mself\u001B[39m\u001B[38;5;241m.\u001B[39m_prepare_font(prop)\n",
      "File \u001B[1;32m~\\OneDrive\\Documents\\GitHub\\Projects\\venv\\Lib\\site-packages\\matplotlib\\mathtext.py:226\u001B[0m, in \u001B[0;36mMathTextParser.parse\u001B[1;34m(self, s, dpi, prop)\u001B[0m\n\u001B[0;32m    222\u001B[0m \u001B[38;5;66;03m# lru_cache can't decorate parse() directly because prop\u001B[39;00m\n\u001B[0;32m    223\u001B[0m \u001B[38;5;66;03m# is mutable; key the cache using an internal copy (see\u001B[39;00m\n\u001B[0;32m    224\u001B[0m \u001B[38;5;66;03m# text._get_text_metrics_with_cache for a similar case).\u001B[39;00m\n\u001B[0;32m    225\u001B[0m prop \u001B[38;5;241m=\u001B[39m prop\u001B[38;5;241m.\u001B[39mcopy() \u001B[38;5;28;01mif\u001B[39;00m prop \u001B[38;5;129;01mis\u001B[39;00m \u001B[38;5;129;01mnot\u001B[39;00m \u001B[38;5;28;01mNone\u001B[39;00m \u001B[38;5;28;01melse\u001B[39;00m \u001B[38;5;28;01mNone\u001B[39;00m\n\u001B[1;32m--> 226\u001B[0m \u001B[38;5;28;01mreturn\u001B[39;00m \u001B[38;5;28;43mself\u001B[39;49m\u001B[38;5;241;43m.\u001B[39;49m\u001B[43m_parse_cached\u001B[49m\u001B[43m(\u001B[49m\u001B[43ms\u001B[49m\u001B[43m,\u001B[49m\u001B[43m \u001B[49m\u001B[43mdpi\u001B[49m\u001B[43m,\u001B[49m\u001B[43m \u001B[49m\u001B[43mprop\u001B[49m\u001B[43m)\u001B[49m\n",
      "File \u001B[1;32m~\\OneDrive\\Documents\\GitHub\\Projects\\venv\\Lib\\site-packages\\matplotlib\\mathtext.py:247\u001B[0m, in \u001B[0;36mMathTextParser._parse_cached\u001B[1;34m(self, s, dpi, prop)\u001B[0m\n\u001B[0;32m    244\u001B[0m \u001B[38;5;28;01mif\u001B[39;00m \u001B[38;5;28mself\u001B[39m\u001B[38;5;241m.\u001B[39m_parser \u001B[38;5;129;01mis\u001B[39;00m \u001B[38;5;28;01mNone\u001B[39;00m:  \u001B[38;5;66;03m# Cache the parser globally.\u001B[39;00m\n\u001B[0;32m    245\u001B[0m     \u001B[38;5;28mself\u001B[39m\u001B[38;5;241m.\u001B[39m\u001B[38;5;18m__class__\u001B[39m\u001B[38;5;241m.\u001B[39m_parser \u001B[38;5;241m=\u001B[39m _mathtext\u001B[38;5;241m.\u001B[39mParser()\n\u001B[1;32m--> 247\u001B[0m box \u001B[38;5;241m=\u001B[39m \u001B[38;5;28;43mself\u001B[39;49m\u001B[38;5;241;43m.\u001B[39;49m\u001B[43m_parser\u001B[49m\u001B[38;5;241;43m.\u001B[39;49m\u001B[43mparse\u001B[49m\u001B[43m(\u001B[49m\u001B[43ms\u001B[49m\u001B[43m,\u001B[49m\u001B[43m \u001B[49m\u001B[43mfontset\u001B[49m\u001B[43m,\u001B[49m\u001B[43m \u001B[49m\u001B[43mfontsize\u001B[49m\u001B[43m,\u001B[49m\u001B[43m \u001B[49m\u001B[43mdpi\u001B[49m\u001B[43m)\u001B[49m\n\u001B[0;32m    248\u001B[0m output \u001B[38;5;241m=\u001B[39m _mathtext\u001B[38;5;241m.\u001B[39mship(box)\n\u001B[0;32m    249\u001B[0m \u001B[38;5;28;01mif\u001B[39;00m \u001B[38;5;28mself\u001B[39m\u001B[38;5;241m.\u001B[39m_output_type \u001B[38;5;241m==\u001B[39m \u001B[38;5;124m\"\u001B[39m\u001B[38;5;124mvector\u001B[39m\u001B[38;5;124m\"\u001B[39m:\n",
      "File \u001B[1;32m~\\OneDrive\\Documents\\GitHub\\Projects\\venv\\Lib\\site-packages\\matplotlib\\_mathtext.py:1995\u001B[0m, in \u001B[0;36mParser.parse\u001B[1;34m(self, s, fonts_object, fontsize, dpi)\u001B[0m\n\u001B[0;32m   1992\u001B[0m     result \u001B[38;5;241m=\u001B[39m \u001B[38;5;28mself\u001B[39m\u001B[38;5;241m.\u001B[39m_expression\u001B[38;5;241m.\u001B[39mparseString(s)\n\u001B[0;32m   1993\u001B[0m \u001B[38;5;28;01mexcept\u001B[39;00m ParseBaseException \u001B[38;5;28;01mas\u001B[39;00m err:\n\u001B[0;32m   1994\u001B[0m     \u001B[38;5;66;03m# explain becomes a plain method on pyparsing 3 (err.explain(0)).\u001B[39;00m\n\u001B[1;32m-> 1995\u001B[0m     \u001B[38;5;28;01mraise\u001B[39;00m \u001B[38;5;167;01mValueError\u001B[39;00m(\u001B[38;5;124m\"\u001B[39m\u001B[38;5;130;01m\\n\u001B[39;00m\u001B[38;5;124m\"\u001B[39m \u001B[38;5;241m+\u001B[39m ParseException\u001B[38;5;241m.\u001B[39mexplain(err, \u001B[38;5;241m0\u001B[39m)) \u001B[38;5;28;01mfrom\u001B[39;00m \u001B[38;5;28mNone\u001B[39m\n\u001B[0;32m   1996\u001B[0m \u001B[38;5;28mself\u001B[39m\u001B[38;5;241m.\u001B[39m_state_stack \u001B[38;5;241m=\u001B[39m \u001B[38;5;28;01mNone\u001B[39;00m\n\u001B[0;32m   1997\u001B[0m \u001B[38;5;28mself\u001B[39m\u001B[38;5;241m.\u001B[39m_in_subscript_or_superscript \u001B[38;5;241m=\u001B[39m \u001B[38;5;28;01mFalse\u001B[39;00m\n",
      "\u001B[1;31mValueError\u001B[0m: \nJoey Bada$$\n         ^\nParseException: Expected end of text, found '$'  (at char 9), (line:1, col:10)"
     ]
    },
    {
     "data": {
      "text/plain": "<Figure size 640x480 with 1 Axes>"
     },
     "metadata": {},
     "output_type": "display_data"
    }
   ],
   "source": [
    "\n",
    "# Example of a bar chart for 'type'\n",
    "sns.countplot(x='artist_name', data=df)\n",
    "plt.title('Count of Types')\n",
    "plt.xlabel('artist_name')\n",
    "plt.ylabel('Count')\n",
    "plt.show()\n"
   ]
  },
  {
   "cell_type": "code",
   "execution_count": 54,
   "metadata": {},
   "outputs": [
    {
     "name": "stdout",
     "output_type": "stream",
     "text": [
      "<class 'pandas.core.frame.DataFrame'>\n",
      "RangeIndex: 4338 entries, 0 to 4337\n",
      "Data columns (total 38 columns):\n",
      " #   Column              Non-Null Count  Dtype  \n",
      "---  ------              --------------  -----  \n",
      " 0   index               4338 non-null   int64  \n",
      " 1   id                  4338 non-null   object \n",
      " 2   name                4338 non-null   object \n",
      " 3   popularity          4338 non-null   int64  \n",
      " 4   type                4338 non-null   object \n",
      " 5   is_local            4338 non-null   bool   \n",
      " 6   explicit            4338 non-null   bool   \n",
      " 7   duration_ms         4338 non-null   int64  \n",
      " 8   disc_number         4338 non-null   int64  \n",
      " 9   track_number        4338 non-null   int64  \n",
      " 10  artist_id           4338 non-null   object \n",
      " 11  artist_name         4338 non-null   object \n",
      " 12  album_artist_id     4338 non-null   object \n",
      " 13  album_artist_name   4338 non-null   object \n",
      " 14  album_id            4338 non-null   object \n",
      " 15  album_name          4338 non-null   object \n",
      " 16  album_release_date  4338 non-null   object \n",
      " 17  album_tracks        4338 non-null   int64  \n",
      " 18  album_type          4338 non-null   object \n",
      " 19  genres              4338 non-null   object \n",
      " 20  album_genres        4338 non-null   object \n",
      " 21  danceability        4338 non-null   float64\n",
      " 22  energy              4338 non-null   float64\n",
      " 23  key                 4338 non-null   int64  \n",
      " 24  loudness            4338 non-null   float64\n",
      " 25  mode                4338 non-null   int64  \n",
      " 26  speechiness         4338 non-null   float64\n",
      " 27  acousticness        4338 non-null   float64\n",
      " 28  instrumentalness    4338 non-null   float64\n",
      " 29  liveness            4338 non-null   float64\n",
      " 30  valence             4338 non-null   float64\n",
      " 31  tempo               4338 non-null   float64\n",
      " 32  uri                 4338 non-null   object \n",
      " 33  track_href          4338 non-null   object \n",
      " 34  analysis_url        4338 non-null   object \n",
      " 35  time_signature      4338 non-null   int64  \n",
      " 36  ratings             4338 non-null   int64  \n",
      " 37  prob_ratings        4338 non-null   float64\n",
      "dtypes: bool(2), float64(10), int64(10), object(16)\n",
      "memory usage: 1.2+ MB\n"
     ]
    }
   ],
   "source": [
    "recommendation_tracks_df.info()"
   ]
  },
  {
   "cell_type": "code",
   "execution_count": null,
   "metadata": {},
   "outputs": [],
   "source": []
  },
  {
   "cell_type": "code",
   "execution_count": null,
   "metadata": {},
   "outputs": [],
   "source": []
  },
  {
   "cell_type": "code",
   "execution_count": null,
   "metadata": {},
   "outputs": [],
   "source": []
  }
 ],
 "metadata": {
  "kernelspec": {
   "display_name": "Python 3",
   "language": "python",
   "name": "python3"
  },
  "language_info": {
   "codemirror_mode": {
    "name": "ipython",
    "version": 3
   },
   "file_extension": ".py",
   "mimetype": "text/x-python",
   "name": "python",
   "nbconvert_exporter": "python",
   "pygments_lexer": "ipython3",
   "version": "3.8.5"
  }
 },
 "nbformat": 4,
 "nbformat_minor": 4
}
